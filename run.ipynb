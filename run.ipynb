{
 "cells": [
  {
   "cell_type": "code",
   "execution_count": 23,
   "metadata": {},
   "outputs": [],
   "source": [
    "import numpy as np\n",
    "import matplotlib.pyplot as plt\n",
    "import random\n",
    "try:\n",
    "    import importlib\n",
    "    importlib.reload(h)\n",
    "    importlib.reload(f)\n",
    "    importlib.reload(d)\n",
    "except NameError: # It hasn't been imported yet\n",
    "    import helpers as h\n",
    "    import implementations as f\n",
    "    import data_processing as d"
   ]
  },
  {
   "cell_type": "code",
   "execution_count": 24,
   "metadata": {},
   "outputs": [
    {
     "name": "stdout",
     "output_type": "stream",
     "text": [
      "Gradient Descent(1/2): loss=0.05153391102516714\n",
      "(0.05153391102516714, array([-0.0505865,  0.203718 ]))\n"
     ]
    }
   ],
   "source": [
    "#Functions testing\n",
    "\n",
    "y = np.array([0.1, 0.3, 0.5])\n",
    "tx = np.array([[2.3, 3.2],\n",
    "       [1. , 0.1],\n",
    "       [1.4, 2.3]])\n",
    "initial_w = np.array([0.5, 1. ])\n",
    "\n",
    "print(f.mean_squared_error_gd(y, tx, initial_w, 2, 0.1))\n"
   ]
  },
  {
   "cell_type": "markdown",
   "metadata": {},
   "source": [
    "# Data preprocessing and feature selections"
   ]
  },
  {
   "cell_type": "markdown",
   "metadata": {},
   "source": [
    "## Data preprocessing"
   ]
  },
  {
   "cell_type": "code",
   "execution_count": 2,
   "metadata": {},
   "outputs": [],
   "source": [
    "#For this to work, the data folder needs to be one level above the project folder and the folder name needs\n",
    "#to be 'data'\n",
    "data_folder = '../data/'\n",
    "x_train, x_test, y_train, train_ids, test_ids = h.load_csv_data(data_folder)\n"
   ]
  },
  {
   "cell_type": "code",
   "execution_count": 3,
   "metadata": {},
   "outputs": [],
   "source": [
    "#load all the features names and remove the ID column\n",
    "features_name = np.genfromtxt('../data/x_train.csv', delimiter=',', dtype=str, max_rows=1)[1:] "
   ]
  },
  {
   "cell_type": "markdown",
   "metadata": {},
   "source": [
    "## Feature selection\n",
    "\n",
    "one paper on internet suggests to use these features : \n",
    "\n",
    " _RFHYPE5, TOLDHI2, _CHOLCHK, _BMI5, SMOKE100, CVDSTRK3, DIABETE3, _TOTINDA, _FRTLT1, _VEGLT1, _RFDRHV5, HLTHPLN1, MEDCOST, GENHLTH, MENTHLTH, PHYSHLTH, DIFFWALK, SEX, _AGEG5YR, EDUCA, and INCOME2\n",
    "\n",
    " then, iterating through them, it removes the missing values, made the data binary when possible, removed the 'don't know, not sure', and ordinal (categorical) variables ares changed to 0,1,2,..., and renamed them"
   ]
  },
  {
   "cell_type": "markdown",
   "metadata": {},
   "source": [
    "# Main"
   ]
  },
  {
   "cell_type": "code",
   "execution_count": 4,
   "metadata": {},
   "outputs": [],
   "source": [
    "#Select the important features\n",
    "features_list = ['_RFHYPE5', 'TOLDHI2', '_CHOLCHK', '_BMI5', 'SMOKE100', 'CVDSTRK3', 'DIABETE3', '_TOTINDA', '_FRTLT1', '_VEGLT1', '_RFDRHV5', \n",
    "                 'HLTHPLN1', 'MEDCOST', 'GENHLTH', 'MENTHLTH', 'PHYSHLTH', 'DIFFWALK', 'SEX', '_AGEG5YR', 'EDUCA', 'INCOME2']\n",
    "\n",
    "#Create a mask to filter the data\n",
    "mask = np.isin(features_name, features_list)\n",
    "\n",
    "x_train_featured = x_train[:, mask]\n",
    "x_test_featured = x_test[:, mask]"
   ]
  },
  {
   "cell_type": "code",
   "execution_count": 5,
   "metadata": {},
   "outputs": [
    {
     "name": "stdout",
     "output_type": "stream",
     "text": [
      "(257733, 21) (257733,) (109379, 21) (257733,)\n"
     ]
    }
   ],
   "source": [
    "#remove all missing values on X and remove corresponding lines in Y and ids\n",
    "\n",
    "x_train_featured_clean = x_train_featured[~np.isnan(x_train_featured).any(axis=1)]\n",
    "#x_test_featured_clean = x_test_featured[~np.isnan(x_test_featured).any(axis=1)]\n",
    "\n",
    "y_train_clean = y_train[~np.isnan(x_train_featured).any(axis=1)]\n",
    "\n",
    "train_ids_filtered = train_ids[~np.isnan(x_train_featured).any(axis=1)]\n",
    "#test_ids_filtered = test_ids[~np.isnan(x_test_featured).any(axis=1)]\n",
    "\n",
    "print(x_train_featured_clean.shape, y_train_clean.shape, x_test_featured.shape, train_ids_filtered.shape)\n"
   ]
  },
  {
   "cell_type": "markdown",
   "metadata": {},
   "source": [
    "### We want to clean the data for each feature, making them binary for yes/no, etc... and rename them"
   ]
  },
  {
   "cell_type": "code",
   "execution_count": 6,
   "metadata": {},
   "outputs": [],
   "source": [
    "#train data\n",
    "\n",
    "x_train_processed, y_train_processed, ids_train_processed = d.feature_processing(x_train_featured_clean, y_train_clean, train_ids_filtered)"
   ]
  },
  {
   "cell_type": "code",
   "execution_count": 7,
   "metadata": {},
   "outputs": [],
   "source": [
    "#Test data\n",
    "x_test_processed = d.feature_processing_test(x_test_featured)"
   ]
  },
  {
   "cell_type": "markdown",
   "metadata": {},
   "source": [
    "### Now that the preprocessing has been done, we can format the data to be used by the algorithms"
   ]
  },
  {
   "cell_type": "code",
   "execution_count": 8,
   "metadata": {},
   "outputs": [],
   "source": [
    "tX_train = np.c_[np.ones((len(y_train_processed), 1)), x_train_processed]\n",
    "tX_test = np.c_[np.ones((len(x_test_featured), 1)), x_test_featured]"
   ]
  },
  {
   "cell_type": "markdown",
   "metadata": {},
   "source": [
    "## And then, we can run the algorithms"
   ]
  },
  {
   "cell_type": "markdown",
   "metadata": {},
   "source": [
    "1. MSE gradient descent"
   ]
  },
  {
   "cell_type": "code",
   "execution_count": 20,
   "metadata": {},
   "outputs": [
    {
     "name": "stdout",
     "output_type": "stream",
     "text": [
      "Gradient Descent(499/499): loss=0.32769387068796324\n"
     ]
    }
   ],
   "source": [
    "#Compute gradient descent with MSE as loss function (see functions.py for the function)\n",
    "\n",
    "initial_w = [random.choice([1, -1]) for i in range(len(tX_train[0]))]\n",
    "\n",
    "loss_mse_gd, w_mse_gd = f.mean_squared_error_gd(y_train_processed, tX_train, initial_w, 500, 0.01)"
   ]
  },
  {
   "cell_type": "code",
   "execution_count": 22,
   "metadata": {},
   "outputs": [
    {
     "name": "stdout",
     "output_type": "stream",
     "text": [
      "weights = \n",
      "\n",
      " [-1.12003736  0.04369493  0.00924979  0.00405113 -0.76925385  0.55948445\n",
      "  0.34281681 -0.99374111 -0.17802971  0.18945982 -0.10338647 -0.01428739\n",
      "  0.63213463  0.17630682 -0.48662352  0.69059892 -0.0125298  -1.04848411\n",
      "  0.62677997 -0.43484478  0.50208397  0.40486598] \n",
      "\n",
      " Loss =  0.32769387068796324 \n",
      "\n",
      "*****************************************************************************  \n",
      "\n",
      " Train sample : \n",
      " Heart attack rate =  0.09400982168649387 \n",
      " \n",
      " Test sample : \n",
      " Heart attack rate =  0.03527185291509339\n"
     ]
    }
   ],
   "source": [
    "#Test the model on the test sample. Do we need to standardize ?\n",
    "\n",
    "y_test = tX_test.dot(w_mse_gd)\n",
    "y_test_rounded = np.where(y_test > 0, 1, -1) #not sure about this line\n",
    "\n",
    "print('weights = \\n\\n', w_mse_gd,'\\n\\n Loss = ', loss_mse_gd,'\\n\\n*****************************************************************************',\n",
    "      ' \\n\\n Train sample : \\n', 'Heart attack rate = ', np.count_nonzero(y_train_processed == 1)/len(y_train_processed), '\\n \\n Test sample : \\n', 'Heart attack rate = ', np.count_nonzero(y_test_rounded == 1)/len(y_test_rounded))"
   ]
  },
  {
   "cell_type": "code",
   "execution_count": 30,
   "metadata": {},
   "outputs": [],
   "source": [
    "h.create_csv_submission(test_ids, y_test_rounded, 'submission.csv')"
   ]
  },
  {
   "cell_type": "markdown",
   "metadata": {},
   "source": [
    "2. MSE SGD"
   ]
  },
  {
   "cell_type": "code",
   "execution_count": 38,
   "metadata": {},
   "outputs": [
    {
     "name": "stdout",
     "output_type": "stream",
     "text": [
      "SGD iter. 99/99: loss=0.8913555580611868, w0=-1.0957512141863186, w1=0.6218335454261331\n"
     ]
    }
   ],
   "source": [
    "loss_mse_sgd, w_mse_sgd = f.mean_squared_error_sgd(y_train_processed, tX_train, initial_w, 100, 0.001)"
   ]
  },
  {
   "cell_type": "code",
   "execution_count": 39,
   "metadata": {},
   "outputs": [
    {
     "name": "stdout",
     "output_type": "stream",
     "text": [
      "weights = \n",
      " [-1.09575121  0.62183355 -0.01184333 -0.06391322 -1.02483247  0.91982737\n",
      "  0.9950234  -1.06192009 -1.07145493  0.95977936 -1.28126005  0.47825127\n",
      "  0.87661805  0.98765948 -1.00156047  0.90492215  0.07786516 -1.02807118\n",
      "  0.90289457 -1.01769473  0.9575455   0.94399984] \n",
      " Loss =  0.8913555580611868 \n",
      "*****************************************************************************  \n",
      " Train sample : \n",
      " Heart attack rate =  0.09400982168649387 \n",
      " \n",
      " Test sample : \n",
      " Heart attack rate =  0.08267583356951518\n"
     ]
    }
   ],
   "source": [
    "y_test_sgd = tX_test.dot(w_mse_sgd)\n",
    "y_test_rounded_sgd = np.where(y_test_sgd > 0, 1, -1)\n",
    "\n",
    "print('weights = \\n', w_mse_sgd,'\\n Loss = ', loss_mse_sgd,'\\n*****************************************************************************',\n",
    "      ' \\n Train sample : \\n', 'Heart attack rate = ', np.count_nonzero(y_train_processed == 1)/len(y_train_processed), '\\n \\n Test sample : \\n', 'Heart attack rate = ', np.count_nonzero(y_test_rounded_sgd == 1)/len(y_test_rounded_sgd))"
   ]
  },
  {
   "cell_type": "code",
   "execution_count": 36,
   "metadata": {},
   "outputs": [],
   "source": [
    "h.create_csv_submission(test_ids, y_test_rounded_sgd, 'submission_sgd.csv')"
   ]
  },
  {
   "cell_type": "markdown",
   "metadata": {},
   "source": [
    "3. Least squares"
   ]
  },
  {
   "cell_type": "code",
   "execution_count": 40,
   "metadata": {},
   "outputs": [],
   "source": [
    "loss_ls, w_ls = f.least_squares(y_train_processed, tX_train)"
   ]
  },
  {
   "cell_type": "code",
   "execution_count": 41,
   "metadata": {},
   "outputs": [
    {
     "name": "stdout",
     "output_type": "stream",
     "text": [
      "weights = \n",
      " [-4.23458311e-01  6.69229048e-02  1.84255656e-03 -2.88677208e-04\n",
      " -1.72692968e-02 -1.45978253e-02 -7.62584533e-02 -3.73059100e-01\n",
      " -4.33297730e-02 -1.06050366e-01  1.03039949e-03 -6.91952059e-03\n",
      " -9.97705263e-02 -4.55439527e-02 -6.73076101e-02  2.69260672e-02\n",
      "  2.23087967e-02 -2.36533255e-01  3.86932707e-02 -6.06623971e-03\n",
      " -8.09010894e-03 -9.17165058e-03] \n",
      " Loss =  0.14512298742909363 \n",
      "*****************************************************************************  \n",
      " Train sample : \n",
      " Heart attack rate =  0.09400982168649387 \n",
      " \n",
      " Test sample : \n",
      " Heart attack rate =  0.0014993737371890399\n"
     ]
    }
   ],
   "source": [
    "\n",
    "y_test_ls = tX_test.dot(w_ls)\n",
    "y_test_ls = np.where(y_test_ls > 0, 1, -1)\n",
    "\n",
    "print('weights = \\n', w_ls,'\\n Loss = ', loss_ls,'\\n*****************************************************************************',\n",
    "      ' \\n Train sample : \\n', 'Heart attack rate = ', np.count_nonzero(y_train_processed == 1)/len(y_train_processed), '\\n \\n Test sample : \\n', 'Heart attack rate = ', np.count_nonzero(y_test_ls == 1)/len(y_test_ls))"
   ]
  },
  {
   "cell_type": "markdown",
   "metadata": {},
   "source": [
    "4. Ridge regression"
   ]
  },
  {
   "cell_type": "code",
   "execution_count": 53,
   "metadata": {},
   "outputs": [],
   "source": [
    "loss_ridge, w_ridge = f.ridge_regression(y_train_processed, tX_train, 0.01)"
   ]
  },
  {
   "cell_type": "code",
   "execution_count": 54,
   "metadata": {},
   "outputs": [
    {
     "name": "stdout",
     "output_type": "stream",
     "text": [
      "weights = \n",
      " [-0.16377828  0.04761936  0.0022347  -0.00075101 -0.03589838 -0.03794182\n",
      " -0.08334175 -0.30033357 -0.05525385 -0.10661762 -0.01748007 -0.01083984\n",
      " -0.11183888 -0.04632714 -0.07325671 -0.03681777  0.01920381 -0.08080507\n",
      " -0.01634787 -0.01536691 -0.01296922 -0.01597534] \n",
      " Loss =  0.14581618262297555 \n",
      "*****************************************************************************  \n",
      " Train sample : \n",
      " Heart attack rate =  0.09400982168649387 \n",
      " \n",
      " Test sample : \n",
      " Heart attack rate =  0.0007222593002313058\n"
     ]
    }
   ],
   "source": [
    "y_test_ridge = tX_test.dot(w_ridge)\n",
    "y_test_ridge = np.where(y_test_ridge > 0, 1, -1)\n",
    "\n",
    "print('weights = \\n', w_ridge,'\\n Loss = ', loss_ridge,'\\n*****************************************************************************',\n",
    "      ' \\n Train sample : \\n', 'Heart attack rate = ', np.count_nonzero(y_train_processed == 1)/len(y_train_processed), '\\n \\n Test sample : \\n', 'Heart attack rate = ', np.count_nonzero(y_test_ridge == 1)/len(y_test_ridge))"
   ]
  },
  {
   "cell_type": "markdown",
   "metadata": {},
   "source": [
    "5. Logistic regression"
   ]
  },
  {
   "cell_type": "code",
   "execution_count": 100,
   "metadata": {},
   "outputs": [
    {
     "name": "stdout",
     "output_type": "stream",
     "text": [
      "Gradient Descent(0/99): loss=12.664567912987415, w0=-0.6112201862116786, w1=-3.161829064379262\n",
      "Gradient Descent(1/99): loss=17.640293270782664, w0=-0.6112201862116786, w1=-3.161829064379262\n",
      "Gradient Descent(2/99): loss=17.640293270782664, w0=-0.6112201862116786, w1=-3.161829064379262\n",
      "Gradient Descent(3/99): loss=17.640293270782664, w0=-0.6112201862116786, w1=-3.161829064379262\n",
      "Gradient Descent(4/99): loss=17.640293270782664, w0=-0.6112201862116786, w1=-3.161829064379262\n",
      "Gradient Descent(5/99): loss=17.640293270782664, w0=-0.6112201862116786, w1=-3.161829064379262\n",
      "Gradient Descent(6/99): loss=17.640293270782664, w0=-0.6112201862116786, w1=-3.161829064379262\n",
      "Gradient Descent(7/99): loss=17.640293270782664, w0=-0.6112201862116786, w1=-3.161829064379262\n",
      "Gradient Descent(8/99): loss=17.640293270782664, w0=-0.6112201862116786, w1=-3.161829064379262\n",
      "Gradient Descent(9/99): loss=17.640293270782664, w0=-0.6112201862116786, w1=-3.161829064379262\n",
      "Gradient Descent(10/99): loss=17.640293270782664, w0=-0.6112201862116786, w1=-3.161829064379262\n",
      "Gradient Descent(11/99): loss=17.640293270782664, w0=-0.6112201862116786, w1=-3.161829064379262\n",
      "Gradient Descent(12/99): loss=17.640293270782664, w0=-0.6112201862116786, w1=-3.161829064379262\n",
      "Gradient Descent(13/99): loss=17.640293270782664, w0=-0.6112201862116786, w1=-3.161829064379262\n",
      "Gradient Descent(14/99): loss=17.640293270782664, w0=-0.6112201862116786, w1=-3.161829064379262\n",
      "Gradient Descent(15/99): loss=17.640293270782664, w0=-0.6112201862116786, w1=-3.161829064379262\n",
      "Gradient Descent(16/99): loss=17.640293270782664, w0=-0.6112201862116786, w1=-3.161829064379262\n",
      "Gradient Descent(17/99): loss=17.640293270782664, w0=-0.6112201862116786, w1=-3.161829064379262\n",
      "Gradient Descent(18/99): loss=17.640293270782664, w0=-0.6112201862116786, w1=-3.161829064379262\n",
      "Gradient Descent(19/99): loss=17.640293270782664, w0=-0.6112201862116786, w1=-3.161829064379262\n",
      "Gradient Descent(20/99): loss=17.640293270782664, w0=-0.6112201862116786, w1=-3.161829064379262\n",
      "Gradient Descent(21/99): loss=17.640293270782664, w0=-0.6112201862116786, w1=-3.161829064379262\n",
      "Gradient Descent(22/99): loss=17.640293270782664, w0=-0.6112201862116786, w1=-3.161829064379262\n",
      "Gradient Descent(23/99): loss=17.640293270782664, w0=-0.6112201862116786, w1=-3.161829064379262\n",
      "Gradient Descent(24/99): loss=17.640293270782664, w0=-0.6112201862116786, w1=-3.161829064379262\n",
      "Gradient Descent(25/99): loss=17.640293270782664, w0=-0.6112201862116786, w1=-3.161829064379262\n",
      "Gradient Descent(26/99): loss=17.640293270782664, w0=-0.6112201862116786, w1=-3.161829064379262\n",
      "Gradient Descent(27/99): loss=17.640293270782664, w0=-0.6112201862116786, w1=-3.161829064379262\n",
      "Gradient Descent(28/99): loss=17.640293270782664, w0=-0.6112201862116786, w1=-3.161829064379262\n",
      "Gradient Descent(29/99): loss=17.640293270782664, w0=-0.6112201862116786, w1=-3.161829064379262\n",
      "Gradient Descent(30/99): loss=17.640293270782664, w0=-0.6112201862116786, w1=-3.161829064379262\n",
      "Gradient Descent(31/99): loss=17.640293270782664, w0=-0.6112201862116786, w1=-3.161829064379262\n",
      "Gradient Descent(32/99): loss=17.640293270782664, w0=-0.6112201862116786, w1=-3.161829064379262\n",
      "Gradient Descent(33/99): loss=17.640293270782664, w0=-0.6112201862116786, w1=-3.161829064379262\n",
      "Gradient Descent(34/99): loss=17.640293270782664, w0=-0.6112201862116786, w1=-3.161829064379262\n",
      "Gradient Descent(35/99): loss=17.640293270782664, w0=-0.6112201862116786, w1=-3.161829064379262\n",
      "Gradient Descent(36/99): loss=17.640293270782664, w0=-0.6112201862116786, w1=-3.161829064379262\n",
      "Gradient Descent(37/99): loss=17.640293270782664, w0=-0.6112201862116786, w1=-3.161829064379262\n",
      "Gradient Descent(38/99): loss=17.640293270782664, w0=-0.6112201862116786, w1=-3.161829064379262\n",
      "Gradient Descent(39/99): loss=17.640293270782664, w0=-0.6112201862116786, w1=-3.161829064379262\n",
      "Gradient Descent(40/99): loss=17.640293270782664, w0=-0.6112201862116786, w1=-3.161829064379262\n",
      "Gradient Descent(41/99): loss=17.640293270782664, w0=-0.6112201862116786, w1=-3.161829064379262\n",
      "Gradient Descent(42/99): loss=17.640293270782664, w0=-0.6112201862116786, w1=-3.161829064379262\n",
      "Gradient Descent(43/99): loss=17.640293270782664, w0=-0.6112201862116786, w1=-3.161829064379262\n",
      "Gradient Descent(44/99): loss=17.640293270782664, w0=-0.6112201862116786, w1=-3.161829064379262\n",
      "Gradient Descent(45/99): loss=17.640293270782664, w0=-0.6112201862116786, w1=-3.161829064379262\n",
      "Gradient Descent(46/99): loss=17.640293270782664, w0=-0.6112201862116786, w1=-3.161829064379262\n",
      "Gradient Descent(47/99): loss=17.640293270782664, w0=-0.6112201862116786, w1=-3.161829064379262\n",
      "Gradient Descent(48/99): loss=17.640293270782664, w0=-0.6112201862116786, w1=-3.161829064379262\n",
      "Gradient Descent(49/99): loss=17.640293270782664, w0=-0.6112201862116786, w1=-3.161829064379262\n",
      "Gradient Descent(50/99): loss=17.640293270782664, w0=-0.6112201862116786, w1=-3.161829064379262\n",
      "Gradient Descent(51/99): loss=17.640293270782664, w0=-0.6112201862116786, w1=-3.161829064379262\n",
      "Gradient Descent(52/99): loss=17.640293270782664, w0=-0.6112201862116786, w1=-3.161829064379262\n",
      "Gradient Descent(53/99): loss=17.640293270782664, w0=-0.6112201862116786, w1=-3.161829064379262\n",
      "Gradient Descent(54/99): loss=17.640293270782664, w0=-0.6112201862116786, w1=-3.161829064379262\n",
      "Gradient Descent(55/99): loss=17.640293270782664, w0=-0.6112201862116786, w1=-3.161829064379262\n",
      "Gradient Descent(56/99): loss=17.640293270782664, w0=-0.6112201862116786, w1=-3.161829064379262\n",
      "Gradient Descent(57/99): loss=17.640293270782664, w0=-0.6112201862116786, w1=-3.161829064379262\n",
      "Gradient Descent(58/99): loss=17.640293270782664, w0=-0.6112201862116786, w1=-3.161829064379262\n",
      "Gradient Descent(59/99): loss=17.640293270782664, w0=-0.6112201862116786, w1=-3.161829064379262\n",
      "Gradient Descent(60/99): loss=17.640293270782664, w0=-0.6112201862116786, w1=-3.161829064379262\n",
      "Gradient Descent(61/99): loss=17.640293270782664, w0=-0.6112201862116786, w1=-3.161829064379262\n",
      "Gradient Descent(62/99): loss=17.640293270782664, w0=-0.6112201862116786, w1=-3.161829064379262\n",
      "Gradient Descent(63/99): loss=17.640293270782664, w0=-0.6112201862116786, w1=-3.161829064379262\n",
      "Gradient Descent(64/99): loss=17.640293270782664, w0=-0.6112201862116786, w1=-3.161829064379262\n",
      "Gradient Descent(65/99): loss=17.640293270782664, w0=-0.6112201862116786, w1=-3.161829064379262\n",
      "Gradient Descent(66/99): loss=17.640293270782664, w0=-0.6112201862116786, w1=-3.161829064379262\n",
      "Gradient Descent(67/99): loss=17.640293270782664, w0=-0.6112201862116786, w1=-3.161829064379262\n",
      "Gradient Descent(68/99): loss=17.640293270782664, w0=-0.6112201862116786, w1=-3.161829064379262\n",
      "Gradient Descent(69/99): loss=17.640293270782664, w0=-0.6112201862116786, w1=-3.161829064379262\n",
      "Gradient Descent(70/99): loss=17.640293270782664, w0=-0.6112201862116786, w1=-3.161829064379262\n",
      "Gradient Descent(71/99): loss=17.640293270782664, w0=-0.6112201862116786, w1=-3.161829064379262\n",
      "Gradient Descent(72/99): loss=17.640293270782664, w0=-0.6112201862116786, w1=-3.161829064379262\n",
      "Gradient Descent(73/99): loss=17.640293270782664, w0=-0.6112201862116786, w1=-3.161829064379262\n",
      "Gradient Descent(74/99): loss=17.640293270782664, w0=-0.6112201862116786, w1=-3.161829064379262\n",
      "Gradient Descent(75/99): loss=17.640293270782664, w0=-0.6112201862116786, w1=-3.161829064379262\n",
      "Gradient Descent(76/99): loss=17.640293270782664, w0=-0.6112201862116786, w1=-3.161829064379262\n",
      "Gradient Descent(77/99): loss=17.640293270782664, w0=-0.6112201862116786, w1=-3.161829064379262\n",
      "Gradient Descent(78/99): loss=17.640293270782664, w0=-0.6112201862116786, w1=-3.161829064379262\n",
      "Gradient Descent(79/99): loss=17.640293270782664, w0=-0.6112201862116786, w1=-3.161829064379262\n",
      "Gradient Descent(80/99): loss=17.640293270782664, w0=-0.6112201862116786, w1=-3.161829064379262\n",
      "Gradient Descent(81/99): loss=17.640293270782664, w0=-0.6112201862116786, w1=-3.161829064379262\n",
      "Gradient Descent(82/99): loss=17.640293270782664, w0=-0.6112201862116786, w1=-3.161829064379262\n",
      "Gradient Descent(83/99): loss=17.640293270782664, w0=-0.6112201862116786, w1=-3.161829064379262\n",
      "Gradient Descent(84/99): loss=17.640293270782664, w0=-0.6112201862116786, w1=-3.161829064379262\n",
      "Gradient Descent(85/99): loss=17.640293270782664, w0=-0.6112201862116786, w1=-3.161829064379262\n",
      "Gradient Descent(86/99): loss=17.640293270782664, w0=-0.6112201862116786, w1=-3.161829064379262\n",
      "Gradient Descent(87/99): loss=17.640293270782664, w0=-0.6112201862116786, w1=-3.161829064379262\n",
      "Gradient Descent(88/99): loss=17.640293270782664, w0=-0.6112201862116786, w1=-3.161829064379262\n",
      "Gradient Descent(89/99): loss=17.640293270782664, w0=-0.6112201862116786, w1=-3.161829064379262\n",
      "Gradient Descent(90/99): loss=17.640293270782664, w0=-0.6112201862116786, w1=-3.161829064379262\n",
      "Gradient Descent(91/99): loss=17.640293270782664, w0=-0.6112201862116786, w1=-3.161829064379262\n",
      "Gradient Descent(92/99): loss=17.640293270782664, w0=-0.6112201862116786, w1=-3.161829064379262\n",
      "Gradient Descent(93/99): loss=17.640293270782664, w0=-0.6112201862116786, w1=-3.161829064379262\n",
      "Gradient Descent(94/99): loss=17.640293270782664, w0=-0.6112201862116786, w1=-3.161829064379262\n",
      "Gradient Descent(95/99): loss=17.640293270782664, w0=-0.6112201862116786, w1=-3.161829064379262\n",
      "Gradient Descent(96/99): loss=17.640293270782664, w0=-0.6112201862116786, w1=-3.161829064379262\n",
      "Gradient Descent(97/99): loss=17.640293270782664, w0=-0.6112201862116786, w1=-3.161829064379262\n",
      "Gradient Descent(98/99): loss=17.640293270782664, w0=-0.6112201862116786, w1=-3.161829064379262\n",
      "Gradient Descent(99/99): loss=17.640293270782664, w0=-0.6112201862116786, w1=-3.161829064379262\n"
     ]
    }
   ],
   "source": [
    "loss_logreg, w_logreg = f.logistic_regression(y_train_processed, tX_train, 100, 1, np.random.randn(len(tX_train[0])))"
   ]
  },
  {
   "cell_type": "code",
   "execution_count": 101,
   "metadata": {},
   "outputs": [
    {
     "name": "stdout",
     "output_type": "stream",
     "text": [
      "weights = \n",
      " [-0.61122019 -3.16182906 -3.76541213 -2.6172506   1.32280547  0.20572008\n",
      " -1.30555144  0.01649966 -0.96933361 -0.23708139 -4.47291248 -6.77729425\n",
      " -1.58715381 -1.29099027  0.63929557 -1.23620535 -7.10154332 -1.24994876\n",
      "  3.39785215 -0.736755   -0.82514383  0.06352064] \n",
      " Loss =  17.640293270782664 \n",
      "*****************************************************************************  \n",
      " Train sample : \n",
      " Heart attack rate =  0.09400982168649387 \n",
      " \n",
      " Test sample : \n",
      " Heart attack rate =  0.0\n"
     ]
    }
   ],
   "source": [
    "y_test_logreg = tX_test.dot(w_logreg)\n",
    "y_test_logreg = np.where(y_test_logreg > 0, 1, -1)\n",
    "\n",
    "print('weights = \\n', w_logreg,'\\n Loss = ', loss_logreg,'\\n*****************************************************************************',\n",
    "        ' \\n Train sample : \\n', 'Heart attack rate = ', np.count_nonzero(y_train_processed == 1)/len(y_train_processed), '\\n \\n Test sample : \\n', 'Heart attack rate = ', np.count_nonzero(y_test_logreg == 1)/len(y_test_logreg))"
   ]
  },
  {
   "cell_type": "code",
   "execution_count": null,
   "metadata": {},
   "outputs": [],
   "source": []
  }
 ],
 "metadata": {
  "kernelspec": {
   "display_name": "ML",
   "language": "python",
   "name": "python3"
  },
  "language_info": {
   "codemirror_mode": {
    "name": "ipython",
    "version": 3
   },
   "file_extension": ".py",
   "mimetype": "text/x-python",
   "name": "python",
   "nbconvert_exporter": "python",
   "pygments_lexer": "ipython3",
   "version": "3.11.5"
  },
  "orig_nbformat": 4
 },
 "nbformat": 4,
 "nbformat_minor": 2
}
