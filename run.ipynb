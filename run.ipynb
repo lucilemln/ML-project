{
 "cells": [
  {
   "cell_type": "code",
   "execution_count": 8,
   "metadata": {
    "tags": []
   },
   "outputs": [],
   "source": [
    "import numpy as np\n",
    "import matplotlib.pyplot as plt\n",
    "import random\n",
    "try:\n",
    "    import importlib\n",
    "    importlib.reload(h)\n",
    "    importlib.reload(f)\n",
    "    importlib.reload(d)\n",
    "except NameError: # It hasn't been imported yet\n",
    "    import helpers as h\n",
    "    import implementations as f\n",
    "    import data_processing as d"
   ]
  },
  {
   "cell_type": "markdown",
   "metadata": {},
   "source": [
    "# Data preprocessing and feature selections"
   ]
  },
  {
   "cell_type": "markdown",
   "metadata": {},
   "source": [
    "## Data preprocessing"
   ]
  },
  {
   "cell_type": "markdown",
   "metadata": {},
   "source": [
    "#For this to work, the data folder needs to be one level above the project folder and the folder name needs\n",
    "#to be 'data'\n",
    "data_folder = '../data/'\n",
    "x_train, x_test, y_train, train_ids, test_ids = h.load_csv_data(data_folder)\n"
   ]
  },
  {
   "cell_type": "code",
   "execution_count": 9,
   "metadata": {
    "tags": []
   },
   "outputs": [],
   "source": [
    "np.random.seed(0)"
   ]
  },
  {
   "cell_type": "markdown",
   "metadata": {},
   "outputs": [
    {
     "ename": "KeyboardInterrupt",
     "evalue": "",
     "output_type": "error",
     "traceback": [
      "\u001b[1;31m---------------------------------------------------------------------------\u001b[0m",
      "\u001b[1;31mKeyboardInterrupt\u001b[0m                         Traceback (most recent call last)",
      "\u001b[1;32mc:\\Users\\user\\Desktop\\EPFL\\MA1\\ML-project\\run.ipynb Cell 6\u001b[0m line \u001b[0;36m1\n\u001b[1;32m----> <a href='vscode-notebook-cell:/c%3A/Users/user/Desktop/EPFL/MA1/ML-project/run.ipynb#W5sZmlsZQ%3D%3D?line=0'>1</a>\u001b[0m x_train, x_test, y_train, train_ids, test_ids \u001b[39m=\u001b[39m h\u001b[39m.\u001b[39;49mload_csv_data(\u001b[39m\"\u001b[39;49m\u001b[39m../data\u001b[39;49m\u001b[39m\"\u001b[39;49m)\n",
      "File \u001b[1;32mc:\\Users\\user\\Desktop\\EPFL\\MA1\\ML-project\\helpers.py:30\u001b[0m, in \u001b[0;36mload_csv_data\u001b[1;34m(data_path, sub_sample)\u001b[0m\n\u001b[0;32m      8\u001b[0m \u001b[39m\u001b[39m\u001b[39m\"\"\"\u001b[39;00m\n\u001b[0;32m      9\u001b[0m \u001b[39mThis function loads the data and returns the respectinve numpy arrays.\u001b[39;00m\n\u001b[0;32m     10\u001b[0m \u001b[39mRemember to put the 3 files in the same folder and to not change the names of the files.\u001b[39;00m\n\u001b[1;32m   (...)\u001b[0m\n\u001b[0;32m     21\u001b[0m \u001b[39m    test_ids (np.array): ids of test data\u001b[39;00m\n\u001b[0;32m     22\u001b[0m \u001b[39m\"\"\"\u001b[39;00m\n\u001b[0;32m     23\u001b[0m y_train \u001b[39m=\u001b[39m np\u001b[39m.\u001b[39mgenfromtxt(\n\u001b[0;32m     24\u001b[0m     os\u001b[39m.\u001b[39mpath\u001b[39m.\u001b[39mjoin(data_path, \u001b[39m\"\u001b[39m\u001b[39my_train.csv\u001b[39m\u001b[39m\"\u001b[39m),\n\u001b[0;32m     25\u001b[0m     delimiter\u001b[39m=\u001b[39m\u001b[39m\"\u001b[39m\u001b[39m,\u001b[39m\u001b[39m\"\u001b[39m,\n\u001b[1;32m   (...)\u001b[0m\n\u001b[0;32m     28\u001b[0m     usecols\u001b[39m=\u001b[39m\u001b[39m1\u001b[39m,\n\u001b[0;32m     29\u001b[0m )\n\u001b[1;32m---> 30\u001b[0m x_train \u001b[39m=\u001b[39m np\u001b[39m.\u001b[39;49mgenfromtxt(\n\u001b[0;32m     31\u001b[0m     os\u001b[39m.\u001b[39;49mpath\u001b[39m.\u001b[39;49mjoin(data_path, \u001b[39m\"\u001b[39;49m\u001b[39mx_train.csv\u001b[39;49m\u001b[39m\"\u001b[39;49m), delimiter\u001b[39m=\u001b[39;49m\u001b[39m\"\u001b[39;49m\u001b[39m,\u001b[39;49m\u001b[39m\"\u001b[39;49m, skip_header\u001b[39m=\u001b[39;49m\u001b[39m1\u001b[39;49m\n\u001b[0;32m     32\u001b[0m )\n\u001b[0;32m     33\u001b[0m x_test \u001b[39m=\u001b[39m np\u001b[39m.\u001b[39mgenfromtxt(\n\u001b[0;32m     34\u001b[0m     os\u001b[39m.\u001b[39mpath\u001b[39m.\u001b[39mjoin(data_path, \u001b[39m\"\u001b[39m\u001b[39mx_test.csv\u001b[39m\u001b[39m\"\u001b[39m), delimiter\u001b[39m=\u001b[39m\u001b[39m\"\u001b[39m\u001b[39m,\u001b[39m\u001b[39m\"\u001b[39m, skip_header\u001b[39m=\u001b[39m\u001b[39m1\u001b[39m\n\u001b[0;32m     35\u001b[0m )\n\u001b[0;32m     37\u001b[0m train_ids \u001b[39m=\u001b[39m x_train[:, \u001b[39m0\u001b[39m]\u001b[39m.\u001b[39mastype(dtype\u001b[39m=\u001b[39m\u001b[39mint\u001b[39m)\n",
      "File \u001b[1;32mc:\\Users\\user\\AppData\\Local\\Programs\\Python\\Python39\\lib\\site-packages\\numpy\\lib\\npyio.py:2324\u001b[0m, in \u001b[0;36mgenfromtxt\u001b[1;34m(fname, dtype, comments, delimiter, skip_header, skip_footer, converters, missing_values, filling_values, usecols, names, excludelist, deletechars, replace_space, autostrip, case_sensitive, defaultfmt, unpack, usemask, loose, invalid_raise, max_rows, encoding, ndmin, like)\u001b[0m\n\u001b[0;32m   2320\u001b[0m \u001b[39m# Convert each value according to the converter:\u001b[39;00m\n\u001b[0;32m   2321\u001b[0m \u001b[39m# We want to modify the list in place to avoid creating a new one...\u001b[39;00m\n\u001b[0;32m   2322\u001b[0m \u001b[39mif\u001b[39;00m loose:\n\u001b[0;32m   2323\u001b[0m     rows \u001b[39m=\u001b[39m \u001b[39mlist\u001b[39m(\n\u001b[1;32m-> 2324\u001b[0m         \u001b[39mzip\u001b[39m(\u001b[39m*\u001b[39m[[conv\u001b[39m.\u001b[39m_loose_call(_r) \u001b[39mfor\u001b[39;00m _r \u001b[39min\u001b[39;00m \u001b[39mmap\u001b[39m(itemgetter(i), rows)]\n\u001b[0;32m   2325\u001b[0m               \u001b[39mfor\u001b[39;00m (i, conv) \u001b[39min\u001b[39;00m \u001b[39menumerate\u001b[39m(converters)]))\n\u001b[0;32m   2326\u001b[0m \u001b[39melse\u001b[39;00m:\n\u001b[0;32m   2327\u001b[0m     rows \u001b[39m=\u001b[39m \u001b[39mlist\u001b[39m(\n\u001b[0;32m   2328\u001b[0m         \u001b[39mzip\u001b[39m(\u001b[39m*\u001b[39m[[conv\u001b[39m.\u001b[39m_strict_call(_r) \u001b[39mfor\u001b[39;00m _r \u001b[39min\u001b[39;00m \u001b[39mmap\u001b[39m(itemgetter(i), rows)]\n\u001b[0;32m   2329\u001b[0m               \u001b[39mfor\u001b[39;00m (i, conv) \u001b[39min\u001b[39;00m \u001b[39menumerate\u001b[39m(converters)]))\n",
      "File \u001b[1;32mc:\\Users\\user\\AppData\\Local\\Programs\\Python\\Python39\\lib\\site-packages\\numpy\\lib\\npyio.py:2324\u001b[0m, in \u001b[0;36m<listcomp>\u001b[1;34m(.0)\u001b[0m\n\u001b[0;32m   2320\u001b[0m \u001b[39m# Convert each value according to the converter:\u001b[39;00m\n\u001b[0;32m   2321\u001b[0m \u001b[39m# We want to modify the list in place to avoid creating a new one...\u001b[39;00m\n\u001b[0;32m   2322\u001b[0m \u001b[39mif\u001b[39;00m loose:\n\u001b[0;32m   2323\u001b[0m     rows \u001b[39m=\u001b[39m \u001b[39mlist\u001b[39m(\n\u001b[1;32m-> 2324\u001b[0m         \u001b[39mzip\u001b[39m(\u001b[39m*\u001b[39m[[conv\u001b[39m.\u001b[39m_loose_call(_r) \u001b[39mfor\u001b[39;00m _r \u001b[39min\u001b[39;00m \u001b[39mmap\u001b[39m(itemgetter(i), rows)]\n\u001b[0;32m   2325\u001b[0m               \u001b[39mfor\u001b[39;00m (i, conv) \u001b[39min\u001b[39;00m \u001b[39menumerate\u001b[39m(converters)]))\n\u001b[0;32m   2326\u001b[0m \u001b[39melse\u001b[39;00m:\n\u001b[0;32m   2327\u001b[0m     rows \u001b[39m=\u001b[39m \u001b[39mlist\u001b[39m(\n\u001b[0;32m   2328\u001b[0m         \u001b[39mzip\u001b[39m(\u001b[39m*\u001b[39m[[conv\u001b[39m.\u001b[39m_strict_call(_r) \u001b[39mfor\u001b[39;00m _r \u001b[39min\u001b[39;00m \u001b[39mmap\u001b[39m(itemgetter(i), rows)]\n\u001b[0;32m   2329\u001b[0m               \u001b[39mfor\u001b[39;00m (i, conv) \u001b[39min\u001b[39;00m \u001b[39menumerate\u001b[39m(converters)]))\n",
      "File \u001b[1;32mc:\\Users\\user\\AppData\\Local\\Programs\\Python\\Python39\\lib\\site-packages\\numpy\\lib\\npyio.py:2324\u001b[0m, in \u001b[0;36m<listcomp>\u001b[1;34m(.0)\u001b[0m\n\u001b[0;32m   2320\u001b[0m \u001b[39m# Convert each value according to the converter:\u001b[39;00m\n\u001b[0;32m   2321\u001b[0m \u001b[39m# We want to modify the list in place to avoid creating a new one...\u001b[39;00m\n\u001b[0;32m   2322\u001b[0m \u001b[39mif\u001b[39;00m loose:\n\u001b[0;32m   2323\u001b[0m     rows \u001b[39m=\u001b[39m \u001b[39mlist\u001b[39m(\n\u001b[1;32m-> 2324\u001b[0m         \u001b[39mzip\u001b[39m(\u001b[39m*\u001b[39m[[conv\u001b[39m.\u001b[39;49m_loose_call(_r) \u001b[39mfor\u001b[39;00m _r \u001b[39min\u001b[39;00m \u001b[39mmap\u001b[39m(itemgetter(i), rows)]\n\u001b[0;32m   2325\u001b[0m               \u001b[39mfor\u001b[39;00m (i, conv) \u001b[39min\u001b[39;00m \u001b[39menumerate\u001b[39m(converters)]))\n\u001b[0;32m   2326\u001b[0m \u001b[39melse\u001b[39;00m:\n\u001b[0;32m   2327\u001b[0m     rows \u001b[39m=\u001b[39m \u001b[39mlist\u001b[39m(\n\u001b[0;32m   2328\u001b[0m         \u001b[39mzip\u001b[39m(\u001b[39m*\u001b[39m[[conv\u001b[39m.\u001b[39m_strict_call(_r) \u001b[39mfor\u001b[39;00m _r \u001b[39min\u001b[39;00m \u001b[39mmap\u001b[39m(itemgetter(i), rows)]\n\u001b[0;32m   2329\u001b[0m               \u001b[39mfor\u001b[39;00m (i, conv) \u001b[39min\u001b[39;00m \u001b[39menumerate\u001b[39m(converters)]))\n",
      "\u001b[1;31mKeyboardInterrupt\u001b[0m: "
     ]
    }
   ],
   "source": [
    "x_train, x_test, y_train, train_ids, test_ids = h.load_csv_data(\"../data\")"
   ]
  },
  {
   "cell_type": "code",
   "execution_count": 4,
   "metadata": {},
   "outputs": [],
   "source": [
    "np.save('../data/y_train.npy', y_train)\n",
    "np.save('../data/x_train.npy', x_train)\n",
    "np.save('../data/x_test.npy', x_test)\n",
    "np.save('../data/train_ids.npy', train_ids)\n",
    "np.save('../data/test_ids.npy', test_ids)"
   ]
  },
  {
   "cell_type": "code",
   "execution_count": 10,
   "metadata": {
    "tags": []
   },
   "outputs": [],
   "source": [
    "x_train = np.load(\"../data/x_train.npy\")\n",
    "x_test = np.load(\"../data/x_test.npy\")\n",
    "y_train = np.load(\"../data/y_train.npy\")\n",
    "train_ids = np.load(\"../data/train_ids.npy\")\n",
    "test_ids = np.load(\"../data/test_ids.npy\")"
   ]
  },
  {
   "cell_type": "code",
   "execution_count": 11,
   "metadata": {
    "tags": []
   },
   "outputs": [
    {
     "data": {
      "text/plain": [
       "array(['_STATE', 'FMONTH', 'IDATE', 'IMONTH', 'IDAY', 'IYEAR', 'DISPCODE',\n",
       "       'SEQNO', '_PSU', 'CTELENUM', 'PVTRESD1', 'COLGHOUS', 'STATERES',\n",
       "       'CELLFON3', 'LADULT', 'NUMADULT', 'NUMMEN', 'NUMWOMEN', 'CTELNUM1',\n",
       "       'CELLFON2', 'CADULT', 'PVTRESD2', 'CCLGHOUS', 'CSTATE', 'LANDLINE',\n",
       "       'HHADULT', 'GENHLTH', 'PHYSHLTH', 'MENTHLTH', 'POORHLTH',\n",
       "       'HLTHPLN1', 'PERSDOC2', 'MEDCOST', 'CHECKUP1', 'BPHIGH4', 'BPMEDS',\n",
       "       'BLOODCHO', 'CHOLCHK', 'TOLDHI2', 'CVDSTRK3', 'ASTHMA3', 'ASTHNOW',\n",
       "       'CHCSCNCR', 'CHCOCNCR', 'CHCCOPD1', 'HAVARTH3', 'ADDEPEV2',\n",
       "       'CHCKIDNY', 'DIABETE3', 'DIABAGE2', 'SEX', 'MARITAL', 'EDUCA',\n",
       "       'RENTHOM1', 'NUMHHOL2', 'NUMPHON2', 'CPDEMO1', 'VETERAN3',\n",
       "       'EMPLOY1', 'CHILDREN', 'INCOME2', 'INTERNET', 'WEIGHT2', 'HEIGHT3',\n",
       "       'PREGNANT', 'QLACTLM2', 'USEEQUIP', 'BLIND', 'DECIDE', 'DIFFWALK',\n",
       "       'DIFFDRES', 'DIFFALON', 'SMOKE100', 'SMOKDAY2', 'STOPSMK2',\n",
       "       'LASTSMK2', 'USENOW3', 'ALCDAY5', 'AVEDRNK2', 'DRNK3GE5',\n",
       "       'MAXDRNKS', 'FRUITJU1', 'FRUIT1', 'FVBEANS', 'FVGREEN', 'FVORANG',\n",
       "       'VEGETAB1', 'EXERANY2', 'EXRACT11', 'EXEROFT1', 'EXERHMM1',\n",
       "       'EXRACT21', 'EXEROFT2', 'EXERHMM2', 'STRENGTH', 'LMTJOIN3',\n",
       "       'ARTHDIS2', 'ARTHSOCL', 'JOINPAIN', 'SEATBELT', 'FLUSHOT6',\n",
       "       'FLSHTMY2', 'IMFVPLAC', 'PNEUVAC3', 'HIVTST6', 'HIVTSTD3',\n",
       "       'WHRTST10', 'PDIABTST', 'PREDIAB1', 'INSULIN', 'BLDSUGAR',\n",
       "       'FEETCHK2', 'DOCTDIAB', 'CHKHEMO3', 'FEETCHK', 'EYEEXAM',\n",
       "       'DIABEYE', 'DIABEDU', 'CAREGIV1', 'CRGVREL1', 'CRGVLNG1',\n",
       "       'CRGVHRS1', 'CRGVPRB1', 'CRGVPERS', 'CRGVHOUS', 'CRGVMST2',\n",
       "       'CRGVEXPT', 'VIDFCLT2', 'VIREDIF3', 'VIPRFVS2', 'VINOCRE2',\n",
       "       'VIEYEXM2', 'VIINSUR2', 'VICTRCT4', 'VIGLUMA2', 'VIMACDG2',\n",
       "       'CIMEMLOS', 'CDHOUSE', 'CDASSIST', 'CDHELP', 'CDSOCIAL',\n",
       "       'CDDISCUS', 'WTCHSALT', 'LONGWTCH', 'DRADVISE', 'ASTHMAGE',\n",
       "       'ASATTACK', 'ASERVIST', 'ASDRVIST', 'ASRCHKUP', 'ASACTLIM',\n",
       "       'ASYMPTOM', 'ASNOSLEP', 'ASTHMED3', 'ASINHALR', 'HAREHAB1',\n",
       "       'STREHAB1', 'CVDASPRN', 'ASPUNSAF', 'RLIVPAIN', 'RDUCHART',\n",
       "       'RDUCSTRK', 'ARTTODAY', 'ARTHWGT', 'ARTHEXER', 'ARTHEDU',\n",
       "       'TETANUS', 'HPVADVC2', 'HPVADSHT', 'SHINGLE2', 'HADMAM', 'HOWLONG',\n",
       "       'HADPAP2', 'LASTPAP2', 'HPVTEST', 'HPLSTTST', 'HADHYST2',\n",
       "       'PROFEXAM', 'LENGEXAM', 'BLDSTOOL', 'LSTBLDS3', 'HADSIGM3',\n",
       "       'HADSGCO1', 'LASTSIG3', 'PCPSAAD2', 'PCPSADI1', 'PCPSARE1',\n",
       "       'PSATEST1', 'PSATIME', 'PCPSARS1', 'PCPSADE1', 'PCDMDECN',\n",
       "       'SCNTMNY1', 'SCNTMEL1', 'SCNTPAID', 'SCNTWRK1', 'SCNTLPAD',\n",
       "       'SCNTLWK1', 'SXORIENT', 'TRNSGNDR', 'RCSGENDR', 'RCSRLTN2',\n",
       "       'CASTHDX2', 'CASTHNO2', 'EMTSUPRT', 'LSATISFY', 'ADPLEASR',\n",
       "       'ADDOWN', 'ADSLEEP', 'ADENERGY', 'ADEAT1', 'ADFAIL', 'ADTHINK',\n",
       "       'ADMOVE', 'MISTMNT', 'ADANXEV', 'QSTVER', 'QSTLANG', 'MSCODE',\n",
       "       '_STSTR', '_STRWT', '_RAWRAKE', '_WT2RAKE', '_CHISPNC', '_CRACE1',\n",
       "       '_CPRACE', '_CLLCPWT', '_DUALUSE', '_DUALCOR', '_LLCPWT',\n",
       "       '_RFHLTH', '_HCVU651', '_RFHYPE5', '_CHOLCHK', '_RFCHOL',\n",
       "       '_LTASTH1', '_CASTHM1', '_ASTHMS1', '_DRDXAR1', '_PRACE1',\n",
       "       '_MRACE1', '_HISPANC', '_RACE', '_RACEG21', '_RACEGR3', '_RACE_G1',\n",
       "       '_AGEG5YR', '_AGE65YR', '_AGE80', '_AGE_G', 'HTIN4', 'HTM4',\n",
       "       'WTKG3', '_BMI5', '_BMI5CAT', '_RFBMI5', '_CHLDCNT', '_EDUCAG',\n",
       "       '_INCOMG', '_SMOKER3', '_RFSMOK3', 'DRNKANY5', 'DROCDY3_',\n",
       "       '_RFBING5', '_DRNKWEK', '_RFDRHV5', 'FTJUDA1_', 'FRUTDA1_',\n",
       "       'BEANDAY_', 'GRENDAY_', 'ORNGDAY_', 'VEGEDA1_', '_MISFRTN',\n",
       "       '_MISVEGN', '_FRTRESP', '_VEGRESP', '_FRUTSUM', '_VEGESUM',\n",
       "       '_FRTLT1', '_VEGLT1', '_FRT16', '_VEG23', '_FRUITEX', '_VEGETEX',\n",
       "       '_TOTINDA', 'METVL11_', 'METVL21_', 'MAXVO2_', 'FC60_', 'ACTIN11_',\n",
       "       'ACTIN21_', 'PADUR1_', 'PADUR2_', 'PAFREQ1_', 'PAFREQ2_',\n",
       "       '_MINAC11', '_MINAC21', 'STRFREQ_', 'PAMISS1_', 'PAMIN11_',\n",
       "       'PAMIN21_', 'PA1MIN_', 'PAVIG11_', 'PAVIG21_', 'PA1VIGM_',\n",
       "       '_PACAT1', '_PAINDX1', '_PA150R2', '_PA300R2', '_PA30021',\n",
       "       '_PASTRNG', '_PAREC1', '_PASTAE1', '_LMTACT1', '_LMTWRK1',\n",
       "       '_LMTSCL1', '_RFSEAT2', '_RFSEAT3', '_FLSHOT6', '_PNEUMO2',\n",
       "       '_AIDTST3'], dtype='<U8')"
      ]
     },
     "execution_count": 11,
     "metadata": {},
     "output_type": "execute_result"
    }
   ],
   "source": [
    "#features_named all the features names and remove the ID column\n",
    "features_name = np.genfromtxt('../data/x_train.csv', delimiter=',', dtype=str, max_rows=1)[1:] \n",
    "features_name"
   ]
  },
  {
   "cell_type": "markdown",
   "metadata": {},
   "source": [
    "## Feature selection\n",
    "\n",
    "one paper on internet suggests to use these features : \n",
    "\n",
    " _RFHYPE5, TOLDHI2, _CHOLCHK, _BMI5, SMOKE100, CVDSTRK3, DIABETE3, _TOTINDA, _FRTLT1, _VEGLT1, _RFDRHV5, HLTHPLN1, MEDCOST, GENHLTH, MENTHLTH, PHYSHLTH, DIFFWALK, SEX, _AGEG5YR, EDUCA, and INCOME2\n",
    "\n",
    "We apply a mask to get only these important features.\n",
    "\n",
    "Then using we use our preprocessing function. For feature where the answer is yes or no we make the data binary, ordinal (categorical) variables ares changed to 0,1,2,...,Missing values are replace by the mean of the column.\n"
   ]
  },
  {
   "cell_type": "code",
   "execution_count": 12,
   "metadata": {},
   "outputs": [],
   "source": [
    "#Select the important features\n",
    "features_list = ['_RFHYPE5', 'TOLDHI2', '_CHOLCHK', '_BMI5', 'SMOKE100', 'CVDSTRK3', 'DIABETE3', '_TOTINDA', '_FRTLT1', '_VEGLT1', '_RFDRHV5', \n",
    "                 'HLTHPLN1', 'MEDCOST', 'GENHLTH', 'MENTHLTH', 'PHYSHLTH', 'DIFFWALK', 'SEX', '_AGEG5YR', 'EDUCA', 'INCOME2']\n"
   ]
  },
  {
   "cell_type": "code",
   "execution_count": 13,
   "metadata": {},
   "outputs": [],
   "source": []
  },
  {
   "cell_type": "code",
   "execution_count": 81,
   "metadata": {
    "tags": []
   },
   "outputs": [
    {
     "name": "stdout",
     "output_type": "stream",
     "text": [
      "[0.         0.20628162 0.         ... 1.         1.         0.        ]\n",
      "328135\n",
      "21\n"
     ]
    }
   ],
   "source": [
    "trainMask, testMask = masking((x_train, x_test), features_name, features_list)\n",
    "trainProcessed = d.feature_processing_test(trainMask)\n",
    "\n",
    "#Test data Processing \n",
    "testProcessed  = d.feature_processing_test(testMask)\n",
    "\n",
    "x_train_algo = f.replaceMissingValuesMean(trainProcessed)\n",
    "x_test_algo = f.replaceMissingValuesMean(testProcessed)\n",
    "print(x_train_algo[:,19])\n",
    "print(len(x_train_algo))\n",
    "print(len(features_list))\n"
   ]
  },
  {
   "cell_type": "code",
   "execution_count": 166,
   "metadata": {},
   "outputs": [
    {
     "name": "stdout",
     "output_type": "stream",
     "text": [
      "[[False False False ... False False False]\n",
      " [False False False ... False False False]\n",
      " [False False False ... False False False]\n",
      " ...\n",
      " [False False False ... False False False]\n",
      " [False False False ... False False False]\n",
      " [False False False ... False False False]]\n"
     ]
    }
   ],
   "source": [
    "##test chelou\n",
    "#x1_stand=f.standardize(x_train_algo)\n",
    "x_train_stand=np.ones(x_train_algo.shape)\n",
    "x_test_stand=np.ones(x_test_algo.shape)\n",
    "\n",
    "x_trai_stand=f.standardize(x_train_algo)\n",
    "\n",
    "for i in range(len(features_list)):\n",
    "  x_train_stand[i]=f.standardize(x_train_algo[i])\n",
    "  x_test_stand[i]=f.standardize(x_test_algo[i])\n",
    "\n",
    "print(x_trai_stand==x_train_stand)\n",
    "\n"
   ]
  },
  {
   "cell_type": "markdown",
   "metadata": {},
   "source": [
    "### Replace missing values by the mean of the column for the training features"
   ]
  },
  {
   "cell_type": "code",
   "execution_count": 14,
   "metadata": {
    "tags": []
   },
   "outputs": [],
   "source": [
    "def replaceMissingValuesMean(X):\n",
    "    #compute the mean of the column\n",
    "    mean = np.nanmean(X, axis = 0)\n",
    "\n",
    "    #replace all the NaN values by the mean\n",
    "    X = np.where(np.isnan(X), mean, X)\n",
    "\n",
    "    return X\n"
   ]
  },
  {
   "cell_type": "markdown",
   "metadata": {},
   "source": [
    "# Processing [Necessary] \n",
    "For this to work, Masking has to be done aswell\n",
    "### We want to clean the data for each feature, making them binary for yes/no, etc... and rename them"
   ]
  },
  {
   "cell_type": "code",
   "execution_count": 15,
   "metadata": {},
   "outputs": [],
   "source": [
    "#Training Data Processing \n",
    "\n",
    "def featureProcessing(dataMasked):\n",
    "    \n",
    "    x_train, x_test = dataMasked\n",
    "    \n",
    "    x_train_processed = d.feature_processing_test(x_train)\n",
    "\n",
    "    #Test data Processing \n",
    "    x_test_processed = d.feature_processing_test(x_test)\n",
    "    \n",
    "    return x_train_processed, x_test_processed"
   ]
  },
  {
   "cell_type": "markdown",
   "metadata": {},
   "source": [
    "## We can apply the processing functions to the data now"
   ]
  },
  {
   "cell_type": "code",
   "execution_count": 34,
   "metadata": {
    "tags": []
   },
   "outputs": [],
   "source": [
    "trainMask, testMask = masking((x_train, x_test), features_list)\n",
    "\n",
    "trainProcessed, testProcessed = featureProcessing((trainMask ,testMask))\n",
    "\n",
    "x_train_algo = replaceMissingValuesMean(trainProcessed)\n",
    "x_test_algo = replaceMissingValuesMean(testProcessed)\n",
    "\n"
   ]
  },
  {
   "cell_type": "markdown",
   "metadata": {},
   "source": [
    "### Now that the preprocessing has been done, we can format the data to be used by the algorithms"
   ]
  },
  {
   "cell_type": "code",
   "execution_count": 35,
   "metadata": {},
   "outputs": [],
   "source": [
    "#tX_train = np.c_[np.ones((len(x_train_algo), 1)), x_train_algo]\n",
    "tX_test = np.c_[np.ones((len(x_test_algo), 1)), x_test_algo]\n",
    "\n",
    "tX_train = np.c_[np.ones((len(x_train_algo), 1)), x_train_stand]\n",
    "tX_test = np.c_[np.ones((len(x_test_algo), 1)), x_test_stand]"
   ]
  },
  {
   "cell_type": "markdown",
   "metadata": {},
   "source": [
    "### Initialisation of set parameters"
   ]
  },
  {
   "cell_type": "code",
   "execution_count": 36,
   "metadata": {
    "tags": []
   },
   "outputs": [],
   "source": [
    "initial_w = [random.choice([1, -1]) for i in range(len(tX_train[0]))]\n",
    "initial_w = np.ones(len(tX_train[0]))\n",
    "max_iter = 500"
   ]
  },
  {
   "cell_type": "markdown",
   "metadata": {},
   "source": [
    "### Separation of the dataset in a test/train set"
   ]
  },
  {
   "cell_type": "code",
   "execution_count": 37,
   "metadata": {
    "tags": []
   },
   "outputs": [],
   "source": [
    "tX_train_train = tX_train[:int(len(tX_train)*0.7)]\n",
    "y_train_train = y_train[:int(len(tX_train)*0.7)]\n",
    "tX_train_test = tX_train[int(len(tX_train)*0.7):]\n",
    "y_train_test = y_train[int(len(tX_train)*0.7):]\n",
    "\n"
   ]
  },
  {
   "cell_type": "markdown",
   "metadata": {},
   "source": [
    "## Plotting functions"
   ]
  },
  {
   "cell_type": "code",
   "execution_count": 38,
   "metadata": {},
   "outputs": [],
   "source": [
    "def loss_progression(w):\n",
    "    # Plot progression of the weights in function of the iteration and progression on the test set\n",
    "    plt.figure(0)\n",
    "    plt.plot(w)"
   ]
  },
  {
   "cell_type": "markdown",
   "metadata": {},
   "source": [
    "## And then, we can run the algorithms"
   ]
  },
  {
   "cell_type": "code",
   "execution_count": 39,
   "metadata": {},
   "outputs": [],
   "source": [
    "def plotLossMSE(weights, loss, y, x ):\n",
    "    loss_test_set = []\n",
    "\n",
    "    for w in weights:\n",
    "        loss_test_set.append(f.compute_mse(y, x, w))\n",
    "\n",
    "    plt.figure(0)\n",
    "    plt.semilogy(loss)\n",
    "    plt.semilogy(loss_test_set)\n",
    "    plt.show()\n"
   ]
  },
  {
   "cell_type": "markdown",
   "metadata": {},
   "source": [
    "1. MSE gradient descent"
   ]
  },
  {
   "cell_type": "code",
   "execution_count": 41,
   "metadata": {},
   "outputs": [
    {
     "name": "stdout",
     "output_type": "stream",
     "text": [
      "Gradient Descent(999/1000): Final loss=0.16322289498404216\n"
     ]
    }
   ],
   "source": [
    "#Compute gradient descent with MSE as loss function (see functions.py for the function)\n",
    "\n",
    "w_mse_gd, loss_mse_gd = f.mean_squared_error_gd(y_train_train, tX_train_train, initial_w, 1000, 0.01)"
   ]
  },
  {
   "cell_type": "code",
   "execution_count": 42,
   "metadata": {
    "tags": []
   },
   "outputs": [],
   "source": [
    "loss_test_set = []\n",
    "\n",
    "for w in w_mse_gd:\n",
    "    loss_test_set.append(f.compute_mse(y_train_test, tX_train_test, w))"
   ]
  },
  {
   "cell_type": "code",
   "execution_count": 43,
   "metadata": {
    "tags": []
   },
   "outputs": [
    {
     "data": {
      "image/png": "[encoded data removed]",
      "text/plain": [
       "<Figure size 640x480 with 1 Axes>"
      ]
     },
     "metadata": {},
     "output_type": "display_data"
    }
   ],
   "source": [
    "plt.figure(0)\n",
    "plt.semilogy(loss_mse_gd)\n",
    "plt.semilogy(loss_test_set)\n",
    "plt.show()"
   ]
  },
  {
   "cell_type": "code",
   "execution_count": 101,
   "metadata": {},
   "outputs": [
    {
     "name": "stdout",
     "output_type": "stream",
     "text": [
      "Accuracy:  0.08906857914893185\n",
      "F1 score:  0.16356835713419582\n"
     ]
    }
   ],
   "source": [
    "y_pred = tX_train_test.dot(w_mse_gd[-1])\n",
    "y_pred = np.where(y_pred > 0, 1, -1)\n",
    "\n",
    "_,_,_,_,f1 = f.confusion_matrix(y_train_test, y_pred)\n",
    "\n",
    "print(\"Accuracy: \", np.sum(y_pred == y_train_test)/len(y_train_test))\n",
    "print(\"F1 score: \", f1)\n"
   ]
  },
  {
   "cell_type": "code",
   "execution_count": null,
   "metadata": {
    "tags": []
   },
   "outputs": [],
   "source": [
    "#h.create_csv_submission(test_ids, y_test_rounded, 'submission_gd.csv')"
   ]
  },
  {
   "cell_type": "code",
   "execution_count": 44,
   "metadata": {},
   "outputs": [
    {
     "name": "stdout",
     "output_type": "stream",
     "text": [
      "weights = \n",
      "\n",
      " [ 9.20167666e-02 -7.71490238e-02  5.86797876e-03 -8.43936422e-04\n",
      "  3.83395852e-01  1.22940270e-01 -1.21100642e-01 -1.21896949e-01\n",
      " -1.67716021e-01 -8.54598525e-02 -9.62527225e-02 -2.57862282e-02\n",
      " -7.42547553e-02 -5.06910131e-02 -1.16309687e-01  2.50926875e-01\n",
      " -1.51153836e-04  7.01061785e-01  1.05783835e-02 -3.64603987e-02\n",
      "  7.86555181e-02  6.24983197e-02] \n",
      "\n",
      " Loss =  0.16322289498404216 \n",
      "\n",
      "*****************************************************************************  \n",
      "\n",
      " Train sample : \n",
      " Heart attack rate =  0.08830207079403295 \n",
      " \n",
      " Test sample : \n",
      " Heart attack rate =  0.008813391967379479\n"
     ]
    }
   ],
   "source": [
    "#Test the model on the test sample. Do we need to standardize ?\n",
    "\n",
    "y_test = tX_test.dot(w_mse_gd[-1])\n",
    "y_test_rounded = np.where(y_test > 0, 1, -1) #not sure about this line\n",
    "\n",
    "print('weights = \\n\\n', w_mse_gd[-1],'\\n\\n Loss = ', loss_mse_gd[-1],'\\n\\n*****************************************************************************',\n",
    "      ' \\n\\n Train sample : \\n', 'Heart attack rate = ', np.count_nonzero(y_train == 1)/len(y_train), '\\n \\n Test sample : \\n', 'Heart attack rate = ', np.count_nonzero(y_test_rounded == 1)/len(y_test_rounded))"
   ]
  },
  {
   "cell_type": "markdown",
   "metadata": {},
   "source": [
    "Lets run some cross validation to see the best initial weights (as a function of the proportion of 1, -1 and 0)\n"
   ]
  },
  {
   "cell_type": "markdown",
   "metadata": {},
   "source": [
    "2. MSE SGD"
   ]
  },
  {
   "cell_type": "code",
   "execution_count": 52,
   "metadata": {},
   "outputs": [
    {
     "name": "stdout",
     "output_type": "stream",
     "text": [
      "SGD iter. 1999/1999: loss=0.5308156725767825, w0=0.6727209105777945, w1=0.19167095489707042\n"
     ]
    }
   ],
   "source": [
    "w_mse_sgd, loss_mse_sgd = f.mean_squared_error_sgd(y_train_train, tX_train_train, initial_w, 2000, 0.0001)"
   ]
  },
  {
   "cell_type": "code",
   "execution_count": 53,
   "metadata": {},
   "outputs": [],
   "source": [
    "def plotLossMSE(weights, loss, y, x ):\n",
    "    loss_test_set = []\n",
    "\n",
    "    for w in weights:\n",
    "        loss_test_set.append(f.compute_mse(y, x, w))\n",
    "\n",
    "    plt.figure(0)\n",
    "    plt.semilogy(loss)\n",
    "    plt.semilogy(loss_test_set)\n",
    "    plt.show()\n"
   ]
  },
  {
   "cell_type": "code",
   "execution_count": 67,
   "metadata": {},
   "outputs": [
    {
     "data": {
      "text/plain": [
       "(1000, 22)"
      ]
     },
     "execution_count": 67,
     "metadata": {},
     "output_type": "execute_result"
    }
   ],
   "source": [
    "w_mse_gd.shape"
   ]
  },
  {
   "cell_type": "code",
   "execution_count": 54,
   "metadata": {},
   "outputs": [
    {
     "data": {
      "image/png": "[encoded data removed]",
      "text/plain": [
       "<Figure size 640x480 with 1 Axes>"
      ]
     },
     "metadata": {},
     "output_type": "display_data"
    }
   ],
   "source": [
    "plotLossMSE(w_mse_sgd, loss_mse_sgd, y_train_test, tX_train_test)"
   ]
  },
  {
   "cell_type": "code",
   "execution_count": 57,
   "metadata": {},
   "outputs": [
    {
     "name": "stdout",
     "output_type": "stream",
     "text": [
      "Accuracy:  0.5536311089891407\n",
      "F1 score:  0.08754698174720187\n"
     ]
    }
   ],
   "source": [
    "y_pred = tX_train_test.dot(w_mse_sgd[-1])\n",
    "y_pred = np.where(y_pred > 0, 1, -1)\n",
    "\n",
    "_,_,_,_,f1 = f.confusion_matrix(y_train_test, y_pred)\n",
    "\n",
    "print(\"Accuracy: \", np.sum(y_pred == y_train_test)/len(y_train_test))\n",
    "\n",
    "print(\"F1 score: \", f1)"
   ]
  },
  {
   "cell_type": "code",
   "execution_count": 58,
   "metadata": {},
   "outputs": [
    {
     "name": "stdout",
     "output_type": "stream",
     "text": [
      "weights = \n",
      " [ 0.67272091  0.19167095  0.01685251 -0.06640884  0.93035369  0.71186752\n",
      "  0.72274045  0.66111226  0.37007749  0.77780544 -0.50236852 -0.54662024\n",
      "  0.69056636  0.80070849  0.70249968  0.77342045 -0.31979801  0.9077714\n",
      "  0.69292927  0.79724999  0.87622862  0.88066828] \n",
      " Loss =  0.5308156725767825 \n",
      "*****************************************************************************  \n",
      " Train sample : \n",
      " Heart attack rate =  0.08830207079403295 \n",
      " \n",
      " Test sample : \n",
      " Heart attack rate =  0.40006765466862926\n"
     ]
    }
   ],
   "source": [
    "y_test_sgd = tX_test.dot(w_mse_sgd[-1])\n",
    "y_test_rounded_sgd = np.where(y_test_sgd > 0, 1, -1)\n",
    "\n",
    "print('weights = \\n', w_mse_sgd[-1],'\\n Loss = ', loss_mse_sgd[-1],'\\n*****************************************************************************',\n",
    "      ' \\n Train sample : \\n', 'Heart attack rate = ', np.count_nonzero(y_train == 1)/len(y_train), '\\n \\n Test sample : \\n', 'Heart attack rate = ', np.count_nonzero(y_test_rounded_sgd == 1)/len(y_test_rounded_sgd))"
   ]
  },
  {
   "cell_type": "markdown",
   "metadata": {},
   "source": [
    "3. Least squares"
   ]
  },
  {
   "cell_type": "code",
   "execution_count": 63,
   "metadata": {},
   "outputs": [],
   "source": [
    "w_ls, loss_ls = f.least_squares(y_train_train, tX_train_train)"
   ]
  },
  {
   "cell_type": "code",
   "execution_count": 56,
   "metadata": {},
   "outputs": [
    {
     "name": "stdout",
     "output_type": "stream",
     "text": [
      "Accuracy:  0.9117034568929613\n",
      "F1 score:  0.03529411764705882\n"
     ]
    }
   ],
   "source": [
    "y_pred = tX_train_test.dot(w_ls)\n",
    "y_pred = np.where(y_pred > 0, 1, -1)\n",
    "\n",
    "_,_,_,_,f1 = f.confusion_matrix(y_train_test, y_pred)\n",
    "\n",
    "print(\"Accuracy: \", np.sum(y_pred == y_train_test)/len(y_train_test))\n",
    "\n",
    "print(\"F1 score: \", f1)"
   ]
  },
  {
   "cell_type": "code",
   "execution_count": 69,
   "metadata": {},
   "outputs": [
    {
     "name": "stdout",
     "output_type": "stream",
     "text": [
      "weights = \n",
      " [-3.54515184e-01  5.76100349e-02  2.15645760e-03 -1.88754185e-04\n",
      " -3.22325550e-02 -9.15316093e-03 -9.19649704e-02 -3.69989496e-01\n",
      " -4.77401102e-02 -9.79382213e-02 -2.50199111e-03 -5.79831694e-03\n",
      " -1.02170381e-01 -4.18711437e-02 -7.19620069e-02  3.78987972e-02\n",
      "  1.72309041e-02 -2.14401256e-01  2.99498822e-02 -5.64090919e-03\n",
      " -5.15795614e-03 -9.86993155e-03] \n",
      " Loss =  0.1368442031431572 \n",
      "*****************************************************************************  \n",
      " Train sample : \n",
      " Heart attack rate =  0.08830207079403295 \n",
      " \n",
      " Test sample : \n",
      " Heart attack rate =  0.0025873339489298677\n"
     ]
    }
   ],
   "source": [
    "\n",
    "y_test_ls = tX_test.dot(w_ls)\n",
    "y_test_ls = np.where(y_test_ls > 0, 1, -1)\n",
    "\n",
    "print('weights = \\n', w_ls,'\\n Loss = ', loss_ls,'\\n*****************************************************************************',\n",
    "      ' \\n Train sample : \\n', 'Heart attack rate = ', np.count_nonzero(y_train == 1)/len(y_train), '\\n \\n Test sample : \\n', 'Heart attack rate = ', np.count_nonzero(y_test_ls == 1)/len(y_test_ls))"
   ]
  },
  {
   "cell_type": "markdown",
   "metadata": {},
   "source": [
    "4. Ridge regression"
   ]
  },
  {
   "cell_type": "code",
   "execution_count": 141,
   "metadata": {},
   "outputs": [],
   "source": [
    "w_ridge, loss_ridge = f.ridge_regression(y_train, tX_train, 0.01)"
   ]
  },
  {
   "cell_type": "code",
   "execution_count": null,
   "metadata": {},
   "outputs": [],
   "source": [
    "losses = np.zeros(max_iters)\n",
    "    weights = np.zeros((max_iters, tx.shape[1]))\n",
    "\n",
    "for l in np.arange(1*10**-6, 1, 7):\n",
    "    w, l = f.ridge_regression(y_train, tX_train, l)\n",
    "    weights.append()"
   ]
  },
  {
   "cell_type": "code",
   "execution_count": 63,
   "metadata": {},
   "outputs": [
    {
     "name": "stdout",
     "output_type": "stream",
     "text": [
      "weights = \n",
      " [-0.16807427  0.03917705  0.00263183 -0.00060332 -0.04608669 -0.03046109\n",
      " -0.09241493 -0.30090331 -0.06105668 -0.09886347 -0.01771055 -0.00968188\n",
      " -0.11182754 -0.0440128  -0.08040227  0.01886485  0.01556599 -0.07420305\n",
      " -0.02540871 -0.01530144 -0.01029129 -0.01434477] \n",
      " Loss =  0.13792607978063323 \n",
      "*****************************************************************************  \n",
      " Train sample : \n",
      " Heart attack rate =  0.08830207079403295 \n",
      " \n",
      " Test sample : \n",
      " Heart attack rate =  0.001307380758646541\n"
     ]
    }
   ],
   "source": [
    "y_test_ridge = tX_test.dot(w_ridge)\n",
    "y_test_ridge = np.where(y_test_ridge > 0, 1, -1)\n",
    "\n",
    "print('weights = \\n', w_ridge,'\\n Loss = ', loss_ridge,'\\n*****************************************************************************',\n",
    "      ' \\n Train sample : \\n', 'Heart attack rate = ', np.count_nonzero(y_train == 1)/len(y_train), '\\n \\n Test sample : \\n', 'Heart attack rate = ', np.count_nonzero(y_test_ridge == 1)/len(y_test_ridge))"
   ]
  },
  {
   "cell_type": "markdown",
   "metadata": {},
   "source": [
    "5. Logistic regression"
   ]
  },
  {
   "cell_type": "code",
   "execution_count": 143,
   "metadata": {},
   "outputs": [],
   "source": [
    "y_train_processed_logreg = np.where(y_train == 1, 1, 0)\n",
    "y_train_train_lg = np.where(y_train == 1, 1, 0)"
   ]
  },
  {
   "cell_type": "code",
   "execution_count": 144,
   "metadata": {},
   "outputs": [
    {
     "name": "stdout",
     "output_type": "stream",
     "text": [
      "Gradient Descent(0/499): loss=22.228446953619866, w0=0.9088319282565185, w1=0.774423255619819\n",
      "Gradient Descent(1/499): loss=9.611718774381371, w0=0.8176679123012238, w1=0.5488481612199283\n",
      "Gradient Descent(2/499): loss=1.28687327883213, w0=0.7266558084004003, w1=0.323610439031915\n",
      "Gradient Descent(3/499): loss=1.0905442714743465, w0=0.7117236550240043, w1=0.292093444421554\n",
      "Gradient Descent(4/499): loss=1.0209680298350716, w0=0.7050843262580097, w1=0.28412996682435854\n",
      "Gradient Descent(5/499): loss=0.9651266706147152, w0=0.6994541056665075, w1=0.2781157575578648\n",
      "Gradient Descent(6/499): loss=0.9196805520798447, w0=0.6942399818510507, w1=0.27240817064918965\n",
      "Gradient Descent(7/499): loss=0.8819683110273338, w0=0.6892627378443773, w1=0.2665683889722687\n",
      "Gradient Descent(8/499): loss=0.8496157601200154, w0=0.6845022601659031, w1=0.2606701030212248\n",
      "Gradient Descent(9/499): loss=0.8209881234992175, w0=0.6799539292963054, w1=0.2548381813401633\n",
      "Gradient Descent(10/499): loss=0.7950910548661506, w0=0.6755910806580318, w1=0.24910654626740458\n",
      "Gradient Descent(11/499): loss=0.7713430891562554, w0=0.6713768968233914, w1=0.24345089804999467\n",
      "Gradient Descent(12/499): loss=0.7494052907433914, w0=0.667275676458805, w1=0.2378284051560484\n",
      "Gradient Descent(13/499): loss=0.7290747586183076, w0=0.6632570227636764, w1=0.23219599886334866\n",
      "Gradient Descent(14/499): loss=0.7102213222350677, w0=0.6592968271479897, w1=0.22651761649439722\n",
      "Gradient Descent(15/499): loss=0.6927506184594613, w0=0.6553771179985042, w1=0.22076683953867748\n",
      "Gradient Descent(16/499): loss=0.6765831069969753, w0=0.6514854861294337, w1=0.21492740409236155\n",
      "Gradient Descent(17/499): loss=0.6616429078039279, w0=0.6476143318625053, w1=0.20899258882545646\n",
      "Gradient Descent(18/499): loss=0.6478527692700583, w0=0.6437600285067161, w1=0.2029639511183989\n",
      "Gradient Descent(19/499): loss=0.6351327712296176, w0=0.6399220563446495, w1=0.19684969352311024\n",
      "Gradient Descent(20/499): loss=0.623401109135539, w0=0.6361021561238983, w1=0.19066288103780282\n",
      "Gradient Descent(21/499): loss=0.6125758110555022, w0=0.6323035502087309, w1=0.1844196974445413\n",
      "Gradient Descent(22/499): loss=0.6025766374861247, w0=0.6285302716389773, w1=0.1781378882004095\n",
      "Gradient Descent(23/499): loss=0.5933267354352844, w0=0.6247866260729835, w1=0.1718354836639065\n",
      "Gradient Descent(24/499): loss=0.584753858909778, w0=0.621076793575684, w1=0.1655298402579641\n",
      "Gradient Descent(25/499): loss=0.5767911261737454, w0=0.617404561431678, w1=0.1592369903321275\n",
      "Gradient Descent(26/499): loss=0.5693773707776038, w0=0.6137731685654546, w1=0.15297126042816037\n",
      "Gradient Descent(27/499): loss=0.5624571777588648, w0=0.6101852372940005, w1=0.1467451027331751\n",
      "Gradient Descent(28/499): loss=0.5559806989180265, w0=0.606642767963793, w1=0.14056908226759696\n",
      "Gradient Descent(29/499): loss=0.5499033279018578, w0=0.603147174855594, w1=0.13445196813115975\n",
      "Gradient Descent(30/499): loss=0.5441852975661645, w0=0.5996993459864705, w1=0.12840088673855812\n",
      "Gradient Descent(31/499): loss=0.5387912444418679, w0=0.5962997139293137, w1=0.1224215054303093\n",
      "Gradient Descent(32/499): loss=0.5336897704747617, w0=0.5929483288088864, w1=0.11651822438466317\n",
      "Gradient Descent(33/499): loss=0.5288530210616451, w0=0.5896449279073259, w1=0.11069436258260851\n",
      "Gradient Descent(34/499): loss=0.5242562904101007, w0=0.5863889987639495, w1=0.10495232951528843\n",
      "Gradient Descent(35/499): loss=0.5198776597678892, w0=0.5831798343677659, w1=0.09929377853986376\n",
      "Gradient Descent(36/499): loss=0.5156976704589129, w0=0.5800165801582919, w1=0.09371974060006183\n",
      "Gradient Descent(37/499): loss=0.5116990313874206, w0=0.5768982732212132, w1=0.08823073877157755\n",
      "Gradient Descent(38/499): loss=0.5078663593171249, w0=0.5738238744229252, w1=0.08282688507557441\n",
      "Gradient Descent(39/499): loss=0.5041859494952527, w0=0.5707922943780107, w1=0.07750796147270703\n",
      "Gradient Descent(40/499): loss=0.5006455738598053, w0=0.5678024141649946, w1=0.07227348709128667\n",
      "Gradient Descent(41/499): loss=0.4972343039936514, w0=0.564853101653446, w1=0.06712277368886199\n",
      "Gradient Descent(42/499): loss=0.49394235607110115, w0=0.5619432242164272, w1=0.06205497118643444\n",
      "Gradient Descent(43/499): loss=0.4907609552140502, w0=0.5590716584995662, w1=0.057069104906882134\n",
      "Gradient Descent(44/499): loss=0.4876822168915404, w0=0.5562372978153979, w1=0.05216410592956735\n",
      "Gradient Descent(45/499): loss=0.48469904323030183, w0=0.5534390576364647, w1=0.047338835761944455\n",
      "Gradient Descent(46/499): loss=0.4818050323369739, w0=0.5506758795764324, w1=0.04259210633674574\n",
      "Gradient Descent(47/499): loss=0.47899439895484, w0=0.5479467341761336, w1=0.037922696174300344\n",
      "Gradient Descent(48/499): loss=0.4762619049834334, w0=0.5452506227506501, w1=0.03332936340439237\n",
      "Gradient Descent(49/499): loss=0.47360279857571697, w0=0.5425865785032122, w1=0.028810856219445416\n",
      "Gradient Descent(50/499): loss=0.4710127606940892, w0=0.5399536670705061, w1=0.024365921228432508\n",
      "Gradient Descent(51/499): loss=0.46848785815379435, w0=0.5373509866305445, w1=0.019993310096114582\n",
      "Gradient Descent(52/499): loss=0.4660245023116055, w0=0.5347776676772916, w1=0.01569178478238693\n",
      "Gradient Descent(53/499): loss=0.4636194126705026, w0=0.5322328725445711, w1=0.011460121639242142\n",
      "Gradient Descent(54/499): loss=0.46126958476912944, w0=0.5297157947444595, w1=0.007297114576000042\n",
      "Gradient Descent(55/499): loss=0.45897226180976863, w0=0.5272256581715249, w1=0.003201577465172436\n",
      "Gradient Descent(56/499): loss=0.4567249095520164, w0=0.5247617162132419, w1=-0.0008276540699250542\n",
      "Gradient Descent(57/499): loss=0.4545251940627269, w0=0.5223232507981378, w1=-0.00479172137022095\n",
      "Gradient Descent(58/499): loss=0.45237096196745513, w0=0.5199095714062406, w1=-0.008691741863843966\n",
      "Gradient Descent(59/499): loss=0.45026022289572665, w0=0.5175200140608588, w1=-0.012528808519270816\n",
      "Gradient Descent(60/499): loss=0.44819113385306775, w0=0.5151539403163188, w1=-0.01630398956488536\n",
      "Gradient Descent(61/499): loss=0.4461619852877023, w0=0.5128107362528002, w1=-0.02001832842258254\n",
      "Gradient Descent(62/499): loss=0.4441711886499919, w0=0.5104898114866424, w1=-0.023672843812408324\n",
      "Gradient Descent(63/499): loss=0.44221726526871685, w0=0.5081905982023165, w1=-0.02726852999290911\n",
      "Gradient Descent(64/499): loss=0.4402988363907548, w0=0.5059125502105302, w1=-0.03080635710817744\n",
      "Gradient Descent(65/499): loss=0.4384146142501353, w0=0.5036551420355808, w1=-0.034287271617775075\n",
      "Gradient Descent(66/499): loss=0.436563394049233, w0=0.5014178680340078, w1=-0.03771219678999299\n",
      "Gradient Descent(67/499): loss=0.4347440467494069, w0=0.4992002415457682, w1=-0.04108203324243448\n",
      "Gradient Descent(68/499): loss=0.4329555125810003, w0=0.4970017940785166, w1=-0.04439765951681802\n",
      "Gradient Descent(69/499): loss=0.4311967951935532, w0=0.49482207452507626, w1=-0.0476599326772989\n",
      "Gradient Descent(70/499): loss=0.4294669563765971, w0=0.492660648413812, w1=-0.05086968892359414\n",
      "Gradient Descent(71/499): loss=0.42776511128967454, w0=0.49051709719133324, w1=-0.05402774421183526\n",
      "Gradient Descent(72/499): loss=0.4260904241474434, w0=0.48839101753674696, w1=-0.05713489487743024\n",
      "Gradient Descent(73/499): loss=0.424442104312018, w0=0.48628202070653215, w1=-0.06019191825533669\n",
      "Gradient Descent(74/499): loss=0.42281940275020513, w0=0.48418973190900305, w1=-0.06319957329407545\n",
      "Gradient Descent(75/499): loss=0.4212216088181064, w0=0.4821137897072632, w1=-0.06615860116057896\n",
      "Gradient Descent(76/499): loss=0.419648047339779, w0=0.48005384544951407, w1=-0.06906972583360156\n",
      "Gradient Descent(77/499): loss=0.4180980759503519, w0=0.4780095627255663, w1=-0.07193365468393989\n",
      "Gradient Descent(78/499): loss=0.4165710826772496, w0=0.47598061684840226, w1=-0.07475107904014155\n",
      "Gradient Descent(79/499): loss=0.4150664837360422, w0=0.473966694359654, w1=-0.07752267473873331\n",
      "Gradient Descent(80/499): loss=0.41358372151996425, w0=0.47196749255788273, w1=-0.08024910265829024\n",
      "Gradient Descent(81/499): loss=0.4121222627643811, w0=0.46998271904857813, w1=-0.0829310092369047\n",
      "Gradient Descent(82/499): loss=0.41068159686944244, w0=0.46801209131483107, w1=-0.08556902697280766\n",
      "Gradient Descent(83/499): loss=0.40926123436591544, w0=0.46605533630767215, w1=-0.0881637749080523\n",
      "Gradient Descent(84/499): loss=0.40786070551073567, w0=0.4641121900551105, w1=-0.09071585909529709\n",
      "Gradient Descent(85/499): loss=0.4064795590001822, w0=0.46218239728894867, w1=-0.09322587304782796\n",
      "Gradient Descent(86/499): loss=0.40511736078980665, w0=0.46026571108849323, w1=-0.09569439817304048\n",
      "Gradient Descent(87/499): loss=0.40377369301133287, w0=0.45836189254032195, w1=-0.09812200418966761\n",
      "Gradient Descent(88/499): loss=0.40244815297771025, w0=0.45647071041331116, w1=-0.10050924952908832\n",
      "Gradient Descent(89/499): loss=0.40114035226836314, w0=0.4545919408481666, w1=-0.10285668172109141\n",
      "Gradient Descent(90/499): loss=0.39984991588746266, w0=0.4527253670607412, w1=-0.1051648377644967\n",
      "Gradient Descent(91/499): loss=0.398576481488721, w0=0.4508707790584602, w1=-0.10743424448305748\n",
      "Gradient Descent(92/499): loss=0.3973196986608406, w0=0.4490279733692115, w1=-0.10966541886708121\n",
      "Gradient Descent(93/499): loss=0.3960792282682984, w0=0.4471967527820927, w1=-0.11185886840121531\n",
      "Gradient Descent(94/499): loss=0.394854741842643, w0=0.4453769260994391, w1=-0.11401509137884838\n",
      "Gradient Descent(95/499): loss=0.39364592101993506, w0=0.44356830789958984, w1=-0.11613457720357885\n",
      "Gradient Descent(96/499): loss=0.3924524570203566, w0=0.4417707183098775, w1=-0.11821780667820045\n",
      "Gradient Descent(97/499): loss=0.39127405016638767, w0=0.4399839827893546, w1=-0.12026525228165\n",
      "Gradient Descent(98/499): loss=0.39011040943626407, w0=0.4382079319207973, w1=-0.12227737843435665\n",
      "Gradient Descent(99/499): loss=0.38896125204973925, w0=0.4364424012115529, w1=-0.12425464175242433\n",
      "Gradient Descent(100/499): loss=0.3878263030834276, w0=0.43468723090281747, w1=-0.12619749129107016\n",
      "Gradient Descent(101/499): loss=0.38670529511325674, w0=0.4329422657869567, w1=-0.12810636877773238\n",
      "Gradient Descent(102/499): loss=0.3855979678817738, w0=0.4312073550325008, w1=-0.1299817088352509\n",
      "Gradient Descent(103/499): loss=0.3845040679882449, w0=0.4294823520164641, w1=-0.13182393919551308\n",
      "Gradient Descent(104/499): loss=0.3834233485996717, w0=0.4277671141636605, w1=-0.1336334809039462\n",
      "Gradient Descent(105/499): loss=0.38235556918101316, w0=0.42606150279269983, w1=-0.13541074851522703\n",
      "Gradient Descent(106/499): loss=0.3813004952430427, w0=0.4243653829683704, w1=-0.1371561502805678\n",
      "Gradient Descent(107/499): loss=0.3802578981064116, w0=0.4226786233601243, w1=-0.13887008832692627\n",
      "Gradient Descent(108/499): loss=0.37922755468061453, w0=0.4210010961063991, w1=-0.14055295882847668\n",
      "Gradient Descent(109/499): loss=0.37820924725665617, w0=0.41933267668452195, w1=-0.14220515217066698\n",
      "Gradient Descent(110/499): loss=0.3772027633123305, w0=0.41767324378595516, w1=-0.14382705310717714\n",
      "Gradient Descent(111/499): loss=0.37620789532910787, w0=0.4160226791966535, w1=-0.1454190409100818\n",
      "Gradient Descent(112/499): loss=0.37522444061971955, w0=0.41438086768231513, w1=-0.14698148951351114\n",
      "Gradient Descent(113/499): loss=0.3742522011655974, w0=0.4127476968783194, w1=-0.14851476765109176\n",
      "Gradient Descent(114/499): loss=0.37329098346340217, w0=0.41112305718415254, w1=-0.1500192389874409\n",
      "Gradient Descent(115/499): loss=0.3723405983799428, w0=0.40950684166213364, w1=-0.15149526224397614\n",
      "Gradient Descent(116/499): loss=0.3714008610148366, w0=0.4078989459402615, w1=-0.1529431913192936\n",
      "Gradient Descent(117/499): loss=0.3704715905703259, w0=0.4062992681190102, w1=-0.15436337540435824\n",
      "Gradient Descent(118/499): loss=0.3695526102277109, w0=0.40470770868191036, w1=-0.15575615909274032\n",
      "Gradient Descent(119/499): loss=0.3686437470299017, w0=0.40312417040976023, w1=-0.15712188248612352\n",
      "Gradient Descent(120/499): loss=0.3677448317696413, w0=0.4015485582983165, w1=-0.1584608812953013\n",
      "Gradient Descent(121/499): loss=0.36685569888297886, w0=0.3999807794793231, w1=-0.15977348693686982\n",
      "Gradient Descent(122/499): loss=0.36597618634761836, w0=0.39842074314474113, w1=-0.16106002662581723\n",
      "Gradient Descent(123/499): loss=0.3651061355857901, w0=0.39686836047404944, w1=-0.16232082346420176\n",
      "Gradient Descent(124/499): loss=0.36424539137132794, w0=0.39532354456449115, w1=-0.1635561965261028\n",
      "Gradient Descent(125/499): loss=0.36339380174065844, w0=0.39378621036414607, w1=-0.16476646093902175\n",
      "Gradient Descent(126/499): loss=0.3625512179074346, w0=0.39225627460771506, w1=-0.16595192796190297\n",
      "Gradient Descent(127/499): loss=0.36171749418056737, w0=0.3907336557549059, w1=-0.1671129050599368\n",
      "Gradient Descent(128/499): loss=0.36089248788542827, w0=0.3892182739313157, w1=-0.16824969597630102\n",
      "Gradient Descent(129/499): loss=0.3600760592880195, w0=0.38771005087170907, w1=-0.16936260080099025\n",
      "Gradient Descent(130/499): loss=0.3592680715219192, w0=0.3862089098655948, w1=-0.170451916036876\n",
      "Gradient Descent(131/499): loss=0.35846839051782886, w0=0.3847147757050083, w1=-0.17151793466313472\n",
      "Gradient Descent(132/499): loss=0.35767688493556343, w0=0.3832275746344109, w1=-0.1725609461961745\n",
      "Gradient Descent(133/499): loss=0.3568934260983363, w0=0.38174723430262003, w1=-0.1735812367481861\n",
      "Gradient Descent(134/499): loss=0.35611788792920834, w0=0.38027368371668835, w1=-0.17457908908343775\n",
      "Gradient Descent(135/499): loss=0.355350146889572, w0=0.37880685319765267, w1=-0.17555478267242872\n",
      "Gradient Descent(136/499): loss=0.35459008191956337, w0=0.3773466743380771, w1=-0.1765085937440103\n",
      "Gradient Descent(137/499): loss=0.35383757438029234, w0=0.37589307996131743, w1=-0.17744079533557916\n",
      "Gradient Descent(138/499): loss=0.35309250799779973, w0=0.37444600408243683, w1=-0.17835165734144273\n",
      "Gradient Descent(139/499): loss=0.3523547688086489, w0=0.3730053818707057, w1=-0.17924144655945096\n",
      "Gradient Descent(140/499): loss=0.3516242451070755, w0=0.3715711496136208, w1=-0.18011042673598598\n",
      "Gradient Descent(141/499): loss=0.35090082739361617, w0=0.3701432446823821, w1=-0.18095885860939523\n",
      "Gradient Descent(142/499): loss=0.3501844083251498, w0=0.3687216054987669, w1=-0.18178699995195075\n",
      "Gradient Descent(143/499): loss=0.349474882666288, w0=0.36730617150334505, w1=-0.18259510561041264\n",
      "Gradient Descent(144/499): loss=0.3487721472420547, w0=0.3658968831249785, w1=-0.1833834275452715\n",
      "Gradient Descent(145/499): loss=0.3480761008918004, w0=0.36449368175155394, w1=-0.18415221486874037\n",
      "Gradient Descent(146/499): loss=0.34738664442430317, w0=0.3630965097018966, w1=-0.18490171388156368\n",
      "Gradient Descent(147/499): loss=0.34670368057400675, w0=0.36170531019881635, w1=-0.1856321681087073\n",
      "Gradient Descent(148/499): loss=0.3460271139583549, w0=0.3603200273432394, w1=-0.18634381833399033\n",
      "Gradient Descent(149/499): loss=0.34535685103618086, w0=0.35894060608938033, w1=-0.18703690263371628\n",
      "Gradient Descent(150/499): loss=0.3446928000671126, w0=0.35756699222091076, w1=-0.18771165640935855\n",
      "Gradient Descent(151/499): loss=0.3440348710719643, w0=0.3561991323280835, w1=-0.18836831241935206\n",
      "Gradient Descent(152/499): loss=0.3433829757940742, w0=0.3548369737857713, w1=-0.18900710081003982\n",
      "Gradient Descent(153/499): loss=0.34273702766156444, w0=0.3534804647323826, w1=-0.1896282491458217\n",
      "Gradient Descent(154/499): loss=0.34209694175049066, w0=0.35212955404961666, w1=-0.19023198243854877\n",
      "Gradient Descent(155/499): loss=0.3414626347488562, w0=0.35078419134302263, w1=-0.19081852317620557\n",
      "Gradient Descent(156/499): loss=0.3408340249214645, w0=0.3494443269233287, w1=-0.19138809135091908\n",
      "Gradient Descent(157/499): loss=0.34021103207558584, w0=0.34810991178850853, w1=-0.1919409044863322\n",
      "Gradient Descent(158/499): loss=0.33959357752741726, w0=0.34678089760655306, w1=-0.19247717766437664\n",
      "Gradient Descent(159/499): loss=0.33898158406931217, w0=0.3454572366989184, w1=-0.19299712355147838\n",
      "Gradient Descent(160/499): loss=0.33837497593776006, w0=0.3441388820246198, w1=-0.19350095242422743\n",
      "Gradient Descent(161/499): loss=0.337773678782098, w0=0.3428257871649446, w1=-0.19398887219454064\n",
      "Gradient Descent(162/499): loss=0.33717761963393345, w0=0.3415179063087574, w1=-0.19446108843434629\n",
      "Gradient Descent(163/499): loss=0.3365867268772631, w0=0.34021519423837154, w1=-0.19491780439981587\n",
      "Gradient Descent(164/499): loss=0.3360009302192675, w0=0.33891760631596257, w1=-0.19535922105516823\n",
      "Gradient Descent(165/499): loss=0.3354201606617693, w0=0.33762509847050026, w1=-0.19578553709606875\n",
      "Gradient Descent(166/499): loss=0.33484435047333533, w0=0.33633762718517635, w1=-0.1961969489726457\n",
      "Gradient Descent(167/499): loss=0.33427343316201175, w0=0.33505514948530646, w1=-0.19659365091214404\n",
      "Gradient Descent(168/499): loss=0.3337073434486732, w0=0.3337776229266855, w1=-0.1969758349412357\n",
      "Gradient Descent(169/499): loss=0.3331460172409757, w0=0.3325050055843769, w1=-0.19734369090800447\n",
      "Gradient Descent(170/499): loss=0.3325893916078978, w0=0.3312372560419159, w1=-0.1976974065036221\n",
      "Gradient Descent(171/499): loss=0.3320374047548565, w0=0.3299743333809096, w1=-0.19803716728373166\n",
      "Gradient Descent(172/499): loss=0.3314899959993872, w0=0.3287161971710155, w1=-0.19836315668955246\n",
      "Gradient Descent(173/499): loss=0.33094710574737213, w0=0.3274628074602826, w1=-0.1986755560687204\n",
      "Gradient Descent(174/499): loss=0.3304086754698084, w0=0.32621412476583783, w1=-0.19897454469587697\n",
      "Gradient Descent(175/499): loss=0.32987464768010116, w0=0.32497011006490395, w1=-0.19926029979301813\n",
      "Gradient Descent(176/499): loss=0.3293449659118719, w0=0.32373072478613324, w1=-0.1995329965496147\n",
      "Gradient Descent(177/499): loss=0.3288195746972705, w0=0.3224959308012431, w1=-0.19979280814251463\n",
      "Gradient Descent(178/499): loss=0.3282984195457793, w0=0.3212656904169404, w1=-0.20003990575563635\n",
      "Gradient Descent(179/499): loss=0.32778144692349925, w0=0.3200399663671217, w1=-0.20027445859946272\n",
      "Gradient Descent(180/499): loss=0.3272686042329069, w0=0.3188187218053365, w1=-0.20049663393034334\n",
      "Gradient Descent(181/499): loss=0.3267598397930729, w0=0.31760192029750284, w1=-0.20070659706961338\n",
      "Gradient Descent(182/499): loss=0.3262551028203308, w0=0.3163895258148629, w1=-0.20090451142253551\n",
      "Gradient Descent(183/499): loss=0.32575434340938747, w0=0.31518150272716855, w1=-0.20109053849707206\n",
      "Gradient Descent(184/499): loss=0.32525751251486423, w0=0.3139778157960864, w1=-0.20126483792249286\n",
      "Gradient Descent(185/499): loss=0.3247645619332599, w0=0.3127784301688128, w1=-0.20142756746782506\n",
      "Gradient Descent(186/499): loss=0.324275444285327, w0=0.3115833113718886, w1=-0.20157888306014934\n",
      "Gradient Descent(187/499): loss=0.3237901129988508, w0=0.31039242530520617, w1=-0.20171893880274774\n",
      "Gradient Descent(188/499): loss=0.32330852229182266, w0=0.3092057382361987, w1=-0.20184788699310713\n",
      "Gradient Descent(189/499): loss=0.32283062715599986, w0=0.30802321679420447, w1=-0.20196587814078246\n",
      "Gradient Descent(190/499): loss=0.32235638334084254, w0=0.30684482796499835, w1=-0.20207306098512334\n",
      "Gradient Descent(191/499): loss=0.32188574733781716, w0=0.3056705390854825, w1=-0.2021695825128673\n",
      "Gradient Descent(192/499): loss=0.32141867636506377, w0=0.3045003178385297, w1=-0.20225558797560236\n",
      "Gradient Descent(193/499): loss=0.3209551283524128, w0=0.30333413224797284, w1=-0.20233122090710243\n",
      "Gradient Descent(194/499): loss=0.3204950619267469, w0=0.3021719506737331, w1=-0.20239662314053702\n",
      "Gradient Descent(195/499): loss=0.32003843639770035, w0=0.30101374180708185, w1=-0.20245193482555823\n",
      "Gradient Descent(196/499): loss=0.31958521174368437, w0=0.2998594746660297, w1=-0.2024972944452667\n",
      "Gradient Descent(197/499): loss=0.31913534859823767, w0=0.29870911859083726, w1=-0.20253283883305823\n",
      "Gradient Descent(198/499): loss=0.31868880823668705, w0=0.29756264323964254, w1=-0.20255870318935298\n",
      "Gradient Descent(199/499): loss=0.3182455525631166, w0=0.29642001858419975, w1=-0.20257502109820824\n",
      "Gradient Descent(200/499): loss=0.31780554409763667, w0=0.29528121490572445, w1=-0.20258192454381657\n",
      "Gradient Descent(201/499): loss=0.3173687459639439, w0=0.294146202790841, w1=-0.20257954392688973\n",
      "Gradient Descent(202/499): loss=0.31693512187716855, w0=0.29301495312762743, w1=-0.20256800808093023\n",
      "Gradient Descent(203/499): loss=0.3165046361319994, w0=0.29188743710175385, w1=-0.20254744428839036\n",
      "Gradient Descent(204/499): loss=0.31607725359108285, w0=0.2907636261927104, w1=-0.20251797829672033\n",
      "Gradient Descent(205/499): loss=0.31565293967368674, w0=0.2896434921701208, w1=-0.2024797343343056\n",
      "Gradient Descent(206/499): loss=0.31523166034462424, w0=0.28852700709013807, w1=-0.20243283512629415\n",
      "Gradient Descent(207/499): loss=0.3148133821034322, w0=0.28741414329191894, w1=-0.20237740191031395\n",
      "Gradient Descent(208/499): loss=0.3143980719737962, w0=0.28630487339417404, w1=-0.20231355445208124\n",
      "Gradient Descent(209/499): loss=0.31398569749321775, w0=0.28519917029178976, w1=-0.20224141106089982\n",
      "Gradient Descent(210/499): loss=0.31357622670291785, w0=0.2840970071525203, w1=-0.20216108860505141\n",
      "Gradient Descent(211/499): loss=0.31316962813797017, w0=0.2829983574137458, w1=-0.20207270252707757\n",
      "Gradient Descent(212/499): loss=0.31276587081765905, w0=0.28190319477929476, w1=-0.20197636685895295\n",
      "Gradient Descent(213/499): loss=0.3123649242360583, w0=0.28081149321632776, w1=-0.20187219423715036\n",
      "Gradient Descent(214/499): loss=0.3119667583528217, w0=0.2797232269522801, w1=-0.20176029591759737\n",
      "Gradient Descent(215/499): loss=0.3115713435841854, w0=0.2786383704718614, w1=-0.20164078179052455\n",
      "Gradient Descent(216/499): loss=0.31117865079417095, w0=0.27755689851410986, w1=-0.2015137603952055\n",
      "Gradient Descent(217/499): loss=0.3107886512859902, w0=0.27647878606949855, w1=-0.20137933893458826\n",
      "Gradient Descent(218/499): loss=0.3104013167936429, w0=0.2754040083770927, w1=-0.20123762328981856\n",
      "Gradient Descent(219/499): loss=0.3100166194737035, w0=0.27433254092175563, w1=-0.20108871803465433\n",
      "Gradient Descent(220/499): loss=0.3096345318972936, w0=0.2732643594314012, w1=-0.2009327264497717\n",
      "Gradient Descent(221/499): loss=0.30925502704223434, w0=0.272199439874292, w1=-0.20076975053696236\n",
      "Gradient Descent(222/499): loss=0.3088780782853744, w0=0.2711377584563809, w1=-0.20059989103322198\n",
      "Gradient Descent(223/499): loss=0.3085036593950898, w0=0.2700792916186946, w1=-0.20042324742472994\n",
      "Gradient Descent(224/499): loss=0.30813174452395165, w0=0.26902401603475806, w1=-0.20023991796071985\n",
      "Gradient Descent(225/499): loss=0.307762308201556, w0=0.26797190860805814, w1=-0.20004999966724119\n",
      "Gradient Descent(226/499): loss=0.30739532532751457, w0=0.2669229464695452, w1=-0.1998535883608116\n",
      "Gradient Descent(227/499): loss=0.3070307711645994, w0=0.2658771069751714, w1=-0.19965077866196\n",
      "Gradient Descent(228/499): loss=0.3066686213320399, w0=0.2648343677034649, w1=-0.1994416640086603\n",
      "Gradient Descent(229/499): loss=0.30630885179896783, w0=0.2637947064531379, w1=-0.19922633666965578\n",
      "Gradient Descent(230/499): loss=0.3059514388780059, w0=0.2627581012407287, w1=-0.19900488775767383\n",
      "Gradient Descent(231/499): loss=0.30559635921899797, w0=0.26172453029827575, w1=-0.19877740724253132\n",
      "Gradient Descent(232/499): loss=0.30524358980287536, w0=0.26069397207102346, w1=-0.1985439839641303\n",
      "Gradient Descent(233/499): loss=0.3048931079356591, w0=0.2596664052151581, w1=-0.19830470564534422\n",
      "Gradient Descent(234/499): loss=0.30454489124258943, w0=0.2586418085955738, w1=-0.19805965890479446\n",
      "Gradient Descent(235/499): loss=0.3041989176623865, w0=0.25762016128366705, w1=-0.19780892926951738\n",
      "Gradient Descent(236/499): loss=0.30385516544163216, w0=0.2566014425551595, w1=-0.19755260118752171\n",
      "Gradient Descent(237/499): loss=0.30351361312927494, w0=0.2555856318879479, w1=-0.19729075804023669\n",
      "Gradient Descent(238/499): loss=0.3031742395712532, w0=0.2545727089599809, w1=-0.19702348215485035\n",
      "Gradient Descent(239/499): loss=0.3028370239052318, w0=0.25356265364716124, w1=-0.19675085481653903\n",
      "Gradient Descent(240/499): loss=0.3025019455554538, w0=0.252555446021274, w1=-0.19647295628058703\n",
      "Gradient Descent(241/499): loss=0.30216898422769994, w0=0.25155106634793883, w1=-0.19618986578439768\n",
      "Gradient Descent(242/499): loss=0.30183811990435677, w0=0.25054949508458685, w1=-0.19590166155939504\n",
      "Gradient Descent(243/499): loss=0.30150933283958814, w0=0.24955071287846067, w1=-0.19560842084281696\n",
      "Gradient Descent(244/499): loss=0.30118260355460896, w0=0.24855470056463785, w1=-0.19531021988939948\n",
      "Gradient Descent(245/499): loss=0.3008579128330588, w0=0.24756143916407658, w1=-0.1950071339829527\n",
      "Gradient Descent(246/499): loss=0.30053524171647195, w0=0.24657090988168354, w1=-0.1946992374478285\n",
      "Gradient Descent(247/499): loss=0.30021457149984315, w0=0.24558309410440343, w1=-0.19438660366028024\n",
      "Gradient Descent(248/499): loss=0.2998958837272838, w0=0.24459797339932965, w1=-0.19406930505971465\n",
      "Gradient Descent(249/499): loss=0.2995791601877708, w0=0.24361552951183565, w1=-0.1937474131598364\n",
      "Gradient Descent(250/499): loss=0.29926438291098134, w0=0.2426357443637268, w1=-0.19342099855968523\n",
      "Gradient Descent(251/499): loss=0.29895153416321457, w0=0.24165860005141218, w1=-0.19309013095456654\n",
      "Gradient Descent(252/499): loss=0.2986405964433973, w0=0.24068407884409598, w1=-0.19275487914687509\n",
      "Gradient Descent(253/499): loss=0.29833155247916987, w0=0.23971216318198832, w1=-0.19241531105681292\n",
      "Gradient Descent(254/499): loss=0.298024385223054, w0=0.23874283567453486, w1=-0.1920714937330009\n",
      "Gradient Descent(255/499): loss=0.29771907784869756, w0=0.23777607909866527, w1=-0.19172349336298536\n",
      "Gradient Descent(256/499): loss=0.29741561374719416, w0=0.2368118763970599, w1=-0.19137137528363926\n",
      "Gradient Descent(257/499): loss=0.29711397652347915, w0=0.2358502106764345, w1=-0.191015203991459\n",
      "Gradient Descent(258/499): loss=0.2968141499927972, w0=0.23489106520584294, w1=-0.1906550431527567\n",
      "Gradient Descent(259/499): loss=0.2965161181772395, w0=0.23393442341499718, w1=-0.19029095561374912\n",
      "Gradient Descent(260/499): loss=0.29621986530235256, w0=0.23298026889260465, w1=-0.1899230034105429\n",
      "Gradient Descent(261/499): loss=0.295925375793811, w0=0.23202858538472274, w1=-0.1895512477790171\n",
      "Gradient Descent(262/499): loss=0.2956326342741597, w0=0.23107935679312985, w1=-0.18917574916460347\n",
      "Gradient Descent(263/499): loss=0.29534162555961824, w0=0.23013256717371325, w1=-0.18879656723196464\n",
      "Gradient Descent(264/499): loss=0.29505233465694813, w0=0.22918820073487312, w1=-0.1884137608745713\n",
      "Gradient Descent(265/499): loss=0.29476474676038217, w0=0.22824624183594272, w1=-0.18802738822417828\n",
      "Gradient Descent(266/499): loss=0.29447884724861373, w0=0.22730667498562468, w1=-0.18763750666020057\n",
      "Gradient Descent(267/499): loss=0.29419462168184324, w0=0.22636948484044273, w1=-0.1872441728189895\n",
      "Gradient Descent(268/499): loss=0.293912055798884, w0=0.2254346562032092, w1=-0.1868474426030098\n",
      "Gradient Descent(269/499): loss=0.29363113551432113, w0=0.22450217402150788, w1=-0.18644737118991822\n",
      "Gradient Descent(270/499): loss=0.29335184691572797, w0=0.22357202338619186, w1=-0.18604401304154392\n",
      "Gradient Descent(271/499): loss=0.2930741762609335, w0=0.22264418952989665, w1=-0.18563742191277172\n",
      "Gradient Descent(272/499): loss=0.2927981099753431, w0=0.22171865782556785, w1=-0.18522765086032844\n",
      "Gradient Descent(273/499): loss=0.2925236346493099, w0=0.22079541378500384, w1=-0.1848147522514731\n",
      "Gradient Descent(274/499): loss=0.2922507370355548, w0=0.21987444305741263, w1=-0.18439877777259156\n",
      "Gradient Descent(275/499): loss=0.2919794040466378, w0=0.2189557314279834, w1=-0.18397977843769636\n",
      "Gradient Descent(276/499): loss=0.2917096227524734, w0=0.21803926481647207, w1=-0.18355780459683216\n",
      "Gradient Descent(277/499): loss=0.29144138037789574, w0=0.21712502927580085, w1=-0.18313290594438764\n",
      "Gradient Descent(278/499): loss=0.29117466430026645, w0=0.21621301099067208, w1=-0.1827051315273144\n",
      "Gradient Descent(279/499): loss=0.29090946204712836, w0=0.21530319627619549, w1=-0.18227452975325373\n",
      "Gradient Descent(280/499): loss=0.29064576129390257, w0=0.2143955715765293, w1=-0.18184114839857146\n",
      "Gradient Descent(281/499): loss=0.2903835498616273, w0=0.2134901234635348, w1=-0.18140503461630222\n",
      "Gradient Descent(282/499): loss=0.29012281571473914, w0=0.21258683863544428, w1=-0.1809662349440031\n",
      "Gradient Descent(283/499): loss=0.2898635469588937, w0=0.2116857039155423, w1=-0.18052479531151797\n",
      "Gradient Descent(284/499): loss=0.2896057318388273, w0=0.2107867062508601, w1=-0.18008076104865287\n",
      "Gradient Descent(285/499): loss=0.2893493587362564, w0=0.20988983271088288, w1=-0.17963417689276306\n",
      "Gradient Descent(286/499): loss=0.2890944161678154, w0=0.2089950704862701, w1=-0.1791850869962529\n",
      "Gradient Descent(287/499): loss=0.2888408927830325, w0=0.20810240688758866, w1=-0.17873353493398855\n",
      "Gradient Descent(288/499): loss=0.2885887773623398, w0=0.20721182934405832, w1=-0.17827956371062503\n",
      "Gradient Descent(289/499): loss=0.28833805881512115, w0=0.2063233254023103, w1=-0.17782321576784743\n",
      "Gradient Descent(290/499): loss=0.28808872617779396, w0=0.20543688272515764, w1=-0.17736453299152805\n",
      "Gradient Descent(291/499): loss=0.2878407686119244, w0=0.2045524890903784, w1=-0.17690355671879907\n",
      "Gradient Descent(292/499): loss=0.2875941754023773, w0=0.20367013238951073, w1=-0.17644032774504242\n",
      "Gradient Descent(293/499): loss=0.2873489359554979, w0=0.20278980062666027, w1=-0.17597488633079686\n",
      "Gradient Descent(294/499): loss=0.2871050397973251, w0=0.2019114819173193, w1=-0.1755072722085836\n",
      "Gradient Descent(295/499): loss=0.28686247657183733, w0=0.20103516448719808, w1=-0.17503752458965052\n",
      "Gradient Descent(296/499): loss=0.2866212360392277, w0=0.2001608366710676, w1=-0.17456568217063653\n",
      "Gradient Descent(297/499): loss=0.2863813080742098, w0=0.19928848691161435, w1=-0.1740917831401558\n",
      "Gradient Descent(298/499): loss=0.28614268266435355, w0=0.19841810375830646, w1=-0.17361586518530375\n",
      "Gradient Descent(299/499): loss=0.2859053499084478, w0=0.19754967586627137, w1=-0.17313796549808427\n",
      "Gradient Descent(300/499): loss=0.28566930001489343, w0=0.19668319199518483, w1=-0.17265812078176013\n",
      "Gradient Descent(301/499): loss=0.2854345233001224, w0=0.19581864100817126, w1=-0.17217636725712615\n",
      "Gradient Descent(302/499): loss=0.2852010101870448, w0=0.19495601187071518, w1=-0.1716927406687071\n",
      "Gradient Descent(303/499): loss=0.2849687512035214, w0=0.19409529364958383, w1=-0.1712072762908795\n",
      "Gradient Descent(304/499): loss=0.28473773698086324, w0=0.1932364755117606, w1=-0.17072000893391995\n",
      "Gradient Descent(305/499): loss=0.28450795825235636, w0=0.19237954672338953, w1=-0.17023097294997858\n",
      "Gradient Descent(306/499): loss=0.28427940585181033, w0=0.1915244966487304, w1=-0.1697402022389805\n",
      "Gradient Descent(307/499): loss=0.28405207071213334, w0=0.19067131474912472, w1=-0.16924773025445414\n",
      "Gradient Descent(308/499): loss=0.28382594386392845, w0=0.1898199905819722, w1=-0.16875359000928844\n",
      "Gradient Descent(309/499): loss=0.28360101643411634, w0=0.18897051379971763, w1=-0.16825781408141888\n",
      "Gradient Descent(310/499): loss=0.28337727964457843, w0=0.18812287414884843, w1=-0.16776043461944354\n",
      "Gradient Descent(311/499): loss=0.2831547248108245, w0=0.18727706146890225, w1=-0.16726148334816954\n",
      "Gradient Descent(312/499): loss=0.28293334334068043, w0=0.18643306569148496, w1=-0.16676099157409083\n",
      "Gradient Descent(313/499): loss=0.282713126733, w0=0.18559087683929876, w1=-0.16625899019079787\n",
      "Gradient Descent(314/499): loss=0.2824940665763958, w0=0.18475048502518024, w1=-0.1657555096843201\n",
      "Gradient Descent(315/499): loss=0.2822761545479922, w0=0.18391188045114856, w1=-0.16525058013840155\n",
      "Gradient Descent(316/499): loss=0.28205938241219813, w0=0.18307505340746333, w1=-0.16474423123971085\n",
      "Gradient Descent(317/499): loss=0.28184374201950096, w0=0.1822399942716924, w1=-0.16423649228298562\n",
      "Gradient Descent(318/499): loss=0.28162922530527773, w0=0.18140669350778926, w1=-0.1637273921761127\n",
      "Gradient Descent(319/499): loss=0.28141582428862866, w0=0.18057514166518016, w1=-0.16321695944514422\n",
      "Gradient Descent(320/499): loss=0.2812035310712277, w0=0.1797453293778605, w1=-0.16270522223925077\n",
      "Gradient Descent(321/499): loss=0.2809923378361916, w0=0.17891724736350104, w1=-0.16219220833561185\n",
      "Gradient Descent(322/499): loss=0.2807822368469681, w0=0.1780908864225631, w1=-0.16167794514424477\n",
      "Gradient Descent(323/499): loss=0.28057322044624144, w0=0.1772662374374232, w1=-0.16116245971277218\n",
      "Gradient Descent(324/499): loss=0.28036528105485564, w0=0.17644329137150688, w1=-0.1606457787311294\n",
      "Gradient Descent(325/499): loss=0.28015841117075463, w0=0.17562203926843153, w1=-0.16012792853621174\n",
      "Gradient Descent(326/499): loss=0.27995260336793965, w0=0.17480247225115836, w1=-0.15960893511646293\n",
      "Gradient Descent(327/499): loss=0.27974785029544286, w0=0.1739845815211531, w1=-0.15908882411640493\n",
      "Gradient Descent(328/499): loss=0.2795441446763184, w0=0.17316835835755578, w1=-0.15856762084110995\n",
      "Gradient Descent(329/499): loss=0.2793414793066472, w0=0.17235379411635918, w1=-0.15804535026061547\n",
      "Gradient Descent(330/499): loss=0.2791398470545597, w0=0.17154088022959582, w1=-0.1575220370142826\n",
      "Gradient Descent(331/499): loss=0.27893924085927296, w0=0.17072960820453378, w1=-0.15699770541509867\n",
      "Gradient Descent(332/499): loss=0.2787396537301425, w0=0.16991996962288095, w1=-0.15647237945392456\n",
      "Gradient Descent(333/499): loss=0.27854107874573036, w0=0.16911195613999763, w1=-0.15594608280368755\n",
      "Gradient Descent(334/499): loss=0.27834350905288613, w0=0.16830555948411768, w1=-0.15541883882352\n",
      "Gradient Descent(335/499): loss=0.2781469378658435, w0=0.1675007714555778, w1=-0.154890670562845\n",
      "Gradient Descent(336/499): loss=0.27795135846533026, w0=0.166697583926055, w1=-0.15436160076540903\n",
      "Gradient Descent(337/499): loss=0.27775676419769263, w0=0.16589598883781242, w1=-0.15383165187326264\n",
      "Gradient Descent(338/499): loss=0.27756314847403263, w0=0.16509597820295294, w1=-0.15330084603068977\n",
      "Gradient Descent(339/499): loss=0.27737050476935876, w0=0.16429754410268088, w1=-0.15276920508808595\n",
      "Gradient Descent(340/499): loss=0.2771788266217504, w0=0.1635006786865716, w1=-0.15223675060578637\n",
      "Gradient Descent(341/499): loss=0.2769881076315356, w0=0.16270537417184885, w1=-0.15170350385784434\n",
      "Gradient Descent(342/499): loss=0.2767983414604784, w0=0.1619116228426701, w1=-0.15116948583576045\n",
      "Gradient Descent(343/499): loss=0.2766095218309832, w0=0.16111941704941918, w1=-0.1506347172521634\n",
      "Gradient Descent(344/499): loss=0.27642164252530765, w0=0.16032874920800672, w1=-0.1500992185444428\n",
      "Gradient Descent(345/499): loss=0.2762346973847889, w0=0.15953961179917822, w1=-0.1495630098783347\n",
      "Gradient Descent(346/499): loss=0.2760486803090828, w0=0.15875199736782933, w1=-0.1490261111514603\n",
      "Gradient Descent(347/499): loss=0.275863585255412, w0=0.15796589852232867, w1=-0.14848854199681846\n",
      "Gradient Descent(348/499): loss=0.27567940623782794, w0=0.1571813079338479, w1=-0.14795032178623255\n",
      "Gradient Descent(349/499): loss=0.2754961373264826, w0=0.15639821833569903, w1=-0.14741146963375215\n",
      "Gradient Descent(350/499): loss=0.27531377264691215, w0=0.15561662252267888, w1=-0.14687200439901038\n",
      "Gradient Descent(351/499): loss=0.27513230637933084, w0=0.15483651335042067, w1=-0.14633194469053695\n",
      "Gradient Descent(352/499): loss=0.27495173275793555, w0=0.15405788373475254, w1=-0.14579130886902814\n",
      "Gradient Descent(353/499): loss=0.27477204607022104, w0=0.1532807266510632, w1=-0.14525011505057325\n",
      "Gradient Descent(354/499): loss=0.2745932406563054, w0=0.15250503513367422, w1=-0.14470838110983955\n",
      "Gradient Descent(355/499): loss=0.2744153109082662, w0=0.15173080227521935, w1=-0.14416612468321427\n",
      "Gradient Descent(356/499): loss=0.2742382512694845, w0=0.1509580212260304, w1=-0.1436233631719063\n",
      "Gradient Descent(357/499): loss=0.27406205623400187, w0=0.15018668519352996, w1=-0.14308011374500615\n",
      "Gradient Descent(358/499): loss=0.2738867203458843, w0=0.14941678744163067, w1=-0.14253639334250637\n",
      "Gradient Descent(359/499): loss=0.2737122381985967, w0=0.14864832129014102, w1=-0.1419922186782814\n",
      "Gradient Descent(360/499): loss=0.273538604434387, w0=0.14788128011417753, w1=-0.14144760624302893\n",
      "Gradient Descent(361/499): loss=0.273365813743678, w0=0.1471156573435836, w1=-0.14090257230717138\n",
      "Gradient Descent(362/499): loss=0.27319386086447073, w0=0.14635144646235432, w1=-0.14035713292372023\n",
      "Gradient Descent(363/499): loss=0.27302274058175324, w0=0.14558864100806806, w1=-0.13981130393110142\n",
      "Gradient Descent(364/499): loss=0.27285244772692135, w0=0.14482723457132382, w1=-0.1392651009559443\n",
      "Gradient Descent(365/499): loss=0.27268297717720646, w0=0.144067220795185, w1=-0.1387185394158327\n",
      "Gradient Descent(366/499): loss=0.27251432385511104, w0=0.14330859337462903, w1=-0.13817163452202075\n",
      "Gradient Descent(367/499): loss=0.2723464827278541, w0=0.14255134605600348, w1=-0.13762440128211134\n",
      "Gradient Descent(368/499): loss=0.27217944880682376, w0=0.14179547263648745, w1=-0.13707685450270063\n",
      "Gradient Descent(369/499): loss=0.2720132171470376, w0=0.1410409669635596, w1=-0.1365290087919859\n",
      "Gradient Descent(370/499): loss=0.27184778284661204, w0=0.1402878229344714, w1=-0.13598087856234037\n",
      "Gradient Descent(371/499): loss=0.27168314104623853, w0=0.13953603449572657, w1=-0.13543247803285227\n",
      "Gradient Descent(372/499): loss=0.2715192869286672, w0=0.1387855956425661, w1=-0.13488382123183185\n",
      "Gradient Descent(373/499): loss=0.27135621571819984, w0=0.13803650041845889, w1=-0.1343349219992834\n",
      "Gradient Descent(374/499): loss=0.27119392268018655, w0=0.13728874291459803, w1=-0.13378579398934615\n",
      "Gradient Descent(375/499): loss=0.2710324031205344, w0=0.13654231726940277, w1=-0.13323645067270098\n",
      "Gradient Descent(376/499): loss=0.27087165238521976, w0=0.1357972176680256, w1=-0.13268690533894695\n",
      "Gradient Descent(377/499): loss=0.2707116658598086, w0=0.13505343834186528, w1=-0.13213717109894427\n",
      "Gradient Descent(378/499): loss=0.27055243896898434, w0=0.1343109735680847, w1=-0.13158726088712824\n",
      "Gradient Descent(379/499): loss=0.2703939671760824, w0=0.1335698176691346, w1=-0.13103718746379012\n",
      "Gradient Descent(380/499): loss=0.2702362459826299, w0=0.13282996501228195, w1=-0.13048696341732993\n",
      "Gradient Descent(381/499): loss=0.2700792709278948, w0=0.1320914100091442, w1=-0.1299366011664771\n",
      "Gradient Descent(382/499): loss=0.26992303758843916, w0=0.13135414711522803, w1=-0.12938611296248362\n",
      "Gradient Descent(383/499): loss=0.26976754157767957, w0=0.13061817082947377, w1=-0.12883551089128586\n",
      "Gradient Descent(384/499): loss=0.26961277854545396, w0=0.12988347569380432, w1=-0.12828480687563987\n",
      "Gradient Descent(385/499): loss=0.26945874417759497, w0=0.1291500562926796, w1=-0.12773401267722576\n",
      "Gradient Descent(386/499): loss=0.2693054341955089, w0=0.12841790725265537, w1=-0.12718313989872668\n",
      "Gradient Descent(387/499): loss=0.2691528443557606, w0=0.1276870232419476, w1=-0.12663219998587738\n",
      "Gradient Descent(388/499): loss=0.26900097044966426, w0=0.12695739897000088, w1=-0.12608120422948826\n",
      "Gradient Descent(389/499): loss=0.26884980830288124, w0=0.12622902918706239, w1=-0.12553016376743947\n",
      "Gradient Descent(390/499): loss=0.26869935377502185, w0=0.12550190868375988, w1=-0.12497908958665162\n",
      "Gradient Descent(391/499): loss=0.2685496027592536, w0=0.12477603229068504, w1=-0.12442799252502686\n",
      "Gradient Descent(392/499): loss=0.26840055118191525, w0=0.12405139487798075, w1=-0.12387688327336754\n",
      "Gradient Descent(393/499): loss=0.26825219500213604, w0=0.12332799135493372, w1=-0.1233257723772658\n",
      "Gradient Descent(394/499): loss=0.2681045302114604, w0=0.1226058166695707, w1=-0.12277467023897147\n",
      "Gradient Descent(395/499): loss=0.2679575528334775, w0=0.12188486580826023, w1=-0.12222358711923151\n",
      "Gradient Descent(396/499): loss=0.2678112589234569, w0=0.12116513379531776, w1=-0.1216725331391086\n",
      "Gradient Descent(397/499): loss=0.2676656445679886, w0=0.12044661569261622, w1=-0.12112151828177166\n",
      "Gradient Descent(398/499): loss=0.2675207058846287, w0=0.11972930659919974, w1=-0.1205705523942665\n",
      "Gradient Descent(399/499): loss=0.26737643902154906, w0=0.11901320165090297, w1=-0.12001964518925871\n",
      "Gradient Descent(400/499): loss=0.2672328401571935, w0=0.11829829601997328, w1=-0.11946880624675763\n",
      "Gradient Descent(401/499): loss=0.26708990549993716, w0=0.11758458491469853, w1=-0.11891804501581275\n",
      "Gradient Descent(402/499): loss=0.2669476312877518, w0=0.11687206357903754, w1=-0.11836737081619257\n",
      "Gradient Descent(403/499): loss=0.26680601378787533, w0=0.11616072729225622, w1=-0.11781679284003553\n",
      "Gradient Descent(404/499): loss=0.26666504929648527, w0=0.11545057136856612, w1=-0.11726632015348487\n",
      "Gradient Descent(405/499): loss=0.26652473413837835, w0=0.11474159115676871, w1=-0.11671596169829547\n",
      "Gradient Descent(406/499): loss=0.2663850646666531, w0=0.11403378203990178, w1=-0.11616572629342592\n",
      "Gradient Descent(407/499): loss=0.2662460372623979, w0=0.11332713943489178, w1=-0.11561562263660229\n",
      "Gradient Descent(408/499): loss=0.2661076483343824, w0=0.1126216587922079, w1=-0.11506565930586868\n",
      "Gradient Descent(409/499): loss=0.26596989431875384, w0=0.11191733559552224, w1=-0.11451584476110903\n",
      "Gradient Descent(410/499): loss=0.2658327716787376, w0=0.11121416536137141, w1=-0.11396618734555727\n",
      "Gradient Descent(411/499): loss=0.26569627690434133, w0=0.11051214363882442, w1=-0.11341669528727827\n",
      "Gradient Descent(412/499): loss=0.2655604065120645, w0=0.10981126600915153, w1=-0.11286737670063876\n",
      "Gradient Descent(413/499): loss=0.2654251570446095, w0=0.1091115280854998, w1=-0.1123182395877484\n",
      "Gradient Descent(414/499): loss=0.26529052507059975, w0=0.10841292551256897, w1=-0.11176929183989268\n",
      "Gradient Descent(415/499): loss=0.2651565071842994, w0=0.10771545396629445, w1=-0.11122054123893498\n",
      "Gradient Descent(416/499): loss=0.26502310000533724, w0=0.1070191091535302, w1=-0.11067199545871263\n",
      "Gradient Descent(417/499): loss=0.2648903001784361, w0=0.10632388681173902, w1=-0.110123662066401\n",
      "Gradient Descent(418/499): loss=0.26475810437314323, w0=0.10562978270868205, w1=-0.10957554852387377\n",
      "Gradient Descent(419/499): loss=0.26462650928356674, w0=0.10493679264211636, w1=-0.10902766218902978\n",
      "Gradient Descent(420/499): loss=0.26449551162811424, w0=0.10424491243949098, w1=-0.1084800103171188\n",
      "Gradient Descent(421/499): loss=0.2643651081492357, w0=0.10355413795765152, w1=-0.10793260006203206\n",
      "Gradient Descent(422/499): loss=0.26423529561316966, w0=0.10286446508254256, w1=-0.10738543847759448\n",
      "Gradient Descent(423/499): loss=0.2641060708096923, w0=0.1021758897289193, w1=-0.10683853251881963\n",
      "Gradient Descent(424/499): loss=0.2639774305518713, w0=0.10148840784005606, w1=-0.10629188904316966\n",
      "Gradient Descent(425/499): loss=0.2638493716758215, w0=0.10080201538746476, w1=-0.10574551481177545\n",
      "Gradient Descent(426/499): loss=0.26372189104046473, w0=0.10011670837060944, w1=-0.10519941649066523\n",
      "Gradient Descent(427/499): loss=0.2635949855272932, w0=0.09943248281663156, w1=-0.10465360065195069\n",
      "Gradient Descent(428/499): loss=0.26346865204013437, w0=0.09874933478007014, w1=-0.1041080737750254\n",
      "Gradient Descent(429/499): loss=0.26334288750492146, w0=0.0980672603425939, w1=-0.10356284224771743\n",
      "Gradient Descent(430/499): loss=0.26321768886946545, w0=0.09738625561272693, w1=-0.1030179123674589\n",
      "Gradient Descent(431/499): loss=0.2630930531032301, w0=0.09670631672558741, w1=-0.10247329034240554\n",
      "Gradient Descent(432/499): loss=0.2629689771971105, w0=0.09602743984261865, w1=-0.10192898229257846\n",
      "Gradient Descent(433/499): loss=0.26284545816321464, w0=0.09534962115133447, w1=-0.10138499425095127\n",
      "Gradient Descent(434/499): loss=0.262722493034648, w0=0.0946728568650552, w1=-0.10084133216456526\n",
      "Gradient Descent(435/499): loss=0.26260007886529974, w0=0.09399714322265978, w1=-0.10029800189558441\n",
      "Gradient Descent(436/499): loss=0.26247821272963373, w0=0.09332247648832655, w1=-0.09975500922238525\n",
      "Gradient Descent(437/499): loss=0.2623568917224808, w0=0.09264885295129192, w1=-0.09921235984058013\n",
      "Gradient Descent(438/499): loss=0.26223611295883464, w0=0.09197626892559571, w1=-0.09867005936408298\n",
      "Gradient Descent(439/499): loss=0.26211587357364957, w0=0.09130472074984658, w1=-0.09812811332610102\n",
      "Gradient Descent(440/499): loss=0.26199617072164255, w0=0.09063420478697143, w1=-0.09758652718017793\n",
      "Gradient Descent(441/499): loss=0.2618770015770948, w0=0.08996471742398768, w1=-0.09704530630115402\n",
      "Gradient Descent(442/499): loss=0.26175836333366026, w0=0.08929625507175654, w1=-0.09650445598618812\n",
      "Gradient Descent(443/499): loss=0.2616402532041726, w0=0.08862881416476212, w1=-0.09596398145568634\n",
      "Gradient Descent(444/499): loss=0.26152266842045757, w0=0.08796239116086825, w1=-0.09542388785430425\n",
      "Gradient Descent(445/499): loss=0.2614056062331457, w0=0.08729698254110455, w1=-0.0948841802518439\n",
      "Gradient Descent(446/499): loss=0.26128906391148915, w0=0.08663258480942633, w1=-0.09434486364423807\n",
      "Gradient Descent(447/499): loss=0.2611730387431802, w0=0.08596919449250798, w1=-0.09380594295441505\n",
      "Gradient Descent(448/499): loss=0.26105752803417176, w0=0.0853068081395054, w1=-0.09326742303326696\n",
      "Gradient Descent(449/499): loss=0.26094252910850113, w0=0.08464542232185696, w1=-0.09272930866048167\n",
      "Gradient Descent(450/499): loss=0.2608280393081152, w0=0.0839850336330479, w1=-0.09219160454549707\n",
      "Gradient Descent(451/499): loss=0.26071405599269853, w0=0.08332563868841926, w1=-0.09165431532829946\n",
      "Gradient Descent(452/499): loss=0.26060057653950297, w0=0.08266723412493375, w1=-0.091117445580366\n",
      "Gradient Descent(453/499): loss=0.2604875983431806, w0=0.08200981660099281, w1=-0.0905809998054283\n",
      "Gradient Descent(454/499): loss=0.2603751188156173, w0=0.08135338279620347, w1=-0.09004498244040586\n",
      "Gradient Descent(455/499): loss=0.2602631353857701, w0=0.08069792941120407, w1=-0.08950939785613315\n",
      "Gradient Descent(456/499): loss=0.2601516454995054, w0=0.0800434531674312, w1=-0.08897425035828697\n",
      "Gradient Descent(457/499): loss=0.2600406466194395, w0=0.0793899508069548, w1=-0.08843954418807524\n",
      "Gradient Descent(458/499): loss=0.25993013622478206, w0=0.07873741909224422, w1=-0.08790528352316157\n",
      "Gradient Descent(459/499): loss=0.2598201118111798, w0=0.07808585480601354, w1=-0.08737147247831323\n",
      "Gradient Descent(460/499): loss=0.2597105708905647, w0=0.0774352547509857, w1=-0.08683811510632683\n",
      "Gradient Descent(461/499): loss=0.2596015109910011, w0=0.07678561574974883, w1=-0.08630521539863266\n",
      "Gradient Descent(462/499): loss=0.2594929296565379, w0=0.07613693464451739, w1=-0.08577277728622565\n",
      "Gradient Descent(463/499): loss=0.2593848244470597, w0=0.0754892082970006, w1=-0.0852408046402225\n",
      "Gradient Descent(464/499): loss=0.25927719293814194, w0=0.07484243358815913, w1=-0.08470930127280314\n",
      "Gradient Descent(465/499): loss=0.25917003272090716, w0=0.07419660741808703, w1=-0.08417827093771614\n",
      "Gradient Descent(466/499): loss=0.25906334140188303, w0=0.07355172670576218, w1=-0.08364771733123656\n",
      "Gradient Descent(467/499): loss=0.2589571166028615, w0=0.07290778838894346, w1=-0.08311764409261438\n",
      "Gradient Descent(468/499): loss=0.25885135596076136, w0=0.07226478942391304, w1=-0.0825880548050556\n",
      "Gradient Descent(469/499): loss=0.2587460571274909, w0=0.0716227267853906, w1=-0.08205895299610717\n",
      "Gradient Descent(470/499): loss=0.25864121776981336, w0=0.07098159746626519, w1=-0.08153034213866962\n",
      "Gradient Descent(471/499): loss=0.2585368355692133, w0=0.07034139847752889, w1=-0.08100222565131049\n",
      "Gradient Descent(472/499): loss=0.25843290822176535, w0=0.06970212684799552, w1=-0.0804746068993181\n",
      "Gradient Descent(473/499): loss=0.25832943343800363, w0=0.06906377962425643, w1=-0.07994748919493412\n",
      "Gradient Descent(474/499): loss=0.258226408942794, w0=0.06842635387038289, w1=-0.07942087579845972\n",
      "Gradient Descent(475/499): loss=0.25812383247520715, w0=0.06778984666790736, w1=-0.07889476991839596\n",
      "Gradient Descent(476/499): loss=0.2580217017883929, w0=0.06715425511550575, w1=-0.07836917471261563\n",
      "Gradient Descent(477/499): loss=0.257920014649457, w0=0.06651957632900818, w1=-0.07784409328839785\n",
      "Gradient Descent(478/499): loss=0.25781876883933896, w0=0.06588580744105649, w1=-0.07731952870368149\n",
      "Gradient Descent(479/499): loss=0.25771796215269105, w0=0.06525294560114929, w1=-0.07679548396697745\n",
      "Gradient Descent(480/499): loss=0.2576175923977593, w0=0.06462098797526944, w1=-0.07627196203872273\n",
      "Gradient Descent(481/499): loss=0.257517657396266, w0=0.06398993174596902, w1=-0.07574896583105052\n",
      "Gradient Descent(482/499): loss=0.25741815498329246, w0=0.06335977411196031, w1=-0.0752264982092673\n",
      "Gradient Descent(483/499): loss=0.2573190830071658, w0=0.06273051228824769, w1=-0.07470456199145721\n",
      "Gradient Descent(484/499): loss=0.25722043932934374, w0=0.062102143505674307, w1=-0.074183159950109\n",
      "Gradient Descent(485/499): loss=0.2571222218243034, w0=0.0614746650111092, w1=-0.07366229481152603\n",
      "Gradient Descent(486/499): loss=0.2570244283794301, w0=0.06084807406694051, w1=-0.07314196925763522\n",
      "Gradient Descent(487/499): loss=0.25692705689490836, w0=0.06022236795132768, w1=-0.07262218592516838\n",
      "Gradient Descent(488/499): loss=0.2568301052836131, w0=0.05959754395763018, w1=-0.0721029474076915\n",
      "Gradient Descent(489/499): loss=0.25673357147100373, w0=0.05897359939473676, w1=-0.07158425625451635\n",
      "Gradient Descent(490/499): loss=0.2566374533950177, w0=0.05835053158641645, w1=-0.07106611497299581\n",
      "Gradient Descent(491/499): loss=0.25654174900596644, w0=0.05772833787173918, w1=-0.07054852602711625\n",
      "Gradient Descent(492/499): loss=0.2564464562664325, w0=0.057107015604333226, w1=-0.0700314918401142\n",
      "Gradient Descent(493/499): loss=0.2563515731511675, w0=0.056486562152914435, w1=-0.06951501479268969\n",
      "Gradient Descent(494/499): loss=0.2562570976469915, w0=0.05586697490043104, w1=-0.0689990972260103\n",
      "Gradient Descent(495/499): loss=0.25616302775269384, w0=0.05524825124472223, w1=-0.06848374143947393\n",
      "Gradient Descent(496/499): loss=0.25606936147893394, w0=0.054630388597527495, w1=-0.06796894969417953\n",
      "Gradient Descent(497/499): loss=0.2559760968481455, w0=0.05401338438529947, w1=-0.0674547242101529\n",
      "Gradient Descent(498/499): loss=0.25588323189443923, w0=0.05339723604805033, w1=-0.06694106717037966\n",
      "Gradient Descent(499/499): loss=0.2557907646635087, w0=0.052781941040348876, w1=-0.06642798071738987\n"
     ]
    }
   ],
   "source": [
    "w_logreg, loss_logreg = f.logistic_regression(y_train_train_lg, tX_train,np.ones(22),500, 0.1)"
   ]
  },
  {
   "cell_type": "code",
   "execution_count": 145,
   "metadata": {},
   "outputs": [
    {
     "name": "stdout",
     "output_type": "stream",
     "text": [
      "Accuracy:  0.9097733667882285\n",
      "F1 score:  0.0506626763574177\n"
     ]
    }
   ],
   "source": [
    "y_pred = tX_train_test.dot(w_logreg)\n",
    "y_pred = np.where(y_pred > 0.5, 1, 0)\n",
    "y_pred = np.where(y_pred == 1, 1, -1)\n",
    "\n",
    "_,_,_,_,f1 = f.confusion_matrix(y_train_test, y_pred)\n",
    "\n",
    "print(\"Accuracy: \", np.sum(y_pred == y_train_test)/len(y_train_test))\n",
    "\n",
    "print(\"F1 score: \", f1)"
   ]
  },
  {
   "cell_type": "code",
   "execution_count": 146,
   "metadata": {},
   "outputs": [
    {
     "name": "stdout",
     "output_type": "stream",
     "text": [
      "weights = \n",
      " [ 0.05278194 -0.06642798  0.02117751 -0.00274513  0.49011676  0.18080126\n",
      " -0.32497592 -0.32600825 -0.52893756 -0.28400304 -0.42510498 -0.12187267\n",
      " -0.17498828 -0.1238623  -0.38370667  0.5267693   0.11758655  0.71558617\n",
      "  0.07128298  0.13220975  0.25721627  0.26162381] \n",
      " Loss =  0.2557907646635087 \n",
      "*****************************************************************************  \n",
      " Train sample : \n",
      " Heart attack rate =  0.08830207079403295 \n",
      " \n",
      " Test sample : \n",
      " Heart attack rate =  0.005704934219548543\n"
     ]
    }
   ],
   "source": [
    "y_test_logreg = tX_test.dot(w_logreg)\n",
    "y_test_logreg = np.where(y_test_logreg > 0.5, 1, 0)\n",
    "\n",
    "print('weights = \\n', w_logreg,'\\n Loss = ', loss_logreg,'\\n*****************************************************************************',\n",
    "        ' \\n Train sample : \\n', 'Heart attack rate = ', np.count_nonzero(y_train== 1)/len(y_train), '\\n \\n Test sample : \\n', 'Heart attack rate = ', np.count_nonzero(y_test_logreg == 1)/len(y_test_logreg))"
   ]
  },
  {
   "cell_type": "code",
   "execution_count": 117,
   "metadata": {},
   "outputs": [
    {
     "name": "stdout",
     "output_type": "stream",
     "text": [
      "Gradient Descent(0/99): loss=18.207806990644862, w0=0.9078319282799385, w1=0.9078341834706829\n",
      "Gradient Descent(1/99): loss=16.36117617190301, w0=0.8157561433011598, w1=0.815760581290357\n",
      "Gradient Descent(2/99): loss=14.516392331053625, w0=0.7237725585933471, w1=0.7237791043345082\n",
      "Gradient Descent(3/99): loss=12.67345441132835, w0=0.631881095434813, w1=0.6318896713945503\n",
      "Gradient Descent(4/99): loss=10.832366467881576, w0=0.5400817347412534, w1=0.5400922610999396\n",
      "Gradient Descent(5/99): loss=8.99317095889692, w0=0.4483749079165405, w1=0.44838730280129574\n",
      "Gradient Descent(6/99): loss=7.156198218760744, w0=0.35676443230285565, w1=0.35677861205126216\n",
      "Gradient Descent(7/99): loss=5.323926978543616, w0=0.26527949655879657, w1=0.26529537601322084\n",
      "Gradient Descent(8/99): loss=3.5145487817161682, w0=0.17413819403247968, w1=0.17415568688197136\n",
      "Gradient Descent(9/99): loss=1.8472306256148947, w0=0.0849185676753477, w1=0.0849375869953934\n",
      "Gradient Descent(10/99): loss=0.76013464705722, w0=0.007034012888014168, w1=0.00705447298405322\n",
      "Gradient Descent(11/99): loss=0.433963205495897, w0=-0.03801961898097428, w1=-0.037997793297615885\n",
      "Gradient Descent(12/99): loss=0.3550633524257237, w0=-0.059395762457870455, w1=-0.059372615247669694\n",
      "Gradient Descent(13/99): loss=0.3268701664643956, w0=-0.07182392028144263, w1=-0.07179947312691057\n",
      "Gradient Descent(14/99): loss=0.3142037708873347, w0=-0.08001247627934195, w1=-0.079986742265792\n",
      "Gradient Descent(15/99): loss=0.3077443906596993, w0=-0.08579004755469558, w1=-0.08576303574026925\n",
      "Gradient Descent(16/99): loss=0.3041813076570549, w0=-0.09004022281464975, w1=-0.09001193996657422\n",
      "Gradient Descent(17/99): loss=0.3021092235676002, w0=-0.09325407858780918, w1=-0.09322453002142955\n",
      "Gradient Descent(18/99): loss=0.30085785882845695, w0=-0.09573138023247815, w1=-0.09570057027760036\n",
      "Gradient Descent(19/99): loss=0.30008046677697126, w0=-0.09766765730650187, w1=-0.09763558959207405\n",
      "Gradient Descent(20/99): loss=0.2995867532858525, w0=-0.09919682328411746, w1=-0.09916350092392799\n",
      "Gradient Descent(21/99): loss=0.29926754749497875, w0=-0.10041403937238022, w1=-0.10037946509224192\n",
      "Gradient Descent(22/99): loss=0.2990580428160503, w0=-0.1013888826169315, w1=-0.10135305884506338\n",
      "Gradient Descent(23/99): loss=0.298918722349955, w0=-0.10217337218291402, w1=-0.1021363011160253\n",
      "Gradient Descent(24/99): loss=0.29882496711464757, w0=-0.10280709352670828, w1=-0.10276877717940722\n",
      "Gradient Descent(25/99): loss=0.2987611688262856, w0=-0.10332059830492861, w1=-0.10328103854732212\n",
      "Gradient Descent(26/99): loss=0.29871728703685646, w0=-0.10373773464723901, w1=-0.10369693323395236\n",
      "Gradient Descent(27/99): loss=0.29868678273989935, w0=-0.10407728894964188, w1=-0.10403524754247134\n",
      "Gradient Descent(28/99): loss=0.2986653512908656, w0=-0.10435417013316163, w1=-0.10431089031891959\n",
      "Gradient Descent(29/99): loss=0.29865013153744874, w0=-0.10458028122654278, w1=-0.10453576453121995\n",
      "Gradient Descent(30/99): loss=0.2986392048098995, w0=-0.10476517194730102, w1=-0.10471941984737361\n",
      "Gradient Descent(31/99): loss=0.29863127354479374, w0=-0.10491653452463882, w1=-0.10486954845614051\n",
      "Gradient Descent(32/99): loss=0.2986254529294177, w0=-0.10504058514547933, w1=-0.10499236651130886\n",
      "Gradient Descent(33/99): loss=0.2986211345708191, w0=-0.10514236052536162, w1=-0.10509291070118854\n",
      "Gradient Descent(34/99): loss=0.298617896565649, w0=-0.105225950556284, w1=-0.10517527089533396\n",
      "Gradient Descent(35/99): loss=0.29861544374292615, w0=-0.1052946821847646, w1=-0.10524277402170543\n",
      "Gradient Descent(36/99): loss=0.2986135676866159, w0=-0.10535126566138835, w1=-0.10529813031549141\n",
      "Gradient Descent(37/99): loss=0.29861211981771707, w0=-0.10539791147567054, w1=-0.10534355025338632\n",
      "Gradient Descent(38/99): loss=0.2986109931544409, w0=-0.10543642426301437, w1=-0.10538083846007341\n",
      "Gradient Descent(39/99): loss=0.29861010987337877, w0=-0.1054682784940297, w1=-0.10541146939715798\n",
      "Gradient Descent(40/99): loss=0.2986094127704096, w0=-0.10549467966511666, w1=-0.10543664855343743\n",
      "Gradient Descent(41/99): loss=0.2986088593577876, w0=-0.10551661389163278, w1=-0.10545736203781286\n",
      "Gradient Descent(42/99): loss=0.2986084177532454, w0=-0.10553488818495926, w1=-0.10547441685614704\n",
      "Gradient Descent(43/99): loss=0.2986080637943373, w0=-0.10555016321942932, w1=-0.10548847367802253\n",
      "Gradient Descent(44/99): loss=0.29860777899563967, w0=-0.10556298002704874, w1=-0.10550007353132328\n",
      "Gradient Descent(45/99): loss=0.2986075490895667, w0=-0.10557378177053149, w1=-0.10550965957515666\n",
      "Gradient Descent(46/99): loss=0.2986073629741543, w0=-0.10558293151902733, w1=-0.10551759487548804\n",
      "Gradient Descent(47/99): loss=0.2986072119468119, w0=-0.10559072677181225, w1=-0.10552417692875515\n",
      "Gradient Descent(48/99): loss=0.29860708914066614, w0=-0.1055974113325643, w1=-0.10552964953608168\n",
      "Gradient Descent(49/99): loss=0.2986069891057099, w0=-0.1056031850226847, w1=-0.10553421251654736\n",
      "Gradient Descent(50/99): loss=0.298606907494404, w0=-0.10560821163039397, w1=-0.10553802965624225\n",
      "Gradient Descent(51/99): loss=0.29860684082337363, w0=-0.10561262541836705, w1=-0.10554123521586777\n",
      "Gradient Descent(52/99): loss=0.2986067862910868, w0=-0.10561653645286408, w1=-0.10554393925983929\n",
      "Gradient Descent(53/99): loss=0.29860674163713585, w0=-0.1056200349688307, w1=-0.10554623202136357\n",
      "Gradient Descent(54/99): loss=0.2986067050327514, w0=-0.10562319494606805, w1=-0.10554818747858984\n",
      "Gradient Descent(55/99): loss=0.2986066749949876, w0=-0.10562607703953639, w1=-0.105549866284898\n",
      "Gradient Descent(56/99): loss=0.2986066503190157, w0=-0.10562873098075715, w1=-0.10555131817028804\n",
      "Gradient Descent(57/99): loss=0.29860663002439697, w0=-0.10563119754599315, w1=-0.10555258390954984\n",
      "Gradient Descent(58/99): loss=0.2986066133122244, w0=-0.10563351016950513, w1=-0.10555369693551124\n",
      "Gradient Descent(59/99): loss=0.29860659953079255, w0=-0.10563569626598676, w1=-0.105554684661466\n",
      "Gradient Descent(60/99): loss=0.29860658814798663, w0=-0.10563777831466936, w1=-0.10555556956527291\n",
      "Gradient Descent(61/99): loss=0.29860657872900653, w0=-0.10563977474809251, w1=-0.10555637007812162\n",
      "Gradient Descent(62/99): loss=0.29860657091834836, w0=-0.10564170068076512, w1=-0.10555710131318988\n",
      "Gradient Descent(63/99): loss=0.2986065644251919, w0=-0.10564356850658078, w1=-0.10555777566305581\n",
      "Gradient Descent(64/99): loss=0.2986065590115302, w0=-0.10564538838864027, w1=-0.1055584032895177\n",
      "Gradient Descent(65/99): loss=0.2986065544825108, w0=-0.10564716866086704, w1=-0.10555899252520749\n",
      "Gradient Descent(66/99): loss=0.2986065506785648, w0=-0.10564891615730666, w1=-0.10555955020288842\n",
      "Gradient Descent(67/99): loss=0.2986065474689867, w0=-0.10565063648213521, w1=-0.10556008192546197\n",
      "Gradient Descent(68/99): loss=0.2986065447466932, w0=-0.10565233423105524, w1=-0.10556059228736274\n",
      "Gradient Descent(69/99): loss=0.29860654242393936, w0=-0.10565401317283298, w1=-0.10556108505609459\n",
      "Gradient Descent(70/99): loss=0.29860654042881685, w0=-0.10565567639815397, w1=-0.10556156332108559\n",
      "Gradient Descent(71/99): loss=0.2986065387023894, w0=-0.10565732644168199, w1=-0.1055620296157462\n",
      "Gradient Descent(72/99): loss=0.2986065371963486, w0=-0.10565896538214509, w1=-0.10556248601755489\n",
      "Gradient Descent(73/99): loss=0.2986065358710945, w0=-0.10566059492440502, w1=-0.105562934230127\n",
      "Gradient Descent(74/99): loss=0.2986065346941635, w0=-0.1056622164667534, w1=-0.10556337565051067\n",
      "Gradient Descent(75/99): loss=0.2986065336389407, w0=-0.10566383115609432, w1=-0.10556381142436906\n",
      "Gradient Descent(76/99): loss=0.2986065326836064, w0=-0.10566543993319341, w1=-0.10556424249122927\n",
      "Gradient Descent(77/99): loss=0.2986065318102705, w0=-0.10566704356978224, w1=-0.10556466962158646\n",
      "Gradient Descent(78/99): loss=0.29860653100426476, w0=-0.10566864269898386, w1=-0.1055650934473293\n",
      "Gradient Descent(79/99): loss=0.29860653025356204, w0=-0.10567023784026167, w1=-0.10556551448668859\n",
      "Gradient Descent(80/99): loss=0.2986065295483014, w0=-0.10567182941987754, w1=-0.10556593316469544\n",
      "Gradient Descent(81/99): loss=0.2986065288803966, w0=-0.10567341778766738, w1=-0.10556634982995658\n",
      "Gradient Descent(82/99): loss=0.29860652824321743, w0=-0.10567500323079732, w1=-0.10556676476841062\n",
      "Gradient Descent(83/99): loss=0.2986065276313275, w0=-0.10567658598504363, w1=-0.10556717821460779\n",
      "Gradient Descent(84/99): loss=0.29860652704026824, w0=-0.10567816624404264, w1=-0.10556759036095985\n",
      "Gradient Descent(85/99): loss=0.29860652646638464, w0=-0.10567974416687506, w1=-0.10556800136532442\n",
      "Gradient Descent(86/99): loss=0.2986065259066787, w0=-0.10568131988428585, w1=-0.10556841135722471\n",
      "Gradient Descent(87/99): loss=0.2986065253586922, w0=-0.10568289350378415, w1=-0.10556882044294952\n",
      "Gradient Descent(88/99): loss=0.2986065248204095, w0=-0.1056844651138252, w1=-0.10556922870973509\n",
      "Gradient Descent(89/99): loss=0.29860652429017803, w0=-0.10568603478723979, w1=-0.10556963622919452\n",
      "Gradient Descent(90/99): loss=0.2986065237666415, w0=-0.1056876025840462, w1=-0.10557004306012975\n",
      "Gradient Descent(91/99): loss=0.29860652324868864, w0=-0.10568916855375615, w1=-0.10557044925083743\n",
      "Gradient Descent(92/99): loss=0.2986065227354079, w0=-0.10569073273726555, w1=-0.10557085484099968\n",
      "Gradient Descent(93/99): loss=0.29860652222605133, w0=-0.10569229516840514, w1=-0.10557125986323476\n",
      "Gradient Descent(94/99): loss=0.2986065217200061, w0=-0.10569385587521168, w1=-0.10557166434436821\n",
      "Gradient Descent(95/99): loss=0.298606521216769, w0=-0.1056954148809708, w1=-0.10557206830647567\n",
      "Gradient Descent(96/99): loss=0.29860652071592764, w0=-0.10569697220507158, w1=-0.10557247176773756\n",
      "Gradient Descent(97/99): loss=0.2986065202171438, w0=-0.10569852786370783, w1=-0.1055728747431402\n",
      "Gradient Descent(98/99): loss=0.29860651972013974, w0=-0.10570008187045281, w1=-0.10557327724505067\n",
      "Gradient Descent(99/99): loss=0.298606519224688, w0=-0.10570163423673071, w1=-0.10557367928368819\n",
      "Gradient Descent(100/99): loss=0.2986065187306014, w0=-0.10570318497220306, w1=-0.10557408086751058\n"
     ]
    }
   ],
   "source": [
    "w_reg_logreg, loss_reg_logreg = f.reg_logistic_regression(y_train_processed_logreg, tX_train, 0.01, initial_w, 100, 0.1)"
   ]
  },
  {
   "cell_type": "code",
   "execution_count": 118,
   "metadata": {},
   "outputs": [
    {
     "name": "stdout",
     "output_type": "stream",
     "text": [
      "weights = \n",
      " [-0.10570318 -0.10557408 -0.10551638 -0.10546428 -0.10539099 -0.10547108\n",
      " -0.10545289 -0.10547108 -0.10555219 -0.10543358 -0.10580189 -0.10591579\n",
      " -0.10548113 -0.10543551 -0.10544656 -0.10545656 -0.10594989 -0.10540836\n",
      " -0.10546825 -0.10540809 -0.10538928 -0.10540574] \n",
      " Loss =  0.2986065187306014 \n",
      "*****************************************************************************  \n",
      " Train sample : \n",
      " Heart attack rate =  0.08830207079403295 \n",
      " \n",
      " Test sample : \n",
      " Heart attack rate =  0.0\n"
     ]
    }
   ],
   "source": [
    "y_test_reg_logreg = tX_test.dot(w_reg_logreg)\n",
    "y_test_reg_logreg = np.where(y_test_reg_logreg > 0.5, 1, 0)\n",
    "\n",
    "print('weights = \\n', w_reg_logreg,'\\n Loss = ', loss_reg_logreg,'\\n*****************************************************************************',\n",
    "        ' \\n Train sample : \\n', 'Heart attack rate = ', np.count_nonzero(y_train == 1)/len(y_train), '\\n \\n Test sample : \\n', 'Heart attack rate = ', np.count_nonzero(y_test_reg_logreg == 1)/len(y_test_reg_logreg))\n"
   ]
  },
  {
   "cell_type": "code",
   "execution_count": 147,
   "metadata": {},
   "outputs": [],
   "source": [
    "y_sub = np.where(y_test_reg_logreg == 1, 1, -1)\n",
    "h.create_csv_submission(test_ids, y_sub, 'submission_reg_logreg6.csv')"
   ]
  },
  {
   "cell_type": "code",
   "execution_count": null,
   "metadata": {},
   "outputs": [],
   "source": []
  }
 ],
 "metadata": {
  "kernelspec": {
   "display_name": "Python3",
   "language": "python",
   "name": "python3"
  },
  "language_info": {
   "codemirror_mode": {
    "name": "ipython",
    "version": 3
   },
   "file_extension": ".py",
   "mimetype": "text/x-python",
   "name": "python",
   "nbconvert_exporter": "python",
   "pygments_lexer": "ipython3",
   "version": "3.9.0"
  }
 },
 "nbformat": 4,
 "nbformat_minor": 4
}
