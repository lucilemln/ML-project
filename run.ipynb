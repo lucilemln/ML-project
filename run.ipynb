{
 "cells": [
  {
   "cell_type": "code",
   "execution_count": null,
   "metadata": {
    "tags": []
   },
   "outputs": [],
   "source": [
    "#Importing the librairies\n",
    "\n",
    "import numpy as np\n",
    "import matplotlib.pyplot as plt\n",
    "import random\n",
    "try:\n",
    "    import importlib\n",
    "    importlib.reload(h)\n",
    "    importlib.reload(f)\n",
    "    importlib.reload(d)\n",
    "except NameError: # It hasn't been imported yet\n",
    "    import helpers as h\n",
    "    import implementations as f\n",
    "    import data_processing as d"
   ]
  },
  {
   "cell_type": "code",
   "execution_count": null,
   "metadata": {},
   "outputs": [],
   "source": [
    "#We fix the random seed in order to get the same results ecery time we run the notebook\n",
    "np.random.seed(1)"
   ]
  },
  {
   "cell_type": "markdown",
   "metadata": {},
   "source": [
    "# Data preprocessing and feature selections"
   ]
  },
  {
   "cell_type": "markdown",
   "metadata": {},
   "source": [
    "## Data preprocessing\n",
    "\n",
    "To open the data, the data folder needs to be one level above the project folder and the data-dontaining folder needs to be named 'data'. The data folder should contain the following files:\n",
    "- 'x_train.csv'\n",
    "- 'y_train.csv'\n",
    "- 'x_test.csv'"
   ]
  },
  {
   "cell_type": "code",
   "execution_count": null,
   "metadata": {},
   "outputs": [],
   "source": [
    "x_train, x_test, y_train, train_ids, test_ids = h.load_csv_data(\"../data\")"
   ]
  },
  {
   "cell_type": "code",
   "execution_count": null,
   "metadata": {},
   "outputs": [],
   "source": [
    "#Saving the generated arrays in .npy files in order to have faster access to them\n",
    "\n",
    "np.save('../data/y_train.npy', y_train)\n",
    "np.save('../data/x_train.npy', x_train)\n",
    "np.save('../data/x_test.npy', x_test)\n",
    "np.save('../data/train_ids.npy', train_ids)\n",
    "np.save('../data/test_ids.npy', test_ids)"
   ]
  },
  {
   "cell_type": "code",
   "execution_count": 4,
   "metadata": {
    "tags": []
   },
   "outputs": [],
   "source": [
    "#Loading the arrays from the .npy files\n",
    "\n",
    "x_train = np.load(\"../data/x_train.npy\")\n",
    "x_test = np.load(\"../data/x_test.npy\")\n",
    "y_train = np.load(\"../data/y_train.npy\")\n",
    "train_ids = np.load(\"../data/train_ids.npy\")\n",
    "test_ids = np.load(\"../data/test_ids.npy\")"
   ]
  },
  {
   "cell_type": "code",
   "execution_count": 5,
   "metadata": {
    "tags": []
   },
   "outputs": [],
   "source": [
    "#Generates the features names\n",
    "\n",
    "features_name = np.genfromtxt('../data/x_train.csv', delimiter=',', dtype=str, max_rows=1)[1:] "
   ]
  },
  {
   "cell_type": "markdown",
   "metadata": {},
   "source": [
    "## Features selection\n",
    "\n",
    "The original data contains 321 features, but the majority of them are not useful for the prediction. Therefore, we need to select the features that are useful for the prediction. The American Heart Association (AHA) identifies a range of risk factors for heart disease, including:\n",
    "- Tobacco and alcohol use\n",
    "- Physical inactivity\n",
    "- Nutrution\n",
    "- Obesity & overweight\n",
    "- Blood cholesterol\n",
    "- Diabetes\n",
    "- Blood pressure\n",
    "\n",
    "and some factors having an influence on the risk factors as : \n",
    "- Age\n",
    "- Income \n",
    "- Education\n",
    "- Gender\n",
    "- Access and affordability of health care\n",
    "\n",
    "To represent these factors, the following 21 features were selected:\n",
    "\n",
    "- GENHLTH: General health condition\n",
    "- MENTHLTH: Number of days with mental health not good\n",
    "- PHYSHLTH: Number of days with physical health not good\n",
    "- HLTHPLN1 : Health care coverage\n",
    "- MEDCOST : Delayed medical treatment due to costs\n",
    "- TOLDHI2 : High blood cholesterol\n",
    "- CVDSTRK3 : Ever told you had a stroke\n",
    "- DIABETE3 : Ever told you had diabetes\n",
    "- SEX : Gender of the respondent\n",
    "- EDUCA : Level of education\n",
    "- INCOME2 : Annual household income\n",
    "- DIFFWALK : Difficulty walking\n",
    "- SMOKE100 : Smoked at least 100 cigarettes in life\n",
    "- _RFHYPE5 : High blood pressure\n",
    "- _CHOLCHK : Checked cholesterol within the last 5 years\n",
    "- _AGEG5YR : Age group\n",
    "- _BMI5 : Body mass index\n",
    "- _TOTINDA : Physical activity\n",
    "- _FRTLT1 : Fruit consumption\n",
    "- _VEGLT1 : Vegetable consumption\n",
    "- _RFDRHV5 : Heavy drinking\n",
    "\n"
   ]
  },
  {
   "cell_type": "code",
   "execution_count": 6,
   "metadata": {},
   "outputs": [],
   "source": [
    "#Select the important features\n",
    "features_list = ['_RFHYPE5', 'TOLDHI2', '_CHOLCHK', '_BMI5', 'SMOKE100', 'CVDSTRK3', 'DIABETE3', '_TOTINDA', '_FRTLT1', '_VEGLT1', '_RFDRHV5', \n",
    "                 'HLTHPLN1', 'MEDCOST', 'GENHLTH', 'MENTHLTH', 'PHYSHLTH', 'DIFFWALK', 'SEX', '_AGEG5YR', 'EDUCA', 'INCOME2', ]\n"
   ]
  },
  {
   "cell_type": "code",
   "execution_count": 7,
   "metadata": {
    "tags": []
   },
   "outputs": [],
   "source": [
    "#Create a mask for feature selection and apply it to the data\n",
    "\n",
    "trainMask, testMask = f.masking((x_train, x_test), features_name, features_list)\n"
   ]
  },
  {
   "cell_type": "markdown",
   "metadata": {},
   "source": [
    "## Processing\n",
    "### We clean data for each chosen features, making them binary or trimming the values with no answer"
   ]
  },
  {
   "cell_type": "code",
   "execution_count": 8,
   "metadata": {},
   "outputs": [],
   "source": [
    "#Train and test feature cleaning and processing\n",
    "\n",
    "trainProcessed = d.feature_processing_test(trainMask)\n",
    "testProcessed  = d.feature_processing_test(testMask)\n",
    "\n",
    "#Replace missing values by the mean of the feature\n",
    "\n",
    "x_train_algo = f.replaceMissingValuesMean(trainProcessed)\n",
    "x_test_algo = f.replaceMissingValuesMean(testProcessed)"
   ]
  },
  {
   "cell_type": "code",
   "execution_count": 9,
   "metadata": {},
   "outputs": [],
   "source": [
    "#Add a column of ones to the data to take into account the bias\n",
    "\n",
    "tX_train = np.c_[np.ones((len(x_train_algo), 1)), x_train_algo]\n",
    "tX_test = np.c_[np.ones((len(x_test_algo), 1)), x_test_algo]"
   ]
  },
  {
   "cell_type": "markdown",
   "metadata": {},
   "source": [
    "### Separation of the dataset in a validation and a training set"
   ]
  },
  {
   "cell_type": "code",
   "execution_count": 10,
   "metadata": {},
   "outputs": [],
   "source": [
    "split=int((len(tX_train))*0.7)\n",
    "tX_train_train, tX_train_validation = np.split(tX_train,[split])\n",
    "y_train_train, y_train_validation = np.split(y_train,[split])\n"
   ]
  },
  {
   "cell_type": "markdown",
   "metadata": {},
   "source": [
    "## Balancing the data\n",
    "\n",
    "One of the main problem of the dataset is that the proportion of persons with heart diseases and persons without heart diseases is not balanced. Indeed, only around 9% have a heart disease. Therefore, to avoid the model to be biased, we need to balance the data. We will try several split of the data to see which one gives the best results. (Computation done on the full length of the dataset before splitting)\n",
    "\n",
    "| Split                | Sample size with heart diseases | Sample size without heart diseases | Total sample size                  |\n",
    "|----------------------|---------------------------------|------------------------------------| ---------------------------------- |\n",
    "| Initial split: 10-90 | 28975                           | 299160                             | 328135                             |\n",
    "| 50-50                | 28975                           | 28975                              | 57950                              |\n",
    "| 30-70                | 28975                           | 67608                              | 96583                              |"
   ]
  },
  {
   "cell_type": "code",
   "execution_count": 11,
   "metadata": {},
   "outputs": [],
   "source": [
    "#Separate de data into the two classes\n",
    "\n",
    "tX_train_neg = tX_train_train[y_train_train == -1]\n",
    "tX_train_pos = tX_train_train[y_train_train == 1]\n",
    "\n",
    "y_train_neg = y_train_train[y_train_train == -1]\n",
    "y_train_pos = y_train_train[y_train_train == 1]\n",
    "\n",
    "\n",
    "#Generate a sample of the same size as the heart disease class (or of the size of the wanted split)\n",
    "\n",
    "random_indices_neg = np.random.choice(len(tX_train_neg), 2*len(tX_train_pos), replace=False)\n",
    "\n",
    "tX_train_neg_red = tX_train_neg[random_indices_neg,:]\n",
    "y_train_neg_red = y_train_neg[random_indices_neg]\n",
    "\n",
    "#Concatenate the two classes\n",
    "\n",
    "tX_train_train_reduced = np.concatenate((tX_train_neg_red, tX_train_pos))\n",
    "y_train_train_reduced = np.concatenate((y_train_neg_red, y_train_pos))\n",
    "\n"
   ]
  },
  {
   "cell_type": "markdown",
   "metadata": {},
   "source": [
    "## Model Training :\n",
    "\n",
    "Now that we have our data, we can train our model. We will use the following models:\n",
    "\n",
    "- Gradient descent with mean squared error\n",
    "- Stochoastic gradient descent with mean squared error\n",
    "- Least squares regression\n",
    "- Ridge regression\n",
    "- Logistic regression\n",
    "- Regularized logistic regression"
   ]
  },
  {
   "cell_type": "markdown",
   "metadata": {},
   "source": [
    "### Initialisation of set parameters"
   ]
  },
  {
   "cell_type": "code",
   "execution_count": 12,
   "metadata": {
    "tags": []
   },
   "outputs": [],
   "source": [
    "#Random initialization of the weights\n",
    "\n",
    "initial_w = [random.choice([1, -1]) for i in range(len(tX_train[0]))]"
   ]
  },
  {
   "cell_type": "markdown",
   "metadata": {},
   "source": [
    "### Algorithms\n",
    "You can find all the implementations in the annex .py file\n",
    "\n",
    "1. MSE gradient descent\n",
    "\n",
    "First step consisists in finding the optimal learning rate, represented by the variable gamma. The algorithm is runned with different inputs and the results are compared in term of the F1-Score resulting on the validation data set. The losses are also plotted in function of the value of gamma"
   ]
  },
  {
   "cell_type": "code",
   "execution_count": 13,
   "metadata": {},
   "outputs": [
    {
     "name": "stdout",
     "output_type": "stream",
     "text": [
      "Gradient Descent(500/500): Final loss=1.6820271672973393\n",
      "1.0e-03: 1.6820\n",
      "F1 score: 0.175298 \n",
      "\n",
      "Gradient Descent(500/500): Final loss=1.2165446211333286\n",
      "2.0e-03: 1.2165\n",
      "F1 score: 0.191696 \n",
      "\n",
      "Gradient Descent(500/500): Final loss=0.9812009475731512\n",
      "3.0e-03: 0.9812\n",
      "F1 score: 0.202847 \n",
      "\n",
      "Gradient Descent(500/500): Final loss=0.8434151939561911\n",
      "4.0e-03: 0.8434\n",
      "F1 score: 0.213252 \n",
      "\n",
      "Gradient Descent(500/500): Final loss=0.7515514488202094\n",
      "5.0e-03: 0.7516\n",
      "F1 score: 0.222132 \n",
      "\n",
      "Gradient Descent(500/500): Final loss=0.6840502924373827\n",
      "6.0e-03: 0.6841\n",
      "F1 score: 0.230055 \n",
      "\n",
      "Gradient Descent(500/500): Final loss=0.6311756458211653\n",
      "7.0e-03: 0.6312\n",
      "F1 score: 0.236380 \n",
      "\n",
      "Gradient Descent(500/500): Final loss=0.5881017523340778\n",
      "8.0e-03: 0.5881\n",
      "F1 score: 0.243336 \n",
      "\n",
      "Gradient Descent(500/500): Final loss=1.2236357095402101e+34\n",
      "9.0e-03: 12236357095402101236598263984947200.0000\n",
      "F1 score: 0.000000 \n",
      "\n",
      "optimal gamma: 8.00e-03, F1-score =  0.243336, Loss = 0.588 \n"
     ]
    },
    {
     "name": "stderr",
     "output_type": "stream",
     "text": [
      "C:\\Users\\broth\\AppData\\Local\\Temp\\ipykernel_18540\\3170479537.py:29: UserWarning: Attempt to set non-positive ylim on a log-scaled axis will be ignored.\n",
      "  ax.set_ylim([0, 100])\n"
     ]
    },
    {
     "data": {
      "image/png": "[encoded data removed]",
      "text/plain": [
       "<Figure size 640x480 with 1 Axes>"
      ]
     },
     "metadata": {},
     "output_type": "display_data"
    }
   ],
   "source": [
    "gamma = np.arange(0.001, 0.010, 0.001)\n",
    "g_opti = gamma[0]\n",
    "loss_opti = 1000\n",
    "f1_opti = 0\n",
    "\n",
    "ax = plt.axes()\n",
    "\n",
    "#Loop on the different values of gamma\n",
    "for g in gamma:\n",
    "    weights, loss = f.mean_squared_error_gd(y_train_train_reduced, tX_train_train_reduced, initial_w, 500, g)\n",
    "    print(\"%.1e: %.4f\" % (g, loss[-1]))\n",
    "\n",
    "    ax.semilogy(loss, label = \"%.1e\" % g)\n",
    "\n",
    "    y_pred = tX_train_validation.dot(weights[-1,:])\n",
    "    y_pred = np.where(y_pred > 0, 1, -1)\n",
    "\n",
    "    _,_,_,_,f1 = f.confusion_matrix(y_train_validation, y_pred)\n",
    "\n",
    "\n",
    "    if f1 > f1_opti:\n",
    "        loss_opti = loss[-1]\n",
    "        g_opti = g\n",
    "        f1_opti = f1\n",
    "    print(\"F1 score: %.6f \\n\" % f1)\n",
    "\n",
    "\n",
    "print(\"optimal gamma: %.2e, F1-score =  %.6f, Loss = %.3f \" % (g_opti, f1_opti, loss_opti))\n",
    "ax.set_ylim([0, 100])\n",
    "plt.title(\"Loss of GD Algorithm for different gamma\")\n",
    "plt.xlabel(\"Iterations\")\n",
    "plt.ylabel(\"Loss\")\n",
    "\n",
    "plt.legend()\n",
    "plt.show()"
   ]
  },
  {
   "cell_type": "markdown",
   "metadata": {},
   "source": [
    "No matter the number of iterations, the value of the learning rate matters quite a lot.\n",
    "\n",
    "The weights are saved at each iterations, and applied on the validation set, in order to see the rate of improvement on the validation set with respect to the training one. "
   ]
  },
  {
   "cell_type": "code",
   "execution_count": null,
   "metadata": {},
   "outputs": [],
   "source": [
    "#Compute gradient descent with MSE as loss function (see functions.py for the function)\n",
    "w_mse_gd_gamma1, loss_mse_gd_gamma1 = f.mean_squared_error_gd(y_train_train_reduced, tX_train_train_reduced, initial_w, 2000, 0.0078)\n",
    "w_mse_gd_gamma2, loss_mse_gd_gamma2 = f.mean_squared_error_gd(y_train_train_reduced, tX_train_train_reduced, initial_w, 2000, 0.007)\n",
    "w_mse_gd_gamma3, loss_mse_gd_gamma3 = f.mean_squared_error_gd(y_train_train_reduced, tX_train_train_reduced, initial_w, 15000, 0.00001)\n"
   ]
  },
  {
   "cell_type": "code",
   "execution_count": null,
   "metadata": {
    "tags": []
   },
   "outputs": [],
   "source": [
    "#Compute the loss on the validation set for the different gamma values\n",
    "\n",
    "loss_test_set_1 = []\n",
    "for w in w_mse_gd_gamma1:\n",
    "    loss_test_set_1.append(f.compute_mse(y_train_validation, tX_train_validation, w))\n",
    "\n",
    "final_loss_test_1 = loss_test_set_1[-1]\n",
    "\n",
    "loss_test_set_2 = []\n",
    "for w in w_mse_gd_gamma2:\n",
    "    loss_test_set_2.append(f.compute_mse(y_train_validation, tX_train_validation, w))\n",
    "final_loss_test_2 = loss_test_set_2[-1]\n",
    "\n",
    "loss_test_set_3 = []\n",
    "for w in w_mse_gd_gamma3:\n",
    "    loss_test_set_3.append(f.compute_mse(y_train_validation, tX_train_validation, w))\n",
    "final_loss_test_3 = loss_test_set_3[-1]\n",
    "\n",
    "print(final_loss_test_1,final_loss_test_2, final_loss_test_3)\n"
   ]
  },
  {
   "cell_type": "code",
   "execution_count": null,
   "metadata": {},
   "outputs": [],
   "source": [
    "#Plot of the improvement in function of the number of iterations\n",
    "loss_mse_gd = [loss_mse_gd_gamma1,loss_mse_gd_gamma2,loss_mse_gd_gamma3]\n",
    "loss_test_set = [loss_test_set_1,loss_test_set_2,loss_test_set_3]\n",
    "\n",
    "fig, axs = plt.subplots(1, 3, figsize=(10, 3))\n",
    "\n",
    "# Plotting the loss for training and test set on each subplot\n",
    "for i in range(3):\n",
    "    axs[i].semilogy(loss_mse_gd[i], '-b', label='loss_mse_gd')\n",
    "    axs[i].semilogy(loss_test_set[i], '--r', label='loss_test_set')\n",
    "    axs[i].legend(frameon=True)\n",
    "    axs[i].set_xlabel('Iterations')\n",
    "    axs[i].set_ylabel('Loss')\n",
    "\n",
    "# Adding a title to the entire figure\n",
    "fig.suptitle('Loss of Train and Validation Test', fontweight='bold')\n",
    "\n",
    "plt.show()"
   ]
  },
  {
   "cell_type": "markdown",
   "metadata": {},
   "source": [
    "The gradient descent is then computed with the optimal learning rate. The plot serves as visual indicator to assess whether or not there's overfitting with the increasing number of iterations."
   ]
  },
  {
   "cell_type": "code",
   "execution_count": 14,
   "metadata": {},
   "outputs": [
    {
     "name": "stdout",
     "output_type": "stream",
     "text": [
      "Gradient Descent(10000/10000): Final loss=0.30337166059639953\n"
     ]
    }
   ],
   "source": [
    "weights_mse_gd, loss_mse_gd = f.mean_squared_error_gd(y_train_train_reduced, tX_train_train_reduced, initial_w, 10000, g_opti)"
   ]
  },
  {
   "cell_type": "code",
   "execution_count": 15,
   "metadata": {},
   "outputs": [
    {
     "data": {
      "image/png": "[encoded data removed]",
      "text/plain": [
       "<Figure size 640x480 with 1 Axes>"
      ]
     },
     "metadata": {},
     "output_type": "display_data"
    }
   ],
   "source": [
    "loss_validation_set = []\n",
    "for w in weights_mse_gd:\n",
    "    loss_validation_set.append(f.compute_mse(y_train_validation, tX_train_validation, w))\n",
    "\n",
    "ax = plt.axes()\n",
    "\n",
    "plt.semilogy(loss_mse_gd, '-b', label='loss_mse_gd')\n",
    "plt.semilogy(loss_validation_set, '--r', label='loss_validation_set')\n",
    "plt.legend(frameon=True)\n",
    "plt.title('Loss of Train and Validation Test')\n",
    "ax.set_xlabel('Iterations')\n",
    "ax.set_ylabel('Loss')\n",
    "plt.show()"
   ]
  },
  {
   "cell_type": "markdown",
   "metadata": {},
   "source": [
    "It's quite surprising that the loss on the validation set is higher than the loss on the training set. We would have expected the opposite. This is probably due to the fact that we have a small training set, in order to equilibrate the labels."
   ]
  },
  {
   "cell_type": "markdown",
   "metadata": {},
   "source": [
    "We compute precision and accuracy metrics on the validation set we created."
   ]
  },
  {
   "cell_type": "code",
   "execution_count": 16,
   "metadata": {},
   "outputs": [
    {
     "name": "stdout",
     "output_type": "stream",
     "text": [
      "Accuracy:  0.846242927235603\n",
      "F1 score:  0.40493788331498665\n"
     ]
    }
   ],
   "source": [
    "y_pred = tX_train_validation.dot(weights_mse_gd[-1, :])\n",
    "y_pred = np.where(y_pred > 0, 1, -1)\n",
    "\n",
    "_,_,_,_,f1 = f.confusion_matrix(y_train_validation, y_pred)\n",
    "\n",
    "print(\"Accuracy: \", np.sum(y_pred == y_train_validation)/len(y_train_validation))\n",
    "print(\"F1 score: \", f1)\n"
   ]
  },
  {
   "cell_type": "markdown",
   "metadata": {},
   "source": [
    "We apply the model to the test sample"
   ]
  },
  {
   "cell_type": "code",
   "execution_count": 17,
   "metadata": {},
   "outputs": [
    {
     "name": "stdout",
     "output_type": "stream",
     "text": [
      "weights = \n",
      "\n",
      " [-5.19788811e-01  1.44179848e-01  2.48497570e-03  5.21435556e-04\n",
      " -7.54211594e-02 -3.54372452e-02 -2.07711129e-01 -4.14272315e-01\n",
      " -6.69026356e-02 -2.17740913e-01 -7.78602606e-03 -1.46441199e-02\n",
      " -1.37696212e-01 -1.10065598e-01 -1.66607098e-01  9.75309916e-02\n",
      "  5.95988530e-02  8.38979504e-01  7.52145992e-02 -7.99438237e-03\n",
      "  4.93983889e-03 -2.93350458e-02] \n",
      "\n",
      " Loss =  [70.03253052 40.87014991 27.26102936 ...  0.3033719   0.30337178\n",
      "  0.30337166] \n",
      "\n",
      "*****************************************************************************  \n",
      "\n",
      " Train sample : \n",
      " Heart attack rate =  0.08830207079403295 \n",
      " \n",
      " Test sample : \n",
      " Heart attack rate =  0.16858812020588962\n"
     ]
    }
   ],
   "source": [
    "y_test = tX_test.dot(weights_mse_gd[-1, :])\n",
    "y_test_rounded = np.where(y_test > 0, 1, -1) \n",
    "\n",
    "print('weights = \\n\\n', weights_mse_gd[-1, :],'\\n\\n Loss = ', loss_mse_gd,'\\n\\n*****************************************************************************',\n",
    "      ' \\n\\n Train sample : \\n', 'Heart attack rate = ', np.count_nonzero(y_train == 1)/len(y_train), '\\n \\n Test sample : \\n', 'Heart attack rate = ', np.count_nonzero(y_test_rounded == 1)/len(y_test_rounded))"
   ]
  },
  {
   "cell_type": "code",
   "execution_count": 18,
   "metadata": {},
   "outputs": [],
   "source": [
    "#h.create_csv_submission(test_ids, y_test_rounded, 'submission_gd.csv')"
   ]
  },
  {
   "cell_type": "markdown",
   "metadata": {},
   "source": [
    "2. MSE SGD\n",
    "\n",
    "Similarly to the gradient descent, we try different values of gamma for gradient descent with MSE as loss function. \n",
    "\n",
    "As the results are quite random (Cf. graph below), the assessment of the optimal learning rate is based on the average of the past 100 losses values (arbitrarily chosen)."
   ]
  },
  {
   "cell_type": "code",
   "execution_count": 19,
   "metadata": {},
   "outputs": [
    {
     "name": "stdout",
     "output_type": "stream",
     "text": [
      "SGD iter. 999/999: loss=0.024643312137961275\n",
      "5.0e-04\n",
      "\n",
      "SGD iter. 999/999: loss=0.10877747535883794\n",
      "6.7e-04\n",
      "\n",
      "SGD iter. 999/999: loss=0.34922375096030506\n",
      "8.3e-04\n",
      "\n",
      "SGD iter. 999/999: loss=0.059205718509334544\n",
      "1.0e-03\n",
      "\n",
      "SGD iter. 999/999: loss=0.20124238853003346\n",
      "1.2e-03\n",
      "\n",
      "SGD iter. 999/999: loss=2.9629346083284083\n",
      "1.3e-03\n",
      "\n",
      "SGD iter. 999/999: loss=0.030083889564961615\n",
      "1.5e-03\n",
      "\n",
      "SGD iter. 999/999: loss=0.07068117312525629\n",
      "1.7e-03\n",
      "\n",
      "SGD iter. 999/999: loss=0.19316035503801463\n",
      "1.8e-03\n",
      "\n",
      "SGD iter. 999/999: loss=3.3785470171458485\n",
      "2.0e-03\n",
      "\n",
      "Optimal gamma: 1.00e-03, F1-score =  0.243336, Loss = 0.674 \n"
     ]
    },
    {
     "name": "stderr",
     "output_type": "stream",
     "text": [
      "C:\\Users\\broth\\AppData\\Local\\Temp\\ipykernel_18540\\1781802545.py:20: UserWarning: Attempt to set non-positive ylim on a log-scaled axis will be ignored.\n",
      "  ax.set_ylim([0, 50])\n"
     ]
    },
    {
     "data": {
      "image/png": "[encoded data removed]",
      "text/plain": [
       "<Figure size 640x480 with 1 Axes>"
      ]
     },
     "metadata": {},
     "output_type": "display_data"
    }
   ],
   "source": [
    "gamma = np.linspace(0.0005, 0.0020, 10)\n",
    "#gamma = [0.0001, 0.001, 0.01, 0.1]\n",
    "\n",
    "g_opti = gamma[0]\n",
    "loss_opti = 1000\n",
    "\n",
    "ax = plt.axes()\n",
    "for g in gamma:\n",
    "    weights, loss = f.mean_squared_error_sgd(y_train_train_reduced, tX_train_train_reduced, initial_w, 1000, g)\n",
    "    mean_loss = np.mean(loss[-100:])\n",
    "    if mean_loss < loss_opti:\n",
    "        loss_opti = mean_loss\n",
    "        g_opti = g\n",
    "    print(\"%.1e\\n\" % (g))\n",
    "    ax.semilogy(loss, label = \"%.1e\" % g)\n",
    "\n",
    "\n",
    "print(\"Optimal gamma: %.2e, F1-score =  %.6f, Loss = %.3f \" % (g_opti, f1_opti, loss_opti))\n",
    "\n",
    "ax.set_ylim([0, 50])\n",
    "plt.title(\"Loss of GD Algorithm for different gamma\")\n",
    "plt.xlabel(\"Iterations\")\n",
    "plt.ylabel(\"Loss\")\n",
    "\n",
    "plt.legend()\n",
    "plt.show()\n"
   ]
  },
  {
   "cell_type": "code",
   "execution_count": null,
   "metadata": {},
   "outputs": [],
   "source": [
    "w_mse_sgd, loss_mse_sgd = f.mean_squared_error_sgd(y_train_train_reduced, tX_train_train_reduced, initial_w, 10000, g_opti)"
   ]
  },
  {
   "cell_type": "code",
   "execution_count": null,
   "metadata": {},
   "outputs": [],
   "source": [
    "loss_validation_set = []\n",
    "for w in w_mse_sgd:\n",
    "    loss_validation_set.append(f.compute_mse(y_train_validation, tX_train_validation, w))\n",
    "\n",
    "ax = plt.axes()\n",
    "plt.title('Loss of Train and Validation Test')\n",
    "plt.semilogy(loss_mse_sgd, '-b', label='Loss_mse_sgd')\n",
    "plt.semilogy(loss_validation_set, '--r', label='loss_validation_set')\n",
    "plt.legend(frameon=True)\n",
    "ax.set_xlabel('Iterations')\n",
    "ax.set_ylabel('Loss')"
   ]
  },
  {
   "cell_type": "markdown",
   "metadata": {},
   "source": [
    "There's no sign of overfitting, the loss on the validation set is decreasing with the number of iterations."
   ]
  },
  {
   "cell_type": "code",
   "execution_count": null,
   "metadata": {},
   "outputs": [],
   "source": [
    "y_pred = tX_train_validation.dot(w_mse_sgd[-1])\n",
    "y_pred = np.where(y_pred > 0, 1, -1)\n",
    "\n",
    "_,_,_,_,f1 = f.confusion_matrix(y_train_validation, y_pred)\n",
    "\n",
    "print(\"Accuracy: \", np.sum(y_pred == y_train_validation)/len(y_train_validation))\n",
    "\n",
    "print(\"F1 score: \", f1)"
   ]
  },
  {
   "cell_type": "markdown",
   "metadata": {},
   "source": [
    "On the test set, this is the ratio we obtain. We can see that the ratio is quite close to the one we have on the train set."
   ]
  },
  {
   "cell_type": "code",
   "execution_count": null,
   "metadata": {},
   "outputs": [],
   "source": [
    "y_test_sgd = tX_test.dot(w_mse_sgd[-1])\n",
    "y_test_rounded_sgd = np.where(y_test_sgd > 0, 1, -1)\n",
    "\n",
    "print('weights = \\n', w_mse_sgd[-1],'\\n Loss = ', loss_mse_sgd[-1],'\\n*****************************************************************************',\n",
    "      ' \\n Train sample : \\n', 'Heart attack rate = ', np.count_nonzero(y_train == 1)/len(y_train), '\\n \\n Test sample : \\n', 'Heart attack rate = ', np.count_nonzero(y_test_rounded_sgd == 1)/len(y_test_rounded_sgd))"
   ]
  },
  {
   "cell_type": "markdown",
   "metadata": {},
   "source": [
    "3. Least squares\n",
    "\n",
    "Least squares method is straight-forward. We apply the algorithm without adding any parameters.\n",
    "\n",
    "For this algorithm, we try different ratios of data in the training dataset to observe whether or not it leads to some improvement. "
   ]
  },
  {
   "cell_type": "code",
   "execution_count": null,
   "metadata": {},
   "outputs": [],
   "source": [
    "\n",
    "splits = np.linspace(1,4,4)\n",
    "weights = []\n",
    "losses = []\n",
    "s_opti = splits[0]\n",
    "f1_opti = 0\n",
    "for s in splits: \n",
    "    #Similar to the initial split reduction of data seen above\n",
    "    tX_train_neg_red = tX_train_neg[:int(len(tX_train_pos)*s),:]\n",
    "    y_train_neg_red = y_train_neg[:int(len(tX_train_pos)*s)]\n",
    "\n",
    "    tX_train_train_reduced = np.concatenate((tX_train_neg_red, tX_train_pos))\n",
    "    y_train_train_reduced = np.concatenate((y_train_neg_red, y_train_pos))\n",
    "\n",
    "    w_ls, loss_ls = f.least_squares(y_train_train_reduced, tX_train_train_reduced)\n",
    "\n",
    "    weights.append(w_ls)\n",
    "    losses.append(loss_ls)\n",
    "    print(f\"Split at %.1f/%.1f %%, loss = %.4f\" %((s/(s+1)*100), 1/(s+1)*100, loss_ls))\n",
    "    y_pred = tX_train_validation.dot(w_ls)\n",
    "    y_pred = np.where(y_pred > 0, 1, -1)\n",
    "\n",
    "    _,_,_,_,f1 = f.confusion_matrix(y_train_validation, y_pred)\n",
    "    if f1 > f1_opti:\n",
    "        f1_opti = f1\n",
    "        s_opti = s\n",
    "\n",
    "    print(\"Accuracy: \", np.sum(y_pred == y_train_validation)/len(y_train_validation))\n",
    "\n",
    "    print(\"F1 score: \", f1)\n"
   ]
  },
  {
   "cell_type": "markdown",
   "metadata": {},
   "source": [
    "It seems the optimal split is the ratio comprising twice the amount of data with heart disease than without. We will use this ratio for the other methods aswell."
   ]
  },
  {
   "cell_type": "code",
   "execution_count": null,
   "metadata": {},
   "outputs": [],
   "source": [
    "tX_train_neg_red = tX_train_neg[:int(len(tX_train_pos)*s_opti),:]\n",
    "y_train_neg_red = y_train_neg[:int(len(tX_train_pos)*s_opti)]\n",
    "\n",
    "tX_train_train_reduced = np.concatenate((tX_train_neg_red, tX_train_pos))\n",
    "y_train_train_reduced = np.concatenate((y_train_neg_red, y_train_pos))"
   ]
  },
  {
   "cell_type": "code",
   "execution_count": null,
   "metadata": {},
   "outputs": [],
   "source": [
    "w_ls, loss_ls = f.least_squares(y_train_train_reduced, tX_train_train_reduced)"
   ]
  },
  {
   "cell_type": "code",
   "execution_count": null,
   "metadata": {},
   "outputs": [],
   "source": [
    "y_pred = tX_train_validation.dot(w_ls)\n",
    "y_pred = np.where(y_pred > 0, 1, -1)\n",
    "\n",
    "_,_,_,_,f1 = f.confusion_matrix(y_train_validation, y_pred)\n",
    "\n",
    "print(\"Accuracy: \", np.sum(y_pred == y_train_validation)/len(y_train_validation))\n",
    "\n",
    "print(\"F1 score: \", f1)"
   ]
  },
  {
   "cell_type": "code",
   "execution_count": null,
   "metadata": {},
   "outputs": [],
   "source": [
    "\n",
    "y_test_ls = tX_test.dot(w_ls)\n",
    "y_test_ls = np.where(y_test_ls > 0, 1, -1)\n",
    "\n",
    "print('weights = \\n', w_ls,'\\n Loss = ', loss_ls,'\\n*****************************************************************************',\n",
    "      ' \\n Train sample : \\n', 'Heart attack rate = ', np.count_nonzero(y_train == 1)/len(y_train), '\\n \\n Test sample : \\n', 'Heart attack rate = ', np.count_nonzero(y_test_ls == 1)/len(y_test_ls))"
   ]
  },
  {
   "cell_type": "code",
   "execution_count": null,
   "metadata": {},
   "outputs": [],
   "source": [
    "#h.create_csv_submission(test_ids, y_test_ls, 'submission_ls_8.csv')"
   ]
  },
  {
   "cell_type": "markdown",
   "metadata": {},
   "source": [
    "4. Ridge regression\n"
   ]
  },
  {
   "cell_type": "markdown",
   "metadata": {},
   "source": [
    "The ridge regression differs from the least squares as we apply a penalty to the complexification of the weights (increase in values). We try to identify which should be the optimal weight we attribute to this penalty.\n",
    "\n",
    "The same data balance is applied."
   ]
  },
  {
   "cell_type": "code",
   "execution_count": null,
   "metadata": {},
   "outputs": [],
   "source": [
    "#Try different values of gamma for gradient descent with MSE as loss function\n",
    "gamma = [0.0000001, 0.000001, 0.00001, 0.0001, 0.001, 0.01, 1]\n",
    "#gamma = np.linspace(1*10**(-7),1*10**-2 , 8)\n",
    "g_opti = gamma[0]\n",
    "loss_opti = 1000\n",
    "f1_opti = 0\n",
    "for g in gamma:\n",
    "    w_ridge, loss_ridge = f.ridge_regression(y_train_train_reduced, tX_train_train_reduced, g)\n",
    "    print(\"%.2e: %f\" % (g, loss_ridge))\n",
    "\n",
    "\n",
    "    y_pred = tX_train_validation.dot(w_ridge)\n",
    "    y_pred = np.where(y_pred > 0, 1, -1)\n",
    "    _,_,_,_,f1 = f.confusion_matrix(y_train_validation, y_pred)\n",
    "\n",
    "    if f1 > f1_opti:\n",
    "        loss_opti = loss_ridge\n",
    "        g_opti = g\n",
    "        f1_opti = f1\n",
    "    print(\"F1 score: %.6f \\n\" % f1)\n",
    "\n",
    "print(\"optimal gamma: %.e \" % g_opti)\n"
   ]
  },
  {
   "cell_type": "markdown",
   "metadata": {},
   "source": [
    "The optimal weight to attribute to the malus seems to be 0.0001, as it gives the best F1 score on the validation set. We will the used this value in the training of the model"
   ]
  },
  {
   "cell_type": "code",
   "execution_count": null,
   "metadata": {},
   "outputs": [],
   "source": [
    "w_ridge, loss_ridge = f.ridge_regression(y_train_train_reduced, tX_train_train_reduced, g_opti)"
   ]
  },
  {
   "cell_type": "markdown",
   "metadata": {},
   "source": [
    "The accuracy and the F1-score computed on the validation set are show below. "
   ]
  },
  {
   "cell_type": "code",
   "execution_count": null,
   "metadata": {},
   "outputs": [],
   "source": [
    "y_pred = tX_train_validation.dot(w_ridge)\n",
    "y_pred = np.where(y_pred > 0, 1, -1)\n",
    "\n",
    "_,_,_,_,f1 = f.confusion_matrix(y_train_validation, y_pred)\n",
    "\n",
    "print(\"Accuracy: \", np.sum(y_pred == y_train_validation)/len(y_train_validation))\n",
    "\n",
    "print(\"F1 score: \", f1)"
   ]
  },
  {
   "cell_type": "markdown",
   "metadata": {},
   "source": [
    "Test set label attributions"
   ]
  },
  {
   "cell_type": "code",
   "execution_count": null,
   "metadata": {},
   "outputs": [],
   "source": [
    "y_test_ridge = tX_test.dot(w_ridge)\n",
    "y_test_ridge = np.where(y_test_ridge > 0, 1, -1)\n",
    "\n",
    "print('weights = \\n', w_ridge,'\\n Loss = ', loss_ridge,'\\n*****************************************************************************',\n",
    "      ' \\n Train sample : \\n', 'Heart attack rate = ', np.count_nonzero(y_train == 1)/len(y_train), '\\n \\n Test sample : \\n', 'Heart attack rate = ', np.count_nonzero(y_test_ridge == 1)/len(y_test_ridge))"
   ]
  },
  {
   "cell_type": "code",
   "execution_count": null,
   "metadata": {},
   "outputs": [],
   "source": [
    "#h.create_csv_submission(test_ids, y_test_ridge, 'submission_ridge.csv')"
   ]
  },
  {
   "cell_type": "markdown",
   "metadata": {},
   "source": [
    "5. Logistic regression"
   ]
  },
  {
   "cell_type": "markdown",
   "metadata": {},
   "source": [
    "For the logistic regression, the datas are processed once again as the -1 needs to be transformed to 0. "
   ]
  },
  {
   "cell_type": "code",
   "execution_count": null,
   "metadata": {},
   "outputs": [],
   "source": [
    "tX_train_neg_red = tX_train_neg[:int(len(tX_train_pos)*1),:]\n",
    "y_train_neg_red = y_train_neg[:int(len(tX_train_pos)*1)]\n",
    "\n",
    "tX_train_train_reduced = np.concatenate((tX_train_neg_red, tX_train_pos))\n",
    "y_train_train_reduced = np.concatenate((y_train_neg_red, y_train_pos))"
   ]
  },
  {
   "cell_type": "code",
   "execution_count": null,
   "metadata": {},
   "outputs": [],
   "source": [
    "#Transformation of the label, so taht we can use the logistic regression function\n",
    "y_train_train_red_lg = np.where(y_train_train_reduced == 1, 1, 0)\n",
    "y_train_validation_lg = np.where(y_train_validation == 1, 1, 0)\n",
    "initial_w = [random.choice([1, 0]) for i in range(len(tX_train[0]))]\n",
    "#transform initial_w as an array\n",
    "initial_w = np.array(initial_w)"
   ]
  },
  {
   "cell_type": "markdown",
   "metadata": {},
   "source": [
    "Then, we try different values of gamma on a small number of iteration in order to extract the optimal one "
   ]
  },
  {
   "cell_type": "code",
   "execution_count": null,
   "metadata": {},
   "outputs": [],
   "source": [
    "#Try different values of gamma for gradient descent with MSE as loss function\n",
    "\n",
    "gamma = np.linspace(1*10**(-2), 2*10**(-1), 20)\n",
    "g_opti = gamma[0]\n",
    "loss_opti = 1000\n",
    "f1_opti = 0\n",
    "for g in gamma:\n",
    "    w_logreg, loss_logreg = f.logistic_regression(y_train_train_red_lg, tX_train_train_reduced, initial_w, 2000, g)\n",
    "    print(\"%.2e, loss = %.3f\" % (g, loss_logreg[-1]))\n",
    "    plt.semilogy(loss_logreg, label = \"%f\" % g)\n",
    "\n",
    "    y_pred = tX_train_validation.dot(w_logreg[-1])\n",
    "    y_pred = np.where(y_pred > 0.5, 1, 0)\n",
    "    y_pred = np.where(y_pred == 1, 1, -1)\n",
    "\n",
    "    _,_,_,_,f1 = f.confusion_matrix(y_train_validation, y_pred)\n",
    "\n",
    "    \n",
    "    if f1 > f1_opti:\n",
    "        loss_opti = loss_logreg\n",
    "        g_opti = g\n",
    "        f1_opti = f1\n",
    "    print(\"F1 score: %.6f \\n\" % f1)\n",
    "\n",
    "\n",
    "print(\"Optimal gamma: %e, F1-score =  %.6f, Loss = %.3f \" % (g_opti, f1_opti, loss_opti))\n",
    "plt.title(\"Loss of GD Algorithm for different gamma\")\n",
    "plt.xlabel(\"Iterations\")\n",
    "plt.ylabel(\"Loss\")\n",
    "plt.legend()\n",
    "plt.show()"
   ]
  },
  {
   "cell_type": "markdown",
   "metadata": {},
   "source": [
    "The best learning rate is 0.1, as it gives the best F1-score on the validation test set. The F1-score has been chosen as the main criterium of validation given the distribution of the data, heavily unbalanced. \n",
    "We can also observe that it is not necessarily the lowest lost between all of the trials. "
   ]
  },
  {
   "cell_type": "code",
   "execution_count": null,
   "metadata": {},
   "outputs": [],
   "source": [
    "n_iter = 5000\n",
    "w_logreg, loss_logreg = f.logistic_regression(y_train_train_red_lg, tX_train_train_reduced,initial_w, n_iter, g_opti)"
   ]
  },
  {
   "cell_type": "code",
   "execution_count": null,
   "metadata": {},
   "outputs": [],
   "source": [
    "loss_validation_set = np.zeros(n_iter)\n",
    "k = 0\n",
    "for i, w in enumerate(w_logreg):\n",
    "    loss_validation_set[i] = f.compute_loss_logistic(y_train_validation_lg, tX_train_validation, w)\n",
    "    #print(f.compute_loss_logistic(y_train_validation_lg, tX_train_validation, w))\n",
    "\n",
    "#fig = plt.figure(figsize=(10,10))   \n",
    "\n",
    "ax = plt.axes()\n",
    "\n",
    "ax.set_xscale('log')\n",
    "\n",
    "plt.semilogy(loss_logreg, '-b', label='Loss Logistic Regression')\n",
    "plt.semilogy(loss_validation_set, '--r', label='Loss Validation Set')\n",
    "plt.legend(frameon=True)\n",
    "plt.title('Loss on Train and Validation Test')\n",
    "ax.set_xlabel('Iterations')\n",
    "ax.set_ylabel('Loss')"
   ]
  },
  {
   "cell_type": "code",
   "execution_count": null,
   "metadata": {},
   "outputs": [],
   "source": [
    "y_pred = tX_train_validation.dot(w_logreg[-1])\n",
    "y_pred = np.where(y_pred > 0.5, 1, 0)\n",
    "y_pred = np.where(y_pred == 1, 1, -1)\n",
    "\n",
    "_,_,_,_,f1 = f.confusion_matrix(y_train_validation, y_pred)\n",
    "\n",
    "print(\"Accuracy: \", np.sum(y_pred == y_train_validation)/len(y_train_validation))\n",
    "\n",
    "print(\"F1 score: \", f1)"
   ]
  },
  {
   "cell_type": "code",
   "execution_count": null,
   "metadata": {},
   "outputs": [],
   "source": [
    "y_test_logreg = tX_test.dot(w_logreg[-1, :])\n",
    "y_test_logreg = np.where(y_test_logreg > 0.5, 1, 0)\n",
    "\n",
    "print('weights = \\n', w_logreg[-1,:],'\\n Loss = ', loss_logreg[-1],'\\n*****************************************************************************',\n",
    "        ' \\n Train sample : \\n', 'Heart attack rate = ', np.count_nonzero(y_train== 1)/len(y_train), '\\n \\n Test sample : \\n', 'Heart attack rate = ', np.count_nonzero(y_test_logreg == 1)/len(y_test_logreg))"
   ]
  },
  {
   "cell_type": "code",
   "execution_count": null,
   "metadata": {},
   "outputs": [],
   "source": [
    "y_sub = np.where(y_test_logreg == 1, 1, -1)\n",
    "h.create_csv_submission(test_ids, y_sub, 'submission_logreg.csv')"
   ]
  },
  {
   "cell_type": "markdown",
   "metadata": {},
   "source": [
    "6. Regularized logistic regression"
   ]
  },
  {
   "cell_type": "code",
   "execution_count": null,
   "metadata": {},
   "outputs": [],
   "source": [
    "#Try different values of gamma for gradient descent with MSE as loss function\n",
    "#gamma = np.arange(10*10**(-2), 20*10**(-2), 1*10**(-2))\n",
    "gamma = [0.00001, 0.0001, 0.001, 0.01, 0.1]\n",
    "lambdas = [0.00001, 0.0001, 0.001, 0.01, 0.1]\n",
    "g_opti = gamma[0]\n",
    "l_opti = lambdas[0]\n",
    "loss_opti = 1000\n",
    "for l in lambdas:\n",
    "    for g in gamma:\n",
    "        w_logreg, loss_logreg = f.reg_logistic_regression(y_train_train_red_lg, tX_train_train_reduced, l, initial_w, 1000, g)\n",
    "        if np.mean(loss_logreg[-10:]) < loss_opti:\n",
    "            loss_opti = np.mean(loss_logreg[-10:])\n",
    "            g_opti = g\n",
    "            l_opti = l\n",
    "        #print(\"%e, %e: %f\" % (g, l, loss_logreg[-1]))\n",
    "    plt.semilogy(loss_logreg, label = \"%.5f, %.5f\" % (g, l) )\n",
    "\n",
    "print(\"optimal gamma: %e \" % g_opti)\n",
    "print(\"optimal lambda: %e \" % l_opti)\n",
    "plt.legend()\n",
    "plt.show()"
   ]
  },
  {
   "cell_type": "code",
   "execution_count": null,
   "metadata": {},
   "outputs": [],
   "source": [
    "w_reg_logreg, loss_reg_logreg = f.reg_logistic_regression(y_train_train_red_lg, tX_train_train_reduced, l_opti, initial_w, 6000, g_opti)"
   ]
  },
  {
   "cell_type": "code",
   "execution_count": null,
   "metadata": {},
   "outputs": [],
   "source": [
    "y_pred = tX_train_validation.dot(w_reg_logreg[-1])\n",
    "y_pred = np.where(y_pred > 0.5, 1, 0)\n",
    "y_pred = np.where(y_pred == 1, 1, -1)\n",
    "\n",
    "_,_,_,_,f1 = f.confusion_matrix(y_train_validation, y_pred)\n",
    "\n",
    "print(\"Accuracy: \", np.sum(y_pred == y_train_validation)/len(y_train_validation))\n",
    "\n",
    "print(\"F1 score: \", f1)"
   ]
  },
  {
   "cell_type": "code",
   "execution_count": null,
   "metadata": {},
   "outputs": [],
   "source": [
    "y_test_reg_logreg = tX_test.dot(w_reg_logreg[-1])\n",
    "y_test_reg_logreg = np.where(y_test_reg_logreg > 0.5, 1, 0)\n",
    "\n",
    "print('weights = \\n', w_reg_logreg[-1],'\\n Loss = ', loss_reg_logreg[-1],'\\n*****************************************************************************',\n",
    "        ' \\n Train sample : \\n', 'Heart attack rate = ', np.count_nonzero(y_train == 1)/len(y_train), '\\n \\n Test sample : \\n', 'Heart attack rate = ', np.count_nonzero(y_test_reg_logreg == 1)/len(y_test_reg_logreg))\n"
   ]
  },
  {
   "cell_type": "code",
   "execution_count": null,
   "metadata": {},
   "outputs": [],
   "source": [
    "y_sub = np.where(y_test_reg_logreg == 1, 1, -1)\n",
    "h.create_csv_submission(test_ids, y_sub, 'submission_reg_logreg.csv')"
   ]
  },
  {
   "cell_type": "code",
   "execution_count": null,
   "metadata": {},
   "outputs": [],
   "source": []
  }
 ],
 "metadata": {
  "kernelspec": {
   "display_name": "Python3",
   "language": "python",
   "name": "python3"
  },
  "language_info": {
   "codemirror_mode": {
    "name": "ipython",
    "version": 3
   },
   "file_extension": ".py",
   "mimetype": "text/x-python",
   "name": "python",
   "nbconvert_exporter": "python",
   "pygments_lexer": "ipython3",
   "version": "3.11.6"
  }
 },
 "nbformat": 4,
 "nbformat_minor": 4
}
