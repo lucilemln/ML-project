{
 "cells": [
  {
   "cell_type": "code",
   "execution_count": 9,
   "metadata": {
    "tags": []
   },
   "outputs": [],
   "source": [
    "import numpy as np\n",
    "import matplotlib.pyplot as plt\n",
    "import random\n",
    "try:\n",
    "    import importlib\n",
    "    importlib.reload(h)\n",
    "    importlib.reload(f)\n",
    "    importlib.reload(d)\n",
    "except NameError: # It hasn't been imported yet\n",
    "    import helpers as h\n",
    "    import implementations as f\n",
    "    import data_processing as d"
   ]
  },
  {
   "cell_type": "markdown",
   "metadata": {},
   "source": [
    "# Data preprocessing and feature selections"
   ]
  },
  {
   "cell_type": "markdown",
   "metadata": {},
   "source": [
    "## Data preprocessing"
   ]
  },
  {
   "cell_type": "markdown",
   "metadata": {},
   "source": [
    "#For this to work, the data folder needs to be one level above the project folder and the folder name needs\n",
    "#to be 'data'\n",
    "data_folder = '../data/'\n",
    "x_train, x_test, y_train, train_ids, test_ids = h.load_csv_data(data_folder)\n"
   ]
  },
  {
   "cell_type": "code",
   "execution_count": 10,
   "metadata": {
    "tags": []
   },
   "outputs": [],
   "source": [
    "x_train = np.load(\"../data/x_train.npy\")\n",
    "x_test = np.load(\"../data/x_test.npy\")\n",
    "y_train = np.load(\"../data/y_train.npy\")\n",
    "train_ids = np.load(\"../data/trains_ids.npy\")\n",
    "test_ids = np.load(\"../data/x_train.npy\")"
   ]
  },
  {
   "cell_type": "code",
   "execution_count": 11,
   "metadata": {
    "tags": []
   },
   "outputs": [],
   "source": [
    "#features_named all the features names and remove the ID column\n",
    "features_name = np.genfromtxt('../data/x_train.csv', delimiter=',', dtype=str, max_rows=1)[1:] "
   ]
  },
  {
   "cell_type": "code",
   "execution_count": 12,
   "metadata": {
    "tags": []
   },
   "outputs": [
    {
     "data": {
      "text/plain": [
       "array(['_STATE', 'FMONTH', 'IDATE', 'IMONTH', 'IDAY', 'IYEAR', 'DISPCODE',\n",
       "       'SEQNO', '_PSU', 'CTELENUM', 'PVTRESD1', 'COLGHOUS', 'STATERES',\n",
       "       'CELLFON3', 'LADULT', 'NUMADULT', 'NUMMEN', 'NUMWOMEN', 'CTELNUM1',\n",
       "       'CELLFON2', 'CADULT', 'PVTRESD2', 'CCLGHOUS', 'CSTATE', 'LANDLINE',\n",
       "       'HHADULT', 'GENHLTH', 'PHYSHLTH', 'MENTHLTH', 'POORHLTH',\n",
       "       'HLTHPLN1', 'PERSDOC2', 'MEDCOST', 'CHECKUP1', 'BPHIGH4', 'BPMEDS',\n",
       "       'BLOODCHO', 'CHOLCHK', 'TOLDHI2', 'CVDSTRK3', 'ASTHMA3', 'ASTHNOW',\n",
       "       'CHCSCNCR', 'CHCOCNCR', 'CHCCOPD1', 'HAVARTH3', 'ADDEPEV2',\n",
       "       'CHCKIDNY', 'DIABETE3', 'DIABAGE2', 'SEX', 'MARITAL', 'EDUCA',\n",
       "       'RENTHOM1', 'NUMHHOL2', 'NUMPHON2', 'CPDEMO1', 'VETERAN3',\n",
       "       'EMPLOY1', 'CHILDREN', 'INCOME2', 'INTERNET', 'WEIGHT2', 'HEIGHT3',\n",
       "       'PREGNANT', 'QLACTLM2', 'USEEQUIP', 'BLIND', 'DECIDE', 'DIFFWALK',\n",
       "       'DIFFDRES', 'DIFFALON', 'SMOKE100', 'SMOKDAY2', 'STOPSMK2',\n",
       "       'LASTSMK2', 'USENOW3', 'ALCDAY5', 'AVEDRNK2', 'DRNK3GE5',\n",
       "       'MAXDRNKS', 'FRUITJU1', 'FRUIT1', 'FVBEANS', 'FVGREEN', 'FVORANG',\n",
       "       'VEGETAB1', 'EXERANY2', 'EXRACT11', 'EXEROFT1', 'EXERHMM1',\n",
       "       'EXRACT21', 'EXEROFT2', 'EXERHMM2', 'STRENGTH', 'LMTJOIN3',\n",
       "       'ARTHDIS2', 'ARTHSOCL', 'JOINPAIN', 'SEATBELT', 'FLUSHOT6',\n",
       "       'FLSHTMY2', 'IMFVPLAC', 'PNEUVAC3', 'HIVTST6', 'HIVTSTD3',\n",
       "       'WHRTST10', 'PDIABTST', 'PREDIAB1', 'INSULIN', 'BLDSUGAR',\n",
       "       'FEETCHK2', 'DOCTDIAB', 'CHKHEMO3', 'FEETCHK', 'EYEEXAM',\n",
       "       'DIABEYE', 'DIABEDU', 'CAREGIV1', 'CRGVREL1', 'CRGVLNG1',\n",
       "       'CRGVHRS1', 'CRGVPRB1', 'CRGVPERS', 'CRGVHOUS', 'CRGVMST2',\n",
       "       'CRGVEXPT', 'VIDFCLT2', 'VIREDIF3', 'VIPRFVS2', 'VINOCRE2',\n",
       "       'VIEYEXM2', 'VIINSUR2', 'VICTRCT4', 'VIGLUMA2', 'VIMACDG2',\n",
       "       'CIMEMLOS', 'CDHOUSE', 'CDASSIST', 'CDHELP', 'CDSOCIAL',\n",
       "       'CDDISCUS', 'WTCHSALT', 'LONGWTCH', 'DRADVISE', 'ASTHMAGE',\n",
       "       'ASATTACK', 'ASERVIST', 'ASDRVIST', 'ASRCHKUP', 'ASACTLIM',\n",
       "       'ASYMPTOM', 'ASNOSLEP', 'ASTHMED3', 'ASINHALR', 'HAREHAB1',\n",
       "       'STREHAB1', 'CVDASPRN', 'ASPUNSAF', 'RLIVPAIN', 'RDUCHART',\n",
       "       'RDUCSTRK', 'ARTTODAY', 'ARTHWGT', 'ARTHEXER', 'ARTHEDU',\n",
       "       'TETANUS', 'HPVADVC2', 'HPVADSHT', 'SHINGLE2', 'HADMAM', 'HOWLONG',\n",
       "       'HADPAP2', 'LASTPAP2', 'HPVTEST', 'HPLSTTST', 'HADHYST2',\n",
       "       'PROFEXAM', 'LENGEXAM', 'BLDSTOOL', 'LSTBLDS3', 'HADSIGM3',\n",
       "       'HADSGCO1', 'LASTSIG3', 'PCPSAAD2', 'PCPSADI1', 'PCPSARE1',\n",
       "       'PSATEST1', 'PSATIME', 'PCPSARS1', 'PCPSADE1', 'PCDMDECN',\n",
       "       'SCNTMNY1', 'SCNTMEL1', 'SCNTPAID', 'SCNTWRK1', 'SCNTLPAD',\n",
       "       'SCNTLWK1', 'SXORIENT', 'TRNSGNDR', 'RCSGENDR', 'RCSRLTN2',\n",
       "       'CASTHDX2', 'CASTHNO2', 'EMTSUPRT', 'LSATISFY', 'ADPLEASR',\n",
       "       'ADDOWN', 'ADSLEEP', 'ADENERGY', 'ADEAT1', 'ADFAIL', 'ADTHINK',\n",
       "       'ADMOVE', 'MISTMNT', 'ADANXEV', 'QSTVER', 'QSTLANG', 'MSCODE',\n",
       "       '_STSTR', '_STRWT', '_RAWRAKE', '_WT2RAKE', '_CHISPNC', '_CRACE1',\n",
       "       '_CPRACE', '_CLLCPWT', '_DUALUSE', '_DUALCOR', '_LLCPWT',\n",
       "       '_RFHLTH', '_HCVU651', '_RFHYPE5', '_CHOLCHK', '_RFCHOL',\n",
       "       '_LTASTH1', '_CASTHM1', '_ASTHMS1', '_DRDXAR1', '_PRACE1',\n",
       "       '_MRACE1', '_HISPANC', '_RACE', '_RACEG21', '_RACEGR3', '_RACE_G1',\n",
       "       '_AGEG5YR', '_AGE65YR', '_AGE80', '_AGE_G', 'HTIN4', 'HTM4',\n",
       "       'WTKG3', '_BMI5', '_BMI5CAT', '_RFBMI5', '_CHLDCNT', '_EDUCAG',\n",
       "       '_INCOMG', '_SMOKER3', '_RFSMOK3', 'DRNKANY5', 'DROCDY3_',\n",
       "       '_RFBING5', '_DRNKWEK', '_RFDRHV5', 'FTJUDA1_', 'FRUTDA1_',\n",
       "       'BEANDAY_', 'GRENDAY_', 'ORNGDAY_', 'VEGEDA1_', '_MISFRTN',\n",
       "       '_MISVEGN', '_FRTRESP', '_VEGRESP', '_FRUTSUM', '_VEGESUM',\n",
       "       '_FRTLT1', '_VEGLT1', '_FRT16', '_VEG23', '_FRUITEX', '_VEGETEX',\n",
       "       '_TOTINDA', 'METVL11_', 'METVL21_', 'MAXVO2_', 'FC60_', 'ACTIN11_',\n",
       "       'ACTIN21_', 'PADUR1_', 'PADUR2_', 'PAFREQ1_', 'PAFREQ2_',\n",
       "       '_MINAC11', '_MINAC21', 'STRFREQ_', 'PAMISS1_', 'PAMIN11_',\n",
       "       'PAMIN21_', 'PA1MIN_', 'PAVIG11_', 'PAVIG21_', 'PA1VIGM_',\n",
       "       '_PACAT1', '_PAINDX1', '_PA150R2', '_PA300R2', '_PA30021',\n",
       "       '_PASTRNG', '_PAREC1', '_PASTAE1', '_LMTACT1', '_LMTWRK1',\n",
       "       '_LMTSCL1', '_RFSEAT2', '_RFSEAT3', '_FLSHOT6', '_PNEUMO2',\n",
       "       '_AIDTST3'], dtype='<U8')"
      ]
     },
     "execution_count": 12,
     "metadata": {},
     "output_type": "execute_result"
    }
   ],
   "source": [
    "features_name"
   ]
  },
  {
   "cell_type": "markdown",
   "metadata": {},
   "source": [
    "## Feature selection\n",
    "\n",
    "one paper on internet suggests to use these features : \n",
    "\n",
    " _RFHYPE5, TOLDHI2, _CHOLCHK, _BMI5, SMOKE100, CVDSTRK3, DIABETE3, _TOTINDA, _FRTLT1, _VEGLT1, _RFDRHV5, HLTHPLN1, MEDCOST, GENHLTH, MENTHLTH, PHYSHLTH, DIFFWALK, SEX, _AGEG5YR, EDUCA, and INCOME2\n",
    "\n",
    " then, iterating through them, it removes the missing values, made the data binary when possible, removed the 'don't know, not sure', and ordinal (categorical) variables ares changed to 0,1,2,..., and renamed them"
   ]
  },
  {
   "cell_type": "markdown",
   "metadata": {},
   "source": [
    "# Main"
   ]
  },
  {
   "cell_type": "code",
   "execution_count": 8,
   "metadata": {},
   "outputs": [],
   "source": [
    "#Select the important features\n",
    "features_list = ['_RFHYPE5', 'TOLDHI2', '_CHOLCHK', '_BMI5', 'SMOKE100', 'CVDSTRK3', 'DIABETE3', '_TOTINDA', '_FRTLT1', '_VEGLT1', '_RFDRHV5', \n",
    "                 'HLTHPLN1', 'MEDCOST', 'GENHLTH', 'MENTHLTH', 'PHYSHLTH', 'DIFFWALK', 'SEX', '_AGEG5YR', 'EDUCA', 'INCOME2']\n",
    "\n",
    "#Create a mask to filter the data\n",
    "mask = np.isin(features_name, features_list)\n",
    "\n",
    "x_train_featured = x_train[:, mask]\n",
    "x_test_featured = x_test[:, mask]"
   ]
  },
  {
   "cell_type": "code",
   "execution_count": 6,
   "metadata": {},
   "outputs": [
    {
     "name": "stdout",
     "output_type": "stream",
     "text": [
      "(257733, 21) (257733,) (109379, 21) (257733,)\n"
     ]
    }
   ],
   "source": [
    "#remove all missing values on X and remove corresponding lines in Y and ids\n",
    "\n",
    "x_train_featured_clean = x_train_featured[~np.isnan(x_train_featured).any(axis=1)]\n",
    "#x_test_featured_clean = x_test_featured[~np.isnan(x_test_featured).any(axis=1)]\n",
    "\n",
    "y_train_clean = y_train[~np.isnan(x_train_featured).any(axis=1)]\n",
    "\n",
    "train_ids_filtered = train_ids[~np.isnan(x_train_featured).any(axis=1)]\n",
    "#test_ids_filtered = test_ids[~np.isnan(x_test_featured).any(axis=1)]\n",
    "\n",
    "print(x_train_featured_clean.shape, y_train_clean.shape, x_test_featured.shape, train_ids_filtered.shape)\n"
   ]
  },
  {
   "cell_type": "markdown",
   "metadata": {},
   "source": [
    "### We want to clean the data for each feature, making them binary for yes/no, etc... and rename them"
   ]
  },
  {
   "cell_type": "code",
   "execution_count": 7,
   "metadata": {},
   "outputs": [],
   "source": [
    "#train data\n",
    "\n",
    "x_train_processed, y_train_processed, ids_train_processed = d.feature_processing(x_train_featured_clean, y_train_clean, train_ids_filtered)"
   ]
  },
  {
   "cell_type": "code",
   "execution_count": 8,
   "metadata": {},
   "outputs": [],
   "source": [
    "#Test data\n",
    "x_test_processed = d.feature_processing_test(x_test_featured)"
   ]
  },
  {
   "cell_type": "markdown",
   "metadata": {},
   "source": [
    "### Now that the preprocessing has been done, we can format the data to be used by the algorithms"
   ]
  },
  {
   "cell_type": "code",
   "execution_count": 9,
   "metadata": {},
   "outputs": [],
   "source": [
    "tX_train = np.c_[np.ones((len(y_train_processed), 1)), x_train_processed]\n",
    "tX_test = np.c_[np.ones((len(x_test_featured), 1)), x_test_featured]"
   ]
  },
  {
   "cell_type": "markdown",
   "metadata": {},
   "source": [
    "## And then, we can run the algorithms"
   ]
  },
  {
   "cell_type": "markdown",
   "metadata": {},
   "source": [
    "1. MSE gradient descent"
   ]
  },
  {
   "cell_type": "code",
   "execution_count": 219,
   "metadata": {},
   "outputs": [
    {
     "name": "stdout",
     "output_type": "stream",
     "text": [
      "Gradient Descent(799/800): loss=0.1897731751797139\n"
     ]
    }
   ],
   "source": [
    "#Compute gradient descent with MSE as loss function (see functions.py for the function)\n",
    "\n",
    "\n",
    "tX_train_train = tX_train[:int(len(tX_train)*0.7)]\n",
    "y_train_train = y_train_processed[:int(len(tX_train)*0.7)]\n",
    "tX_train_test = tX_train[int(len(tX_train)*0.7):]\n",
    "y_train_test = y_train_processed[int(len(tX_train)*0.7):]\n",
    "\n",
    "initial_w = [random.choice([1, -1]) for i in range(len(tX_train_train[0]))]\n",
    "\n",
    "\n",
    "w_mse_gd, loss_mse_gd = f.mean_squared_error_gd(y_train_train, tX_train_train, np.ones(len(tX_train_train[0])), 800, 0.01)\n",
    "\n"
   ]
  },
  {
   "cell_type": "code",
   "execution_count": 220,
   "metadata": {},
   "outputs": [
    {
     "name": "stdout",
     "output_type": "stream",
     "text": [
      "Accuracy:  0.8930303401670198\n",
      "F1 score:  0.0847813061713601\n"
     ]
    }
   ],
   "source": [
    "y_pred = tX_train_test.dot(w_mse_gd)\n",
    "y_pred = np.where(y_pred > 0, 1, -1)\n",
    "\n",
    "_,_,_,_,f1 = f.confusion_matrix(y_train_test, y_pred)\n",
    "\n",
    "print(\"Accuracy: \", np.sum(y_pred == y_train_test)/len(y_train_test))\n",
    "print(\"F1 score: \", f1)\n"
   ]
  },
  {
   "cell_type": "code",
   "execution_count": 180,
   "metadata": {},
   "outputs": [
    {
     "name": "stdout",
     "output_type": "stream",
     "text": [
      "weights = \n",
      "\n",
      " [ 0.20016236 -0.12801528  0.00898558 -0.0014339   0.59881605  0.22863561\n",
      " -0.10955409  0.00920166 -0.22065606 -0.04104045 -0.1761094  -0.02571184\n",
      "  0.0342869   0.00815134 -0.075883    0.21763749 -0.00166043  0.73671946\n",
      "  0.10441582  0.00314219  0.14855273  0.15085362] \n",
      "\n",
      " Loss =  0.20383784711309283 \n",
      "\n",
      "*****************************************************************************  \n",
      "\n",
      " Train sample : \n",
      " Heart attack rate =  0.09400982168649387 \n",
      " \n",
      " Test sample : \n",
      " Heart attack rate =  0.012305835672295413\n"
     ]
    }
   ],
   "source": [
    "#Test the model on the test sample. Do we need to standardize ?\n",
    "\n",
    "y_test = tX_test.dot(w_mse_gd)\n",
    "y_test_rounded = np.where(y_test > 0, 1, -1) #not sure about this line\n",
    "\n",
    "print('weights = \\n\\n', w_mse_gd,'\\n\\n Loss = ', loss_mse_gd,'\\n\\n*****************************************************************************',\n",
    "      ' \\n\\n Train sample : \\n', 'Heart attack rate = ', np.count_nonzero(y_train_processed == 1)/len(y_train_processed), '\\n \\n Test sample : \\n', 'Heart attack rate = ', np.count_nonzero(y_test_rounded == 1)/len(y_test_rounded))"
   ]
  },
  {
   "cell_type": "markdown",
   "metadata": {},
   "source": [
    "Lets run some cross validation to see the best initial weights (as a function of the proportion of 1, -1 and 0)\n"
   ]
  },
  {
   "cell_type": "markdown",
   "metadata": {},
   "source": [
    "2. MSE SGD"
   ]
  },
  {
   "cell_type": "code",
   "execution_count": 225,
   "metadata": {},
   "outputs": [
    {
     "name": "stdout",
     "output_type": "stream",
     "text": [
      "SGD iter. 9999/9999: loss=1.1143493933198159, w0=-0.9329338588478854, w1=0.5625435719796987\n"
     ]
    }
   ],
   "source": [
    "w_mse_sgd, loss_mse_sgd = f.mean_squared_error_sgd(y_train_train, tX_train_train, initial_w, 1000, 0.0001)"
   ]
  },
  {
   "cell_type": "code",
   "execution_count": 223,
   "metadata": {},
   "outputs": [
    {
     "name": "stdout",
     "output_type": "stream",
     "text": [
      "Accuracy:  0.6104973826572594\n",
      "F1 score:  0.2515139281388777\n"
     ]
    }
   ],
   "source": [
    "y_pred = tX_train_test.dot(w_mse_sgd)\n",
    "y_pred = np.where(y_pred > 0, 1, -1)\n",
    "\n",
    "_,_,_,_,f1 = f.confusion_matrix(y_train_test, y_pred)\n",
    "\n",
    "print(\"Accuracy: \", np.sum(y_pred == y_train_test)/len(y_train_test))\n",
    "\n",
    "print(\"F1 score: \", f1)"
   ]
  },
  {
   "cell_type": "code",
   "execution_count": 17,
   "metadata": {},
   "outputs": [
    {
     "name": "stdout",
     "output_type": "stream",
     "text": [
      "weights = \n",
      " [ 1.13540007 -0.64134768 -0.05683514  0.21212907  1.00469463  1.12510268\n",
      "  1.06869715  1.12562852 -0.74617025 -0.91480522 -0.28146503 -0.06965598\n",
      " -0.88484654 -0.89438242 -0.9100599  -0.87255593  0.2335261  -0.96389908\n",
      "  1.13267781  1.02203206  1.00867986 -0.96641201] \n",
      " Loss =  1.9697986341411864 \n",
      "*****************************************************************************  \n",
      " Train sample : \n",
      " Heart attack rate =  0.09400982168649387 \n",
      " \n",
      " Test sample : \n",
      " Heart attack rate =  0.13274943087795646\n"
     ]
    }
   ],
   "source": [
    "y_test_sgd = tX_test.dot(w_mse_sgd)\n",
    "y_test_rounded_sgd = np.where(y_test_sgd > 0, 1, -1)\n",
    "\n",
    "print('weights = \\n', w_mse_sgd,'\\n Loss = ', loss_mse_sgd,'\\n*****************************************************************************',\n",
    "      ' \\n Train sample : \\n', 'Heart attack rate = ', np.count_nonzero(y_train_processed == 1)/len(y_train_processed), '\\n \\n Test sample : \\n', 'Heart attack rate = ', np.count_nonzero(y_test_rounded_sgd == 1)/len(y_test_rounded_sgd))"
   ]
  },
  {
   "cell_type": "markdown",
   "metadata": {},
   "source": [
    "3. Least squares"
   ]
  },
  {
   "cell_type": "code",
   "execution_count": 18,
   "metadata": {},
   "outputs": [],
   "source": [
    "w_ls, loss_ls = f.least_squares(y_train_train, tX_train_train)"
   ]
  },
  {
   "cell_type": "code",
   "execution_count": 226,
   "metadata": {},
   "outputs": [
    {
     "name": "stdout",
     "output_type": "stream",
     "text": [
      "Accuracy:  0.9067035487315954\n",
      "F1 score:  0.04651994990159242\n"
     ]
    }
   ],
   "source": [
    "y_pred = tX_train_test.dot(w_ls)\n",
    "y_pred = np.where(y_pred > 0, 1, -1)\n",
    "\n",
    "_,_,_,_,f1 = f.confusion_matrix(y_train_test, y_pred)\n",
    "\n",
    "print(\"Accuracy: \", np.sum(y_pred == y_train_test)/len(y_train_test))\n",
    "\n",
    "print(\"F1 score: \", f1)"
   ]
  },
  {
   "cell_type": "code",
   "execution_count": 19,
   "metadata": {},
   "outputs": [
    {
     "name": "stdout",
     "output_type": "stream",
     "text": [
      "weights = \n",
      " [-4.23458311e-01  6.69229048e-02  1.84255656e-03 -2.88677208e-04\n",
      " -1.72692968e-02 -1.45978253e-02 -7.62584533e-02 -3.73059100e-01\n",
      " -4.33297730e-02 -1.06050366e-01  1.03039949e-03 -6.91952059e-03\n",
      " -9.97705263e-02 -4.55439527e-02 -6.73076101e-02  2.69260672e-02\n",
      "  2.23087967e-02 -2.36533255e-01  3.86932707e-02 -6.06623971e-03\n",
      " -8.09010894e-03 -9.17165058e-03] \n",
      " Loss =  0.14512298742909366 \n",
      "*****************************************************************************  \n",
      " Train sample : \n",
      " Heart attack rate =  0.09400982168649387 \n",
      " \n",
      " Test sample : \n",
      " Heart attack rate =  0.0014993737371890399\n"
     ]
    }
   ],
   "source": [
    "\n",
    "y_test_ls = tX_test.dot(w_ls)\n",
    "y_test_ls = np.where(y_test_ls > 0, 1, -1)\n",
    "\n",
    "print('weights = \\n', w_ls,'\\n Loss = ', loss_ls,'\\n*****************************************************************************',\n",
    "      ' \\n Train sample : \\n', 'Heart attack rate = ', np.count_nonzero(y_train_processed == 1)/len(y_train_processed), '\\n \\n Test sample : \\n', 'Heart attack rate = ', np.count_nonzero(y_test_ls == 1)/len(y_test_ls))"
   ]
  },
  {
   "cell_type": "markdown",
   "metadata": {},
   "source": [
    "4. Ridge regression"
   ]
  },
  {
   "cell_type": "code",
   "execution_count": 31,
   "metadata": {},
   "outputs": [],
   "source": [
    "w_ridge, loss_ridge = f.ridge_regression(y_train_processed, tX_train, 0.1)"
   ]
  },
  {
   "cell_type": "code",
   "execution_count": 32,
   "metadata": {},
   "outputs": [
    {
     "name": "stdout",
     "output_type": "stream",
     "text": [
      "weights = \n",
      " [-0.05446848  0.01909874  0.00402915 -0.00136054 -0.01866968 -0.03347632\n",
      " -0.07015045 -0.10700854 -0.06969889 -0.07622882 -0.04981145 -0.02171525\n",
      " -0.07341898 -0.04008595 -0.06586933 -0.03631186  0.01438435 -0.01918326\n",
      " -0.03391057 -0.01702109 -0.01232494 -0.01216396] \n",
      " Loss =  0.149955122105239 \n",
      "*****************************************************************************  \n",
      " Train sample : \n",
      " Heart attack rate =  0.09400982168649387 \n",
      " \n",
      " Test sample : \n",
      " Heart attack rate =  1.8285045575476097e-05\n"
     ]
    }
   ],
   "source": [
    "y_test_ridge = tX_test.dot(w_ridge)\n",
    "y_test_ridge = np.where(y_test_ridge > 0, 1, -1)\n",
    "\n",
    "print('weights = \\n', w_ridge,'\\n Loss = ', loss_ridge,'\\n*****************************************************************************',\n",
    "      ' \\n Train sample : \\n', 'Heart attack rate = ', np.count_nonzero(y_train_processed == 1)/len(y_train_processed), '\\n \\n Test sample : \\n', 'Heart attack rate = ', np.count_nonzero(y_test_ridge == 1)/len(y_test_ridge))"
   ]
  },
  {
   "cell_type": "markdown",
   "metadata": {},
   "source": [
    "5. Logistic regression"
   ]
  },
  {
   "cell_type": "code",
   "execution_count": 228,
   "metadata": {},
   "outputs": [],
   "source": [
    "y_train_processed_logreg = np.where(y_train_processed == 1, 1, 0)\n",
    "y_train_train_lg = np.where(y_train_train == 1, 1, 0)"
   ]
  },
  {
   "cell_type": "code",
   "execution_count": 240,
   "metadata": {},
   "outputs": [
    {
     "name": "stdout",
     "output_type": "stream",
     "text": [
      "Gradient Descent(0/499): loss=21.96877831777393, w0=0.9093797833110306, w1=0.7806904468969754\n",
      "Gradient Descent(1/499): loss=8.516230403823496, w0=0.8187595680658941, w1=0.5613808965387262\n",
      "Gradient Descent(2/499): loss=1.1112130549467802, w0=0.7286759324390027, w1=0.34323625815741576\n",
      "Gradient Descent(3/499): loss=1.0287880971182712, w0=0.724688268692458, w1=0.3382666493352598\n",
      "Gradient Descent(4/499): loss=0.9734401744169507, w0=0.7227414855200985, w1=0.33966505190774937\n",
      "Gradient Descent(5/499): loss=0.9284300324438038, w0=0.7206397572223124, w1=0.3403953756696024\n",
      "Gradient Descent(6/499): loss=0.8917895612248119, w0=0.7182297083472068, w1=0.3399488031710274\n",
      "Gradient Descent(7/499): loss=0.8613608549225421, w0=0.7155614087749902, w1=0.3384931066951417\n",
      "Gradient Descent(8/499): loss=0.8353535631998257, w0=0.7127087064730241, w1=0.3362884006516644\n",
      "Gradient Descent(9/499): loss=0.8125198922615304, w0=0.7097237609525731, w1=0.3335244674526573\n",
      "Gradient Descent(10/499): loss=0.7920565838584024, w0=0.7066389158242865, w1=0.330320926764468\n",
      "Gradient Descent(11/499): loss=0.7734589717913788, w0=0.7034749500677785, w1=0.3267541715927982\n",
      "Gradient Descent(12/499): loss=0.7564054660643604, w0=0.7002464508116855, w1=0.32287640640528353\n",
      "Gradient Descent(13/499): loss=0.7406816072656572, w0=0.6969647464209708, w1=0.3187266603085833\n",
      "Gradient Descent(14/499): loss=0.7261341455818344, w0=0.6936394526783748, w1=0.31433691035134825\n",
      "Gradient Descent(15/499): loss=0.7126445692563522, w0=0.690279252107491, w1=0.309735368047041\n",
      "Gradient Descent(16/499): loss=0.7001144012271915, w0=0.6868922446108402, w1=0.3049481206460995\n",
      "Gradient Descent(17/499): loss=0.6884573527581757, w0=0.6834860620535023, w1=0.29999983093475163\n",
      "Gradient Descent(18/499): loss=0.6775953465546354, w0=0.6800678625349548, w1=0.29491392454401555\n",
      "Gradient Descent(19/499): loss=0.6674566355855719, w0=0.6766442754475103, w1=0.2897125298015683\n",
      "Gradient Descent(20/499): loss=0.657974986847129, w0=0.6732213395449389, w1=0.28441633009199185\n",
      "Gradient Descent(21/499): loss=0.6490893496779658, w0=0.6698044565417143, w1=0.2790444187073651\n",
      "Gradient Descent(22/499): loss=0.6407436983989743, w0=0.666398369520176, w1=0.27361419995615105\n",
      "Gradient Descent(23/499): loss=0.6328868976044706, w0=0.6630071671055875, w1=0.26814135119031973\n",
      "Gradient Descent(24/499): loss=0.6254725278339585, w0=0.6596343097521051, w1=0.26263984356829073\n",
      "Gradient Descent(25/499): loss=0.6184586565170422, w0=0.6562826724836424, w1=0.25712201098472587\n",
      "Gradient Descent(26/499): loss=0.6118075612792112, w0=0.6529545981304085, w1=0.25159865368699363\n",
      "Gradient Descent(27/499): loss=0.6054854209022923, w0=0.6496519557636744, w1=0.2460791634211426\n",
      "Gradient Descent(28/499): loss=0.5994619902194079, w0=0.646376200126475, w1=0.2405716589149927\n",
      "Gradient Descent(29/499): loss=0.593710272964079, w0=0.6431284290380951, w1=0.23508312306301749\n",
      "Gradient Descent(30/499): loss=0.58820620326767, w0=0.6399094368170826, w1=0.22961953570364832\n",
      "Gradient Descent(31/499): loss=0.5829283431971009, w0=0.6367197626325521, w1=0.22418599805921105\n",
      "Gradient Descent(32/499): loss=0.5778576009086082, w0=0.6335597333384781, w1=0.2187868466286378\n",
      "Gradient Descent(33/499): loss=0.5729769717940618, w0=0.6304295007910451, w1=0.21342575558752855\n",
      "Gradient Descent(34/499): loss=0.5682713033858767, w0=0.6273290739319315, w1=0.20810582762065535\n",
      "Gradient Descent(35/499): loss=0.5637270836733128, w0=0.6242583460805896, w1=0.20282967366974847\n",
      "Gradient Descent(36/499): loss=0.5593322517607912, w0=0.6212171179520438, w1=0.19759948240404235\n",
      "Gradient Descent(37/499): loss=0.5550760293693122, w0=0.618205116932526, w1=0.1924170803810444\n",
      "Gradient Descent(38/499): loss=0.5509487714627369, w0=0.6152220131253485, w1=0.18728398391454293\n",
      "Gradient Descent(39/499): loss=0.5469418342066565, w0=0.6122674326394313, w1=0.18220144364654053\n",
      "Gradient Descent(40/499): loss=0.5430474584897158, w0=0.6093409685434673, w1=0.17717048275851602\n",
      "Gradient Descent(41/499): loss=0.5392586673196359, w0=0.6064421898566548, w1=0.17219192967497346\n",
      "Gradient Descent(42/499): loss=0.5355691755232536, w0=0.6035706488963815, w1=0.16726644602161966\n",
      "Gradient Descent(43/499): loss=0.5319733103139898, w0=0.6007258872564886, w1=0.16239455050982043\n",
      "Gradient Descent(44/499): loss=0.5284659414294407, w0=0.5979074406478448, w1=0.15757663933296565\n",
      "Gradient Descent(45/499): loss=0.5250424196786782, w0=0.5951148427962335, w1=0.1528130035815137\n",
      "Gradient Descent(46/499): loss=0.5216985228686839, w0=0.592347628560863, w1=0.14810384411283622\n",
      "Gradient Descent(47/499): loss=0.5184304081995922, w0=0.5896053364097725, w1=0.1434492842496998\n",
      "Gradient Descent(48/499): loss=0.5152345703278802, w0=0.5868875103655333, w1=0.13884938062694122\n",
      "Gradient Descent(49/499): loss=0.5121078043950527, w0=0.58419370151542, w1=0.1343041324589788\n",
      "Gradient Descent(50/499): loss=0.5090471734070261, w0=0.5815234691641389, w1=0.12981348946049867\n",
      "Gradient Descent(51/499): loss=0.5060499794269357, w0=0.5788763816937867, w1=0.12537735861818117\n",
      "Gradient Descent(52/499): loss=0.503113738112301, w0=0.5762520171845595, w1=0.12099560998193162\n",
      "Gradient Descent(53/499): loss=0.5002361561872498, w0=0.5736499638404667, w1=0.11666808161906221\n",
      "Gradient Descent(54/499): loss=0.49741511149272316, w0=0.5710698202566297, w1=0.112394583853608\n",
      "Gradient Descent(55/499): loss=0.4946486353031045, w0=0.5685111955583833, w1=0.10817490289490356\n",
      "Gradient Descent(56/499): loss=0.4919348966373449, w0=0.5659737094371318, w1=0.10400880394421623\n",
      "Gradient Descent(57/499): loss=0.4892721883271088, w0=0.5634569921035538, w1=0.09989603385521564\n",
      "Gradient Descent(58/499): loss=0.4866589146344093, w0=0.5609606841751439, w1=0.09583632341300388\n",
      "Gradient Descent(59/499): loss=0.4840935802372146, w0=0.5584844365120945, w1=0.09182938928703502\n",
      "Gradient Descent(60/499): loss=0.4815747804241026, w0=0.5560279100130522, w1=0.08787493570526086\n",
      "Gradient Descent(61/499): loss=0.4791011923586786, w0=0.5535907753802379, w1=0.08397265589003666\n",
      "Gradient Descent(62/499): loss=0.47667156729154764, w0=0.5511727128617293, w1=0.08012223329052319\n",
      "Gradient Descent(63/499): loss=0.4742847236124745, w0=0.5487734119773012, w1=0.07632334264137336\n",
      "Gradient Descent(64/499): loss=0.47193954064830135, w0=0.5463925712330617, w1=0.07257565087326767\n",
      "Gradient Descent(65/499): loss=0.46963495312345205, w0=0.5440298978291581, w1=0.06887881789724648\n",
      "Gradient Descent(66/499): loss=0.46736994620968053, w0=0.5416851073640334, w1=0.0652324972816925\n",
      "Gradient Descent(67/499): loss=0.4651435511002982, w0=0.5393579235380523, w1=0.06163633683816103\n",
      "Gradient Descent(68/499): loss=0.46295484105161544, w0=0.5370480778587715, w1=0.05808997912997523\n",
      "Gradient Descent(69/499): loss=0.46080292784089605, w0=0.5347553093496741, w1=0.054593061915542716\n",
      "Gradient Descent(70/499): loss=0.4586869585958791, w0=0.5324793642638156, w1=0.05114521853665968\n",
      "Gradient Descent(71/499): loss=0.45660611295596715, w0=0.5302199958035166, w1=0.04774607826061309\n",
      "Gradient Descent(72/499): loss=0.45455960052962385, w0=0.527976963846982, w1=0.044395266583632735\n",
      "Gradient Descent(73/499): loss=0.4525466586164272, w0=0.5257500346825117, w1=0.04109240550215773\n",
      "Gradient Descent(74/499): loss=0.45056655016566427, w0=0.5235389807507947, w1=0.03783711375744118\n",
      "Gradient Descent(75/499): loss=0.4486185619464015, w0=0.521343580395632, w1=0.034629007058200524\n",
      "Gradient Descent(76/499): loss=0.44670200290664636, w0=0.5191636176233126, w1=0.031467698285315635\n",
      "Gradient Descent(77/499): loss=0.44481620270159705, w0=0.5169988818707721, w1=0.028352797681962347\n",
      "Gradient Descent(78/499): loss=0.4429605103730934, w0=0.5148491677825782, w1=0.02528391303203868\n",
      "Gradient Descent(79/499): loss=0.4411342931642518, w0=0.512714274996724, w1=0.022260649829278605\n",
      "Gradient Descent(80/499): loss=0.4393369354549387, w0=0.510594007939155, w1=0.019282611439048778\n",
      "Gradient Descent(81/499): loss=0.43756783780522734, w0=0.5084881756269112, w1=0.01634939925447707\n",
      "Gradient Descent(82/499): loss=0.43582641609530437, w0=0.506396591479731, w1=0.013460612848261779\n",
      "Gradient Descent(83/499): loss=0.4341121007514807, w0=0.5043190731399364, w1=0.01061585012125081\n",
      "Gradient Descent(84/499): loss=0.43242433604902697, w0=0.5022554423003928, w1=0.007814707448657619\n",
      "Gradient Descent(85/499): loss=0.43076257948349855, w0=0.5002055245403251, w1=0.005056779824588067\n",
      "Gradient Descent(86/499): loss=0.4291263012030711, w0=0.4981691491687536, w1=0.002341661005388157\n",
      "Gradient Descent(87/499): loss=0.4275149834951771, w0=0.49614614907530613, w1=-0.00033105634781728423\n",
      "Gradient Descent(88/499): loss=0.42592812032141836, w0=0.49413636058815563, w1=-0.002961780527144134\n",
      "Gradient Descent(89/499): loss=0.4243652168953506, w0=0.49213962333882827, w1=-0.005550920636375843\n",
      "Gradient Descent(90/499): loss=0.42282578929830017, w0=0.4901557801336249, w1=-0.00809888644973005\n",
      "Gradient Descent(91/499): loss=0.4213093641288658, w0=0.48818467683139843, w1=-0.010606088270966832\n",
      "Gradient Descent(92/499): loss=0.4198154781822262, w0=0.48622616222743115, w1=-0.013072936792897033\n",
      "Gradient Descent(93/499): loss=0.4183436781557694, w0=0.4842800879431573, w1=-0.015499842957393926\n",
      "Gradient Descent(94/499): loss=0.41689352037794264, w0=0.48234630832148156, w1=-0.01788721781604747\n",
      "Gradient Descent(95/499): loss=0.41546457055754493, w0=0.48042468032744606, w1=-0.020235472391627637\n",
      "Gradient Descent(96/499): loss=0.41405640355099305, w0=0.47851506345400574, w1=-0.022545017540542923\n",
      "Gradient Descent(97/499): loss=0.4126686031453587, w0=0.4766173196326756, w1=-0.02481626381649366\n",
      "Gradient Descent(98/499): loss=0.41130076185522263, w0=0.474731313148821, w1=-0.027049621335528365\n",
      "Gradient Descent(99/499): loss=0.40995248073161134, w0=0.47285691056136686, w1=-0.029245499642713967\n",
      "Gradient Descent(100/499): loss=0.4086233691814833, w0=0.47099398062671055, w1=-0.031404307580631216\n",
      "Gradient Descent(101/499): loss=0.40731304479640745, w0=0.46914239422662796, w1=-0.0335264531599023\n",
      "Gradient Descent(102/499): loss=0.40602113318924277, w0=0.4673020242999706, w1=-0.03561234343195159\n",
      "Gradient Descent(103/499): loss=0.40474726783777054, w0=0.465472745777959, w1=-0.03766238436419142\n",
      "Gradient Descent(104/499): loss=0.40349108993436145, w0=0.4636544355228838, w1=-0.03967698071781503\n",
      "Gradient Descent(105/499): loss=0.40225224824087646, w0=0.4618469722700341, w1=-0.041656535928366385\n",
      "Gradient Descent(106/499): loss=0.4010303989481081, w0=0.46005023657267957, w1=-0.043601451989244096\n",
      "Gradient Descent(107/499): loss=0.3998252055391568, w0=0.45826411074994045, w1=-0.045512129338283296\n",
      "Gradient Descent(108/499): loss=0.39863633865622755, w0=0.4564884788373851, w1=-0.047388966747544725\n",
      "Gradient Descent(109/499): loss=0.3974634759703974, w0=0.4547232265402042, w1=-0.04923236121642672\n",
      "Gradient Descent(110/499): loss=0.3963063020539816, w0=0.4529682411888153, w1=-0.05104270786820077\n",
      "Gradient Descent(111/499): loss=0.3951645082551743, w0=0.4512234116967593, w1=-0.05282039985005765\n",
      "Gradient Descent(112/499): loss=0.39403779257469707, w0=0.4494886285207569, w1=-0.054565828236736835\n",
      "Gradient Descent(113/499): loss=0.3929258595442334, w0=0.4477637836227986, w1=-0.05627938193779814\n",
      "Gradient Descent(114/499): loss=0.3918284201064655, w0=0.44604877043414964, w1=-0.05796144760858185\n",
      "Gradient Descent(115/499): loss=0.3907451914965671, w0=0.444343483821155, w1=-0.05961240956489014\n",
      "Gradient Descent(116/499): loss=0.3896758971250329, w0=0.4426478200527376, w1=-0.06123264970141137\n",
      "Gradient Descent(117/499): loss=0.3886202664617563, w0=0.440961676769487, w1=-0.06282254741389656\n",
      "Gradient Descent(118/499): loss=0.38757803492128456, w0=0.4392849529542419, w1=-0.0643824795250872\n",
      "Gradient Descent(119/499): loss=0.38654894374920573, w0=0.43761754890407456, w1=-0.06591282021438277\n",
      "Gradient Descent(120/499): loss=0.38553273990963066, w0=0.4359593662035906, w1=-0.06741394095122753\n",
      "Gradient Descent(121/499): loss=0.38452917597375724, w0=0.4343103076994624, w1=-0.0688862104321868\n",
      "Gradient Descent(122/499): loss=0.383538010009505, w0=0.4326702774761185, w1=-0.0703299945216753\n",
      "Gradient Descent(123/499): loss=0.38255900547222604, w0=0.4310391808325164, w1=-0.07174565619629225\n",
      "Gradient Descent(124/499): loss=0.3815919310965025, w0=0.42941692425992944, w1=-0.07313355549271193\n",
      "Gradient Descent(125/499): loss=0.38063656078904534, w0=0.4278034154206841, w1=-0.07449404945907111\n",
      "Gradient Descent(126/499): loss=0.3796926735227194, w0=0.4261985631277857, w1=-0.07582749210979083\n",
      "Gradient Descent(127/499): loss=0.37876005323171663, w0=0.42460227732537587, w1=-0.07713423438376339\n",
      "Gradient Descent(128/499): loss=0.37783848870790754, w0=0.42301446906996787, w1=-0.0784146241058329\n",
      "Gradient Descent(129/499): loss=0.3769277734983986, w0=0.4214350505124093, w1=-0.07966900595149205\n",
      "Gradient Descent(130/499): loss=0.3760277058043277, w0=0.41986393488052476, w1=-0.08089772141471668\n",
      "Gradient Descent(131/499): loss=0.3751380883809251, w0=0.4183010364623941, w1=-0.08210110877885463\n",
      "Gradient Descent(132/499): loss=0.37425872843887303, w0=0.4167462705902247, w1=-0.08327950309048532\n",
      "Gradient Descent(133/499): loss=0.3733894375469898, w0=0.415199553624779, w1=-0.08443323613616266\n",
      "Gradient Descent(134/499): loss=0.3725300315362702, w0=0.4136608029403206, w1=-0.0855626364219542\n",
      "Gradient Descent(135/499): loss=0.3716803304053035, w0=0.4121299369100451, w1=-0.08666802915568662\n",
      "Gradient Descent(136/499): loss=0.37084015822709904, w0=0.41060687489196424, w1=-0.08774973623180851\n",
      "Gradient Descent(137/499): loss=0.3700093430573363, w0=0.4090915372152131, w1=-0.08880807621877998\n",
      "Gradient Descent(138/499): loss=0.3691877168440645, w0=0.40758384516675333, w1=-0.0898433643488988\n",
      "Gradient Descent(139/499): loss=0.3683751153388665, w0=0.4060837209784467, w1=-0.09085591251047294\n",
      "Gradient Descent(140/499): loss=0.36757137800950457, w0=0.4045910878144741, w1=-0.09184602924225013\n",
      "Gradient Descent(141/499): loss=0.36677634795405956, w0=0.40310586975907964, w1=-0.09281401973001478\n",
      "Gradient Descent(142/499): loss=0.3659898718165771, w0=0.4016279918046169, w1=-0.09376018580526475\n",
      "Gradient Descent(143/499): loss=0.36521179970422635, w0=0.40015737983988003, w1=-0.09468482594588021\n",
      "Gradient Descent(144/499): loss=0.36444198510598014, w0=0.39869396063870105, w1=-0.09558823527869886\n",
      "Gradient Descent(145/499): loss=0.36368028481281844, w0=0.3972376618487965, w1=-0.09647070558391305\n",
      "Gradient Descent(146/499): loss=0.3629265588394591, w0=0.39578841198084935, w1=-0.09733252530120513\n",
      "Gradient Descent(147/499): loss=0.36218067034761325, w0=0.39434614039781074, w1=-0.09817397953754003\n",
      "Gradient Descent(148/499): loss=0.3614424855707651, w0=0.3929107773044093, w1=-0.0989953500765349\n",
      "Gradient Descent(149/499): loss=0.36071187374047053, w0=0.39148225373685597, w1=-0.09979691538932751\n",
      "Gradient Descent(150/499): loss=0.359988707014169, w0=0.39006050155273253, w1=-0.10057895064686782\n",
      "Gradient Descent(151/499): loss=0.35927286040450074, w0=0.3886454534210544, w1=-0.10134172773355755\n",
      "Gradient Descent(152/499): loss=0.3585642117101192, w0=0.3872370428124977, w1=-0.10208551526216604\n",
      "Gradient Descent(153/499): loss=0.3578626414479889, w0=0.38583520398978244, w1=-0.1028105785899516\n",
      "Gradient Descent(154/499): loss=0.3571680327871557, w0=0.3844398719982028, w1=-0.10351717983592032\n",
      "Gradient Descent(155/499): loss=0.3564802714839745, w0=0.3830509826562986, w1=-0.10420557789915555\n",
      "Gradient Descent(156/499): loss=0.3557992458187817, w0=0.3816684725466601, w1=-0.10487602847815461\n",
      "Gradient Descent(157/499): loss=0.3551248465339945, w0=0.3802922790068602, w1=-0.10552878409110941\n",
      "Gradient Descent(158/499): loss=0.35445696677362065, w0=0.3789223401205088, w1=-0.10616409409707214\n",
      "Gradient Descent(159/499): loss=0.3537955020241601, w0=0.37755859470842407, w1=-0.10678220471794671\n",
      "Gradient Descent(160/499): loss=0.3531403500568809, w0=0.37620098231991506, w1=-0.107383359061251\n",
      "Gradient Descent(161/499): loss=0.35249141087144753, w0=0.37484944322417274, w1=-0.10796779714359511\n",
      "Gradient Descent(162/499): loss=0.3518485866408841, w0=0.3735039184017644, w1=-0.10853575591482414\n",
      "Gradient Descent(163/499): loss=0.35121178165784833, w0=0.37216434953622834, w1=-0.10908746928277495\n",
      "Gradient Descent(164/499): loss=0.3505809022821988, w0=0.3708306790057655, w1=-0.10962316813859946\n",
      "Gradient Descent(165/499): loss=0.3499558568898297, w0=0.3695028498750251, w1=-0.11014308038260767\n",
      "Gradient Descent(166/499): loss=0.3493365558227539, w0=0.36818080588698154, w1=-0.11064743095058653\n",
      "Gradient Descent(167/499): loss=0.34872291134041006, w0=0.36686449145490024, w1=-0.1111364418405519\n",
      "Gradient Descent(168/499): loss=0.3481148375721717, w0=0.36555385165438997, w1=-0.11161033213989313\n",
      "Gradient Descent(169/499): loss=0.34751225047103623, w0=0.3642488322155399, w1=-0.11206931805287124\n",
      "Gradient Descent(170/499): loss=0.3469150677684689, w0=0.36294937951513934, w1=-0.11251361292843338\n",
      "Gradient Descent(171/499): loss=0.3463232089303805, w0=0.36165544056897914, w1=-0.11294342728830825\n",
      "Gradient Descent(172/499): loss=0.34573659511421445, w0=0.36036696302423193, w1=-0.11335896885534832\n",
      "Gradient Descent(173/499): loss=0.34515514912712064, w0=0.3590838951519116, w1=-0.11376044258208665\n",
      "Gradient Descent(174/499): loss=0.34457879538519365, w0=0.3578061858394092, w1=-0.11414805067947738\n",
      "Gradient Descent(175/499): loss=0.34400745987375014, w0=0.3565337845831055, w1=-0.11452199264579055\n",
      "Gradient Descent(176/499): loss=0.343441070108626, w0=0.35526664148105774, w1=-0.11488246529563342\n",
      "Gradient Descent(177/499): loss=0.3428795550984669, w0=0.3540047072257616, w1=-0.11522966278907168\n",
      "Gradient Descent(178/499): loss=0.3423228453079925, w0=0.35274793309698554, w1=-0.11556377666082535\n",
      "Gradient Descent(179/499): loss=0.3417708726222108, w0=0.3514962709546781, w1=-0.11588499584951563\n",
      "Gradient Descent(180/499): loss=0.34122357031156064, w0=0.3502496732319473, w1=-0.11619350672693989\n",
      "Gradient Descent(181/499): loss=0.3406808729979603, w0=0.3490080929281107, w1=-0.11648949312735354\n",
      "Gradient Descent(182/499): loss=0.34014271662174184, w0=0.34777148360181687, w1=-0.11677313637673827\n",
      "Gradient Descent(183/499): loss=0.33960903840944806, w0=0.3465397993642364, w1=-0.11704461532203797\n",
      "Gradient Descent(184/499): loss=0.3390797768424725, w0=0.34531299487232314, w1=-0.11730410636034366\n",
      "Gradient Descent(185/499): loss=0.33855487162652187, w0=0.34409102532214425, w1=-0.11755178346801111\n",
      "Gradient Descent(186/499): loss=0.3380342636618794, w0=0.34287384644227936, w1=-0.1177878182296943\n",
      "Gradient Descent(187/499): loss=0.3375178950144505, w0=0.341661414487288, w1=-0.11801237986728058\n",
      "Gradient Descent(188/499): loss=0.33700570888756914, w0=0.34045368623124506, w1=-0.11822563526871245\n",
      "Gradient Descent(189/499): loss=0.3364976495945497, w0=0.33925061896134406, w1=-0.11842774901668347\n",
      "Gradient Descent(190/499): loss=0.33599366253195917, w0=0.3380521704715676, w1=-0.11861888341719518\n",
      "Gradient Descent(191/499): loss=0.335493694153597, w0=0.336858299056425, w1=-0.1187991985279641\n",
      "Gradient Descent(192/499): loss=0.33499769194516094, w0=0.33566896350475633, w1=-0.11896885218666724\n",
      "Gradient Descent(193/499): loss=0.3345056043995825, w0=0.33448412309360304, w1=-0.11912800003901658\n",
      "Gradient Descent(194/499): loss=0.3340173809930135, w0=0.3333037375821445, w1=-0.11927679556665276\n",
      "Gradient Descent(195/499): loss=0.3335329721614475, w0=0.33212776720570025, w1=-0.11941539011484935\n",
      "Gradient Descent(196/499): loss=0.3330523292779588, w0=0.3309561726697976, w1=-0.11954393292001966\n",
      "Gradient Descent(197/499): loss=0.33257540463054375, w0=0.3297889151443044, w1=-0.1196625711370184\n",
      "Gradient Descent(198/499): loss=0.3321021514005456, w0=0.32862595625762653, w1=-0.11977144986623163\n",
      "Gradient Descent(199/499): loss=0.3316325236416511, w0=0.32746725809096955, w1=-0.11987071218044819\n",
      "Gradient Descent(200/499): loss=0.33116647625944, w0=0.326312783172665, w1=-0.11996049915150722\n",
      "Gradient Descent(201/499): loss=0.33070396499147603, w0=0.3251624944725597, w1=-0.1200409498767163\n",
      "Gradient Descent(202/499): loss=0.3302449463879196, w0=0.3240163553964691, w1=-0.12011220150503514\n",
      "Gradient Descent(203/499): loss=0.32978937779265466, w0=0.32287432978069336, w1=-0.12017438926302089\n",
      "Gradient Descent(204/499): loss=0.3293372173249106, w0=0.32173638188659615, w1=-0.12022764648053076\n",
      "Gradient Descent(205/499): loss=0.3288884238613678, w0=0.3206024763952458, w1=-0.1202721046161786\n",
      "Gradient Descent(206/499): loss=0.32844295701873294, w0=0.31947257840211846, w1=-0.12030789328254209\n",
      "Gradient Descent(207/499): loss=0.32800077713677206, w0=0.31834665341186275, w1=-0.12033514027111814\n",
      "Gradient Descent(208/499): loss=0.3275618452617886, w0=0.3172246673331256, w1=-0.12035397157702356\n",
      "Gradient Descent(209/499): loss=0.3271261231305326, w0=0.316106586473439, w1=-0.12036451142343943\n",
      "Gradient Descent(210/499): loss=0.32669357315453196, w0=0.3149923775341668, w1=-0.12036688228579685\n",
      "Gradient Descent(211/499): loss=0.326264158404832, w0=0.31388200760551216, w1=-0.1203612049157032\n",
      "Gradient Descent(212/499): loss=0.32583784259713244, w0=0.3127754441615835, w1=-0.12034759836460689\n",
      "Gradient Descent(213/499): loss=0.3254145900773115, w0=0.3116726550555206, w1=-0.12032618000720066\n",
      "Gradient Descent(214/499): loss=0.32499436580732555, w0=0.31057360851467886, w1=-0.12029706556456174\n",
      "Gradient Descent(215/499): loss=0.32457713535147525, w0=0.30947827313587173, w1=-0.12026036912702912\n",
      "Gradient Descent(216/499): loss=0.324162864863026, w0=0.30838661788067123, w1=-0.12021620317681717\n",
      "Gradient Descent(217/499): loss=0.32375152107117433, w0=0.30729861207076553, w1=-0.12016467861036627\n",
      "Gradient Descent(218/499): loss=0.32334307126835093, w0=0.3062142253833736, w1=-0.12010590476042954\n",
      "Gradient Descent(219/499): loss=0.3229374832978487, w0=0.30513342784671627, w1=-0.12003998941789736\n",
      "Gradient Descent(220/499): loss=0.3225347255417711, w0=0.3040561898355429, w1=-0.11996703885335866\n",
      "Gradient Descent(221/499): loss=0.3221347669092857, w0=0.3029824820667138, w1=-0.1198871578384014\n",
      "Gradient Descent(222/499): loss=0.32173757682518095, w0=0.3019122755948377, w1=-0.11980044966665108\n",
      "Gradient Descent(223/499): loss=0.3213431252187131, w0=0.30084554180796313, w1=-0.11970701617455053\n",
      "Gradient Descent(224/499): loss=0.3209513825127376, w0=0.29978225242332457, w1=-0.11960695776187939\n",
      "Gradient Descent(225/499): loss=0.320562319613116, w0=0.2987223794831413, w1=-0.11950037341201764\n",
      "Gradient Descent(226/499): loss=0.32017590789839023, w0=0.29766589535046983, w1=-0.11938736071195105\n",
      "Gradient Descent(227/499): loss=0.3197921192097198, w0=0.2966127727051084, w1=-0.11926801587202358\n",
      "Gradient Descent(228/499): loss=0.3194109258410694, w0=0.2955629845395536, w1=-0.11914243374543475\n",
      "Gradient Descent(229/499): loss=0.31903230052964643, w0=0.29451650415500846, w1=-0.11901070784748688\n",
      "Gradient Descent(230/499): loss=0.31865621644657466, w0=0.29347330515744147, w1=-0.11887293037458105\n",
      "Gradient Descent(231/499): loss=0.31828264718780386, w0=0.29243336145369575, w1=-0.11872919222296605\n",
      "Gradient Descent(232/499): loss=0.31791156676524385, w0=0.29139664724764863, w1=-0.11857958300723989\n",
      "Gradient Descent(233/499): loss=0.31754294959811963, w0=0.29036313703642014, w1=-0.11842419107860817\n",
      "Gradient Descent(234/499): loss=0.31717677050454113, w0=0.2893328056066306, w1=-0.11826310354289875\n",
      "Gradient Descent(235/499): loss=0.31681300469328033, w0=0.28830562803070653, w1=-0.11809640627833744\n",
      "Gradient Descent(236/499): loss=0.3164516277557519, w0=0.2872815796632343, w1=-0.1179241839530841\n",
      "Gradient Descent(237/499): loss=0.3160926156581894, w0=0.2862606361373611, w1=-0.11774652004253408\n",
      "Gradient Descent(238/499): loss=0.3157359447340145, w0=0.2852427733612428, w1=-0.11756349684638417\n",
      "Gradient Descent(239/499): loss=0.31538159167639207, w0=0.284227967514538, w1=-0.11737519550546857\n",
      "Gradient Descent(240/499): loss=0.3150295335309651, w0=0.2832161950449477, w1=-0.11718169601836362\n",
      "Gradient Descent(241/499): loss=0.31467974768876816, w0=0.2822074326648003, w1=-0.11698307725776724\n",
      "Gradient Descent(242/499): loss=0.31433221187931026, w0=0.2812016573476815, w1=-0.11677941698665163\n",
      "Gradient Descent(243/499): loss=0.3139869041638259, w0=0.28019884632510783, w1=-0.11657079187419536\n",
      "Gradient Descent(244/499): loss=0.3136438029286864, w0=0.2791989770832447, w1=-0.11635727751149329\n",
      "Gradient Descent(245/499): loss=0.3133028868789714, w0=0.2782020273596666, w1=-0.11613894842705076\n",
      "Gradient Descent(246/499): loss=0.31296413503219217, w0=0.2772079751401608, w1=-0.11591587810206018\n",
      "Gradient Descent(247/499): loss=0.3126275267121643, w0=0.2762167986555728, w1=-0.11568813898546684\n",
      "Gradient Descent(248/499): loss=0.3122930415430268, w0=0.27522847637869335, w1=-0.11545580250882165\n",
      "Gradient Descent(249/499): loss=0.3119606594434007, w0=0.2742429870211869, w1=-0.11521893910092816\n",
      "Gradient Descent(250/499): loss=0.3116303606206876, w0=0.27326030953056035, w1=-0.11497761820228106\n",
      "Gradient Descent(251/499): loss=0.31130212556549974, w0=0.2722804230871722, w1=-0.11473190827930405\n",
      "Gradient Descent(252/499): loss=0.3109759350462214, w0=0.27130330710128125, w1=-0.11448187683838364\n",
      "Gradient Descent(253/499): loss=0.3106517701036981, w0=0.2703289412101342, w1=-0.11422759043970758\n",
      "Gradient Descent(254/499): loss=0.31032961204604637, w0=0.2693573052750924, w1=-0.11396911471090349\n",
      "Gradient Descent(255/499): loss=0.31000944244358675, w0=0.26838837937879617, w1=-0.11370651436048738\n",
      "Gradient Descent(256/499): loss=0.3096912431238916, w0=0.2674221438223677, w1=-0.11343985319111688\n",
      "Gradient Descent(257/499): loss=0.3093749961669473, w0=0.26645857912264975, w1=-0.11316919411265922\n",
      "Gradient Descent(258/499): loss=0.30906068390042785, w0=0.26549766600948294, w1=-0.1128945991550685\n",
      "Gradient Descent(259/499): loss=0.308748288895075, w0=0.2645393854230173, w1=-0.11261612948108286\n",
      "Gradient Descent(260/499): loss=0.308437793960185, w0=0.2635837185110615, w1=-0.11233384539873496\n",
      "Gradient Descent(261/499): loss=0.30812918213919577, w0=0.2626306466264658, w1=-0.11204780637368783\n",
      "Gradient Descent(262/499): loss=0.307822436705376, w0=0.2616801513245413, w1=-0.11175807104138782\n",
      "Gradient Descent(263/499): loss=0.30751754115760854, w0=0.2607322143605123, w1=-0.11146469721904848\n",
      "Gradient Descent(264/499): loss=0.30721447921627054, w0=0.25978681768700396, w1=-0.11116774191745513\n",
      "Gradient Descent(265/499): loss=0.3069132348192042, w0=0.25884394345156186, w1=-0.1108672613526059\n",
      "Gradient Descent(266/499): loss=0.3066137921177777, w0=0.2579035739942069, w1=-0.11056331095717704\n",
      "Gradient Descent(267/499): loss=0.30631613547303305, w0=0.25696569184501994, w1=-0.1102559453918301\n",
      "Gradient Descent(268/499): loss=0.30602024945191963, w0=0.256030279721762, w1=-0.10994521855634697\n",
      "Gradient Descent(269/499): loss=0.3057261188236103, w0=0.2550973205275229, w1=-0.10963118360061197\n",
      "Gradient Descent(270/499): loss=0.3054337285558971, w0=0.2541667973484042, w1=-0.10931389293542547\n",
      "Gradient Descent(271/499): loss=0.3051430638116677, w0=0.25323869345123057, w1=-0.10899339824316977\n",
      "Gradient Descent(272/499): loss=0.30485410994545753, w0=0.2523129922812942, w1=-0.10866975048830954\n",
      "Gradient Descent(273/499): loss=0.30456685250007537, w0=0.25138967746012647, w1=-0.1083429999277504\n",
      "Gradient Descent(274/499): loss=0.30428127720330445, w0=0.2504687327833026, w1=-0.10801319612103458\n",
      "Gradient Descent(275/499): loss=0.30399736996467175, w0=0.24955014221827218, w1=-0.1076803879404005\n",
      "Gradient Descent(276/499): loss=0.30371511687228925, w0=0.24863388990222204, w1=-0.10734462358068193\n",
      "Gradient Descent(277/499): loss=0.30343450418975937, w0=0.24771996013996403, w1=-0.10700595056907705\n",
      "Gradient Descent(278/499): loss=0.30315551835314986, w0=0.2468083374018551, w1=-0.10666441577475896\n",
      "Gradient Descent(279/499): loss=0.30287814596802964, w0=0.24589900632174033, w1=-0.10632006541836239\n",
      "Gradient Descent(280/499): loss=0.3026023738065694, w0=0.24499195169492868, w1=-0.10597294508131348\n",
      "Gradient Descent(281/499): loss=0.30232818880470164, w0=0.24408715847618995, w1=-0.10562309971504223\n",
      "Gradient Descent(282/499): loss=0.3020555780593415, w0=0.24318461177778453, w1=-0.10527057365003897\n",
      "Gradient Descent(283/499): loss=0.30178452882566464, w0=0.24228429686751288, w1=-0.1049154106048006\n",
      "Gradient Descent(284/499): loss=0.3015150285144422, w0=0.24138619916679802, w1=-0.10455765369462112\n",
      "Gradient Descent(285/499): loss=0.30124706468943085, w0=0.24049030424878576, w1=-0.10419734544027939\n",
      "Gradient Descent(286/499): loss=0.30098062506481704, w0=0.23959659783647863, w1=-0.10383452777657093\n",
      "Gradient Descent(287/499): loss=0.30071569750271276, w0=0.23870506580088552, w1=-0.10346924206074484\n",
      "Gradient Descent(288/499): loss=0.30045227001070424, w0=0.23781569415920562, w1=-0.10310152908078374\n",
      "Gradient Descent(289/499): loss=0.3001903307394491, w0=0.23692846907302598, w1=-0.10273142906359756\n",
      "Gradient Descent(290/499): loss=0.2999298679803237, w0=0.2360433768465544, w1=-0.10235898168305807\n",
      "Gradient Descent(291/499): loss=0.29967087016311705, w0=0.23516040392486334, w1=-0.10198422606795716\n",
      "Gradient Descent(292/499): loss=0.29941332585377184, w0=0.23427953689217046, w1=-0.10160720080980234\n",
      "Gradient Descent(293/499): loss=0.29915722375217124, w0=0.23340076247012748, w1=-0.10122794397054691\n",
      "Gradient Descent(294/499): loss=0.2989025526899691, w0=0.23252406751614751, w1=-0.10084649309015234\n",
      "Gradient Descent(295/499): loss=0.2986493016284642, w0=0.23164943902173712, w1=-0.10046288519409796\n",
      "Gradient Descent(296/499): loss=0.298397459656517, w0=0.23077686411086945, w1=-0.10007715680071595\n",
      "Gradient Descent(297/499): loss=0.29814701598850707, w0=0.2299063300383581, w1=-0.09968934392848784\n",
      "Gradient Descent(298/499): loss=0.29789795996233076, w0=0.22903782418827504, w1=-0.0992994821031574\n",
      "Gradient Descent(299/499): loss=0.2976502810374391, w0=0.22817133407236484, w1=-0.09890760636482164\n",
      "Gradient Descent(300/499): loss=0.2974039687929135, w0=0.22730684732850664, w1=-0.09851375127482642\n",
      "Gradient Descent(301/499): loss=0.2971590129255792, w0=0.22644435171916685, w1=-0.09811795092265961\n",
      "Gradient Descent(302/499): loss=0.29691540324815574, w0=0.22558383512990465, w1=-0.09772023893263371\n",
      "Gradient Descent(303/499): loss=0.29667312968744297, w0=0.22472528556786167, w1=-0.09732064847058917\n",
      "Gradient Descent(304/499): loss=0.29643218228254214, w0=0.22386869116031038, w1=-0.09691921225036772\n",
      "Gradient Descent(305/499): loss=0.29619255118311133, w0=0.22301404015317877, w1=-0.09651596254033412\n",
      "Gradient Descent(306/499): loss=0.29595422664765475, w0=0.22216132090964152, w1=-0.09611093116964325\n",
      "Gradient Descent(307/499): loss=0.29571719904184396, w0=0.22131052190867778, w1=-0.09570414953458893\n",
      "Gradient Descent(308/499): loss=0.29548145883687205, w0=0.2204616317437049, w1=-0.09529564860466701\n",
      "Gradient Descent(309/499): loss=0.2952469966078383, w0=0.21961463912116716, w1=-0.0948854589287606\n",
      "Gradient Descent(310/499): loss=0.29501380303216357, w0=0.2187695328592124, w1=-0.09447361064100031\n",
      "Gradient Descent(311/499): loss=0.2947818688880362, w0=0.21792630188630924, w1=-0.09406013346679597\n",
      "Gradient Descent(312/499): loss=0.2945511850528865, w0=0.217084935239967, w1=-0.0936450567284941\n",
      "Gradient Descent(313/499): loss=0.29432174250188986, w0=0.21624542206537886, w1=-0.09322840935126718\n",
      "Gradient Descent(314/499): loss=0.29409353230649804, w0=0.21540775161418618, w1=-0.0928102198685669\n",
      "Gradient Descent(315/499): loss=0.29386654563299813, w0=0.21457191324314417, w1=-0.09239051642788343\n",
      "Gradient Descent(316/499): loss=0.2936407737410971, w0=0.21373789641293214, w1=-0.09196932679599122\n",
      "Gradient Descent(317/499): loss=0.293416207982534, w0=0.21290569068683818, w1=-0.0915466783645924\n",
      "Gradient Descent(318/499): loss=0.2931928397997167, w0=0.21207528572961742, w1=-0.09112259815534969\n",
      "Gradient Descent(319/499): loss=0.29297066072438405, w0=0.21124667130619132, w1=-0.09069711282543028\n",
      "Gradient Descent(320/499): loss=0.2927496623762923, w0=0.21041983728055697, w1=-0.09027024867231746\n",
      "Gradient Descent(321/499): loss=0.2925298364619263, w0=0.20959477361449574, w1=-0.08984203163927458\n",
      "Gradient Descent(322/499): loss=0.29231117477323276, w0=0.20877147036653768, w1=-0.08941248731992316\n",
      "Gradient Descent(323/499): loss=0.29209366918637764, w0=0.20794991769067303, w1=-0.08898164096365017\n",
      "Gradient Descent(324/499): loss=0.29187731166052566, w0=0.20713010583537728, w1=-0.08854951747993613\n",
      "Gradient Descent(325/499): loss=0.2916620942366418, w0=0.2063120251423176, w1=-0.08811614144373386\n",
      "Gradient Descent(326/499): loss=0.291448009036314, w0=0.20549566604544567, w1=-0.08768153709952393\n",
      "Gradient Descent(327/499): loss=0.29123504826059793, w0=0.20468101906968927, w1=-0.08724572836669961\n",
      "Gradient Descent(328/499): loss=0.2910232041888804, w0=0.20386807483012215, w1=-0.08680873884331952\n",
      "Gradient Descent(329/499): loss=0.2908124691777659, w0=0.20305682403062875, w1=-0.0863705918115417\n",
      "Gradient Descent(330/499): loss=0.2906028356599799, w0=0.20224725746316305, w1=-0.08593131024103379\n",
      "Gradient Descent(331/499): loss=0.29039429614329415, w0=0.20143936600637105, w1=-0.08549091679450968\n",
      "Gradient Descent(332/499): loss=0.2901868432094687, w0=0.20063314062495466, w1=-0.0850494338307452\n",
      "Gradient Descent(333/499): loss=0.28998046951321393, w0=0.19982857236823212, w1=-0.0846068834102848\n",
      "Gradient Descent(334/499): loss=0.289775167781171, w0=0.19902565236962758, w1=-0.08416328729799454\n",
      "Gradient Descent(335/499): loss=0.28957093081090823, w0=0.19822437184514471, w1=-0.0837186669690242\n",
      "Gradient Descent(336/499): loss=0.28936775146993715, w0=0.19742472209300868, w1=-0.08327304361080883\n",
      "Gradient Descent(337/499): loss=0.2891656226947449, w0=0.19662669449202094, w1=-0.08282643812939511\n",
      "Gradient Descent(338/499): loss=0.28896453748984274, w0=0.19583028050138832, w1=-0.08237887115077543\n",
      "Gradient Descent(339/499): loss=0.28876448892683154, w0=0.1950354716589183, w1=-0.08193036302771804\n",
      "Gradient Descent(340/499): loss=0.2885654701434834, w0=0.19424225958108013, w1=-0.08148093384028292\n",
      "Gradient Descent(341/499): loss=0.28836747434283927, w0=0.19345063596098802, w1=-0.08103060340333451\n",
      "Gradient Descent(342/499): loss=0.2881704947923212, w0=0.19266059256875254, w1=-0.08057939126604316\n",
      "Gradient Descent(343/499): loss=0.2879745248228604, w0=0.19187212124918404, w1=-0.08012731672031123\n",
      "Gradient Descent(344/499): loss=0.2877795578280406, w0=0.19108521392251038, w1=-0.07967439879900436\n",
      "Gradient Descent(345/499): loss=0.2875855872632543, w0=0.1902998625817124, w1=-0.07922065628558958\n",
      "Gradient Descent(346/499): loss=0.2873926066448755, w0=0.18951605929370702, w1=-0.07876610771076271\n",
      "Gradient Descent(347/499): loss=0.2872006095494442, w0=0.18873379619620068, w1=-0.07831077136368618\n",
      "Gradient Descent(348/499): loss=0.2870095896128667, w0=0.1879530654994669, w1=-0.07785466528657663\n",
      "Gradient Descent(349/499): loss=0.28681954052962766, w0=0.18717385948256862, w1=-0.07739780728804697\n",
      "Gradient Descent(350/499): loss=0.2866304560520163, w0=0.18639617049589946, w1=-0.07694021493508434\n",
      "Gradient Descent(351/499): loss=0.2864423299893653, w0=0.18561999095658055, w1=-0.07648190556915442\n",
      "Gradient Descent(352/499): loss=0.28625515620730196, w0=0.18484531335198617, w1=-0.07602289629482314\n",
      "Gradient Descent(353/499): loss=0.2860689286270128, w0=0.18407213023406147, w1=-0.07556320399948437\n",
      "Gradient Descent(354/499): loss=0.28588364122451926, w0=0.18330043422412204, w1=-0.07510284533764536\n",
      "Gradient Descent(355/499): loss=0.28569928802996575, w0=0.18253021800575925, w1=-0.07464183675540656\n",
      "Gradient Descent(356/499): loss=0.2855158631269201, w0=0.1817614743312947, w1=-0.07418019446912315\n",
      "Gradient Descent(357/499): loss=0.28533336065168424, w0=0.18099419601283528, w1=-0.07371793449611966\n",
      "Gradient Descent(358/499): loss=0.2851517747926172, w0=0.18022837593088376, w1=-0.07325507262603201\n",
      "Gradient Descent(359/499): loss=0.28497109978946883, w0=0.1794640070229671, w1=-0.07279162445970934\n",
      "Gradient Descent(360/499): loss=0.28479132993272416, w0=0.178701082295064, w1=-0.0723276053709997\n",
      "Gradient Descent(361/499): loss=0.28461245956295905, w0=0.1779395948070464, w1=-0.07186303055641516\n",
      "Gradient Descent(362/499): loss=0.28443448307020586, w0=0.17717953768779657, w1=-0.07139791498440502\n",
      "Gradient Descent(363/499): loss=0.28425739489332874, w0=0.17642090411645686, w1=-0.07093227345918968\n",
      "Gradient Descent(364/499): loss=0.2840811895194108, w0=0.17566368734239213, w1=-0.0704661205536079\n",
      "Gradient Descent(365/499): loss=0.283905861483149, w0=0.17490788066091603, w1=-0.06999947069163047\n",
      "Gradient Descent(366/499): loss=0.2837314053662606, w0=0.17415347743963147, w1=-0.06953233805959048\n",
      "Gradient Descent(367/499): loss=0.2835578157968974, w0=0.1734004710868666, w1=-0.069064736713364\n",
      "Gradient Descent(368/499): loss=0.2833850874490714, w0=0.17264885508642885, w1=-0.06859668046108561\n",
      "Gradient Descent(369/499): loss=0.28321321504208774, w0=0.17189862295640204, w1=-0.06812818300295742\n",
      "Gradient Descent(370/499): loss=0.2830421933399873, w0=0.17114976829502346, w1=-0.06765925777626736\n",
      "Gradient Descent(371/499): loss=0.2828720171509986, w0=0.17040228472671287, w1=-0.06718991813843288\n",
      "Gradient Descent(372/499): loss=0.28270268132699783, w0=0.16965616596268585, w1=-0.06672017716207558\n",
      "Gradient Descent(373/499): loss=0.2825341807629775, w0=0.16891140573003907, w1=-0.06625004787545623\n",
      "Gradient Descent(374/499): loss=0.2823665103965237, w0=0.16816799785192585, w1=-0.06577954299124386\n",
      "Gradient Descent(375/499): loss=0.28219966520730094, w0=0.1674259361541155, w1=-0.06530867522327101\n",
      "Gradient Descent(376/499): loss=0.2820336402165463, w0=0.16668521457118918, w1=-0.06483745692709839\n",
      "Gradient Descent(377/499): loss=0.28186843048656957, w0=0.16594582702309676, w1=-0.06436590051844616\n",
      "Gradient Descent(378/499): loss=0.2817040311202638, w0=0.1652077675560306, w1=-0.06389401799619218\n",
      "Gradient Descent(379/499): loss=0.2815404372606201, w0=0.16447103017894846, w1=-0.0634218214965048\n",
      "Gradient Descent(380/499): loss=0.28137764409025384, w0=0.16373560905075163, w1=-0.06294932265883696\n",
      "Gradient Descent(381/499): loss=0.28121564683093375, w0=0.16300149826329163, w1=-0.06247653336150012\n",
      "Gradient Descent(382/499): loss=0.281054440743124, w0=0.16226869209049222, w1=-0.06200346487759185\n",
      "Gradient Descent(383/499): loss=0.28089402112552586, w0=0.16153718469968786, w1=-0.06153012885360358\n",
      "Gradient Descent(384/499): loss=0.28073438331463524, w0=0.1608069704837653, w1=-0.06105653618376534\n",
      "Gradient Descent(385/499): loss=0.28057552268429714, w0=0.16007804367635176, w1=-0.0605826983147701\n",
      "Gradient Descent(386/499): loss=0.2804174346452783, w0=0.159350398795425, w1=-0.060108625741983314\n",
      "Gradient Descent(387/499): loss=0.2802601146448325, w0=0.15862403012927745, w1=-0.05963432975254492\n",
      "Gradient Descent(388/499): loss=0.2801035581662896, w0=0.15789893233005997, w1=-0.059159820412871954\n",
      "Gradient Descent(389/499): loss=0.27994776072863026, w0=0.15717509972576568, w1=-0.05868510890207823\n",
      "Gradient Descent(390/499): loss=0.27979271788609045, w0=0.1564525271158037, w1=-0.05821020481389954\n",
      "Gradient Descent(391/499): loss=0.2796384252277464, w0=0.15573120884833672, w1=-0.057735119286415094\n",
      "Gradient Descent(392/499): loss=0.2794848783771341, w0=0.15501113988855703, w1=-0.05725986137841508\n",
      "Gradient Descent(393/499): loss=0.2793320729918419, w0=0.15429231457901343, w1=-0.05678444227513216\n",
      "Gradient Descent(394/499): loss=0.279180004763147, w0=0.15357472807661812, w1=-0.056308870412914026\n",
      "Gradient Descent(395/499): loss=0.2790286694156147, w0=0.15285837468395705, w1=-0.05583315714139814\n",
      "Gradient Descent(396/499): loss=0.2788780627067519, w0=0.15214324978571958, w1=-0.05535731015255119\n",
      "Gradient Descent(397/499): loss=0.27872818042660913, w0=0.15142934759843513, w1=-0.05488134111754353\n",
      "Gradient Descent(398/499): loss=0.27857901839745586, w0=0.15071666378447526, w1=-0.05440525681490763\n",
      "Gradient Descent(399/499): loss=0.27843057247338204, w0=0.15000519241209787, w1=-0.0539290694492377\n",
      "Gradient Descent(400/499): loss=0.27828283853999597, w0=0.14929492949024462, w1=-0.05345278465200024\n",
      "Gradient Descent(401/499): loss=0.27813581251402186, w0=0.148585868854533, w1=-0.05297641544838955\n",
      "Gradient Descent(402/499): loss=0.2779894903430254, w0=0.14787800695542977, w1=-0.05249996600049794\n",
      "Gradient Descent(403/499): loss=0.2778438680050012, w0=0.14717133728106183, w1=-0.05202345054491435\n",
      "Gradient Descent(404/499): loss=0.2776989415081314, w0=0.14646585685423005, w1=-0.05154687133007441\n",
      "Gradient Descent(405/499): loss=0.2775547068903565, w0=0.1457615586587278, w1=-0.05107024433754622\n",
      "Gradient Descent(406/499): loss=0.2774111602191733, w0=0.14505844046989255, w1=-0.050593569289780344\n",
      "Gradient Descent(407/499): loss=0.2772682975911809, w0=0.14435649455241364, w1=-0.05011686464392914\n",
      "Gradient Descent(408/499): loss=0.27712611513192825, w0=0.14365571968251625, w1=-0.04964012675225236\n",
      "Gradient Descent(409/499): loss=0.27698460899542154, w0=0.14295610711100046, w1=-0.04916337755029379\n",
      "Gradient Descent(410/499): loss=0.27684377536403665, w0=0.14225765695749404, w1=-0.048686608855484384\n",
      "Gradient Descent(411/499): loss=0.27670361044796987, w0=0.14156035905345132, w1=-0.04820984746113392\n",
      "Gradient Descent(412/499): loss=0.27656411048523505, w0=0.14086421533471447, w1=-0.04773307904175849\n",
      "Gradient Descent(413/499): loss=0.27642527174103493, w0=0.14016921365465781, w1=-0.04725633714944554\n",
      "Gradient Descent(414/499): loss=0.2762870905078688, w0=0.13947535841869801, w1=-0.04677959909315195\n",
      "Gradient Descent(415/499): loss=0.2761495631047923, w0=0.13878263473082544, w1=-0.0463029078083041\n",
      "Gradient Descent(416/499): loss=0.2760126858776734, w0=0.13809105036991667, w1=-0.04582622916278275\n",
      "Gradient Descent(417/499): loss=0.2758764551982963, w0=0.1374005866240865, w1=-0.04534961910485449\n",
      "Gradient Descent(418/499): loss=0.27574086746481696, w0=0.1367112558976511, w1=-0.04487302780059789\n",
      "Gradient Descent(419/499): loss=0.2756059191006505, w0=0.1360230341859036, w1=-0.044396529238212315\n",
      "Gradient Descent(420/499): loss=0.275471606555196, w0=0.13533594025488738, w1=-0.04392005197200149\n",
      "Gradient Descent(421/499): loss=0.27533792630242554, w0=0.13464994275865272, w1=-0.043443695003375034\n",
      "Gradient Descent(422/499): loss=0.27520487484197453, w0=0.13396506923596563, w1=-0.042967357066904445\n",
      "Gradient Descent(423/499): loss=0.2750724486973187, w0=0.13328127815452329, w1=-0.0424911718640917\n",
      "Gradient Descent(424/499): loss=0.27494064441736266, w0=0.13259860917798935, w1=-0.042014996895762324\n",
      "Gradient Descent(425/499): loss=0.27480945857404915, w0=0.1319170066305218, w1=-0.04153901403884584\n",
      "Gradient Descent(426/499): loss=0.274678887764628, w0=0.131236526967426, w1=-0.04106302366773025\n",
      "Gradient Descent(427/499): loss=0.27454892860848334, w0=0.13055709485786204, w1=-0.04058727460581729\n",
      "Gradient Descent(428/499): loss=0.27441957775033615, w0=0.1298787900539268, w1=-0.04011148794402212\n",
      "Gradient Descent(429/499): loss=0.274290831855992, w0=0.12920150988331403, w1=-0.039636005635120514\n",
      "Gradient Descent(430/499): loss=0.27416268761682633, w0=0.12852536647424348, w1=-0.03916043855666031\n",
      "Gradient Descent(431/499): loss=0.27403514174404425, w0=0.1278502190790704, w1=-0.03868525836007448\n",
      "Gradient Descent(432/499): loss=0.2739081909749311, w0=0.12717622489032718, w1=-0.03820992247867639\n",
      "Gradient Descent(433/499): loss=0.2737818320650592, w0=0.12650319007624844, w1=-0.03773508340418161\n",
      "Gradient Descent(434/499): loss=0.2736560617969732, w0=0.1258313346474157, w1=-0.03725998462594784\n",
      "Gradient Descent(435/499): loss=0.2735308769695619, w0=0.12516039067509174, w1=-0.036785531087505804\n",
      "Gradient Descent(436/499): loss=0.2734062744101079, w0=0.12449066586036486, w1=-0.0363106675624827\n",
      "Gradient Descent(437/499): loss=0.2732822509597423, w0=0.12382178872200898, w1=-0.03583665184614147\n",
      "Gradient Descent(438/499): loss=0.27315880349015315, w0=0.12315418953997734, w1=-0.03536201106901893\n",
      "Gradient Descent(439/499): loss=0.27303592888362216, w0=0.12248735193940773, w1=-0.034888496812742975\n",
      "Gradient Descent(440/499): loss=0.2729136240561978, w0=0.12182187777607206, w1=-0.03441405151774837\n",
      "Gradient Descent(441/499): loss=0.2727918859302382, w0=0.1211570476883112, w1=-0.033941118626484815\n",
      "Gradient Descent(442/499): loss=0.27267071146656996, w0=0.12049370400117153, w1=-0.033466820971597505\n",
      "Gradient Descent(443/499): loss=0.272550097626669, w0=0.11983084263520866, w1=-0.032994572570001546\n",
      "Gradient Descent(444/499): loss=0.27243004141733523, w0=0.11916964336888433, w1=-0.032520345891626376\n",
      "Gradient Descent(445/499): loss=0.2723105398385597, w0=0.11850870228236833, w1=-0.03204891817262945\n",
      "Gradient Descent(446/499): loss=0.2721915899456684, w0=0.11784967329566402, w1=-0.03157464528618282\n",
      "Gradient Descent(447/499): loss=0.2720731887774643, w0=0.11719059030333086, w1=-0.031104221479133304\n",
      "Gradient Descent(448/499): loss=0.2719553334428008, w0=0.11653377423554384, w1=-0.03062972806391796\n",
      "Gradient Descent(449/499): loss=0.2718380210216741, w0=0.115876467600185, w1=-0.030160558268969212\n",
      "Gradient Descent(450/499): loss=0.2717212486859965, w0=0.11522193078743816, w1=-0.029685589250199967\n",
      "Gradient Descent(451/499): loss=0.27160501356395017, w0=0.11456629096316598, w1=-0.029218018634432116\n",
      "Gradient Descent(452/499): loss=0.2714893129085867, w0=0.11391413327762516, w1=-0.02874220457929063\n",
      "Gradient Descent(453/499): loss=0.27137414391321124, w0=0.11326001116128434, w1=-0.028276713503269456\n",
      "Gradient Descent(454/499): loss=0.27125950394644904, w0=0.11261038002178166, w1=-0.027799522763351826\n",
      "Gradient Descent(455/499): loss=0.27114539030482565, w0=0.1119575702181052, w1=-0.02733678394639234\n",
      "Gradient Descent(456/499): loss=0.27103180053851816, w0=0.11131068055962165, w1=-0.02685745443584982\n",
      "Gradient Descent(457/499): loss=0.27091873213014245, w0=0.11065889751932703, w1=-0.0263984144788011\n",
      "Gradient Descent(458/499): loss=0.27080618293842557, w0=0.11001506028255989, w1=-0.025915856330881205\n",
      "Gradient Descent(459/499): loss=0.270694150809717, w0=0.10936390424374016, w1=-0.0254618520920451\n",
      "Gradient Descent(460/499): loss=0.27058263415596984, w0=0.10872356705773802, w1=-0.02497450863349464\n",
      "Gradient Descent(461/499): loss=0.2704716315666006, w0=0.10807247538503738, w1=-0.02452743352266188\n",
      "Gradient Descent(462/499): loss=0.2703611424760421, w0=0.10743628071427966, w1=-0.02403308253653088\n",
      "Gradient Descent(463/499): loss=0.27025116702967134, w0=0.10678445830747564, w1=-0.02359562436993623\n",
      "Gradient Descent(464/499): loss=0.27014170657314507, w0=0.10615332663391724, w1=-0.023091093749362645\n",
      "Gradient Descent(465/499): loss=0.2700327645664406, w0=0.10549964630764147, w1=-0.022667075284308124\n",
      "Gradient Descent(466/499): loss=0.2699243459080063, w0=0.10487489522602138, w1=-0.022147835858057806\n",
      "Gradient Descent(467/499): loss=0.26981646123416, w0=0.10421775497013844, w1=-0.02174270278384609\n",
      "Gradient Descent(468/499): loss=0.269709121887484, w0=0.10360126983230449, w1=-0.021202284807333736\n",
      "Gradient Descent(469/499): loss=0.26960235433098667, w0=0.10293838810796094, w1=-0.020823805655240436\n",
      "Gradient Descent(470/499): loss=0.2694961809773124, w0=0.10233286668578469, w1=-0.0202529620603656\n",
      "Gradient Descent(471/499): loss=0.2693906639724834, w0=0.10166098862460142, w1=-0.01991223284250928\n",
      "Gradient Descent(472/499): loss=0.2692858426059819, w0=0.10107029204678523, w1=-0.019297738824675427\n",
      "Gradient Descent(473/499): loss=0.26918186158371854, w0=0.10038476752014139, w1=-0.019010625902357116\n",
      "Gradient Descent(474/499): loss=0.2690787784037718, w0=0.09981442365506345, w1=-0.018333556753128363\n",
      "Gradient Descent(475/499): loss=0.2689769344038692, w0=0.09910860121754747, w1=-0.018122769393130886\n",
      "Gradient Descent(476/499): loss=0.2688763772753113, w0=0.09856652617919007, w1=-0.017356031680415565\n",
      "Gradient Descent(477/499): loss=0.2687779312267776, w0=0.0978308831218797, w1=-0.017254096849061307\n",
      "Gradient Descent(478/499): loss=0.26868148664655406, w0=0.09732841306254833, w1=-0.016358897382094225\n",
      "Gradient Descent(479/499): loss=0.2685890900749362, w0=0.09654930980069053, w1=-0.01641241819745293\n",
      "Gradient Descent(480/499): loss=0.2684999071890384, w0=0.09610266858719015, w1=-0.015333241022634959\n",
      "Gradient Descent(481/499): loss=0.26841916672575344, w0=0.09526057655255128, w1=-0.015608952080866935\n",
      "Gradient Descent(482/499): loss=0.2683433649607041, w0=0.09489293937676743, w1=-0.014266497057097958\n",
      "Gradient Descent(483/499): loss=0.2682862144803999, w0=0.0939599569835808, w1=-0.014859743167580736\n",
      "Gradient Descent(484/499): loss=0.26823525570390383, w0=0.09370428027961003, w1=-0.013141248923535489\n",
      "Gradient Descent(485/499): loss=0.2682272205318047, w0=0.09264076641316167, w1=-0.014187448976579545\n",
      "Gradient Descent(486/499): loss=0.2682211041910087, w0=0.09254345902055747, w1=-0.011934164503986572\n",
      "Gradient Descent(487/499): loss=0.26831665848939634, w0=0.09129382188304308, w1=-0.013623072250919976\n",
      "Gradient Descent(488/499): loss=0.2683851623540726, w0=0.09141889935355396, w1=-0.010616166118348931\n",
      "Gradient Descent(489/499): loss=0.26869827291502113, w0=0.08990738553226593, w1=-0.013205887740067722\n",
      "Gradient Descent(490/499): loss=0.26886776377971666, w0=0.0903394112206065, w1=-0.009156766403250222\n",
      "Gradient Descent(491/499): loss=0.26962343156776264, w0=0.08846909200700781, w1=-0.012976268254869576\n",
      "Gradient Descent(492/499): loss=0.2698517136452328, w0=0.08930995457189184, w1=-0.0075385648880596364\n",
      "Gradient Descent(493/499): loss=0.2714378535549996, w0=0.08697331480424965, w1=-0.012949451494893089\n",
      "Gradient Descent(494/499): loss=0.27143552635745677, w0=0.08832257325088097, w1=-0.005787970769097546\n",
      "Gradient Descent(495/499): loss=0.27434928067666015, w0=0.08543789589107759, w1=-0.01305738101888261\n",
      "Gradient Descent(496/499): loss=0.27335735771001995, w0=0.08734622197610521, w1=-0.004008110623414236\n",
      "Gradient Descent(497/499): loss=0.27789207410898814, w0=0.08392141390566171, w1=-0.013091313674345382\n",
      "Gradient Descent(498/499): loss=0.2749445418798494, w0=0.08633339158340972, w1=-0.002351971806594178\n",
      "Gradient Descent(499/499): loss=0.2808301872774479, w0=0.08250115713524894, w1=-0.012783320815470742\n"
     ]
    }
   ],
   "source": [
    "w_logreg, loss_logreg = f.logistic_regression(y_train_train_lg, tX_train_train,np.ones(22),500, 0.1)"
   ]
  },
  {
   "cell_type": "code",
   "execution_count": 241,
   "metadata": {},
   "outputs": [
    {
     "name": "stdout",
     "output_type": "stream",
     "text": [
      "Accuracy:  0.9054255151525762\n",
      "F1 score:  0.008443465491923641\n"
     ]
    }
   ],
   "source": [
    "y_pred = tX_train_test.dot(w_logreg)\n",
    "y_pred = np.where(y_pred > 0.5, 1, 0)\n",
    "y_pred = np.where(y_pred == 1, 1, -1)\n",
    "\n",
    "_,_,_,_,f1 = f.confusion_matrix(y_train_test, y_pred)\n",
    "\n",
    "print(\"Accuracy: \", np.sum(y_pred == y_train_test)/len(y_train_test))\n",
    "\n",
    "print(\"F1 score: \", f1)"
   ]
  },
  {
   "cell_type": "code",
   "execution_count": 85,
   "metadata": {},
   "outputs": [
    {
     "name": "stdout",
     "output_type": "stream",
     "text": [
      "weights = \n",
      " [-0.14176837  0.15730149  0.03346908  0.00515173 -0.03886945 -0.11844364\n",
      " -0.31634258 -0.27480137 -0.33766603 -0.31785316 -0.29703101 -0.10415193\n",
      " -0.22435663 -0.20535771 -0.30740196 -0.10683725  0.17908248 -0.03747371\n",
      " -0.11498309 -0.04570317 -0.03555813 -0.0252816 ] \n",
      " Loss =  0.26745057030222974 \n",
      "*****************************************************************************  \n",
      " Train sample : \n",
      " Heart attack rate =  0.09400982168649387 \n",
      " \n",
      " Test sample : \n",
      " Heart attack rate =  0.009160807833313524\n"
     ]
    }
   ],
   "source": [
    "y_test_logreg = tX_test.dot(w_logreg)\n",
    "y_test_logreg = np.where(y_test_logreg > 0.5, 1, 0)\n",
    "\n",
    "print('weights = \\n', w_logreg,'\\n Loss = ', loss_logreg,'\\n*****************************************************************************',\n",
    "        ' \\n Train sample : \\n', 'Heart attack rate = ', np.count_nonzero(y_train_processed == 1)/len(y_train_processed), '\\n \\n Test sample : \\n', 'Heart attack rate = ', np.count_nonzero(y_test_logreg == 1)/len(y_test_logreg))"
   ]
  },
  {
   "cell_type": "code",
   "execution_count": 116,
   "metadata": {},
   "outputs": [
    {
     "name": "stdout",
     "output_type": "stream",
     "text": [
      "Gradient Descent(0/99): loss=21.930727286892388, w0=0.9084009821717713, w1=0.7795541111935378\n",
      "Gradient Descent(1/99): loss=8.474978621057401, w0=0.8168935647377576, w1=0.5593286709508312\n",
      "Gradient Descent(2/99): loss=1.112755674914998, w0=0.7260332139209921, w1=0.34053076285489187\n",
      "Gradient Descent(3/99): loss=1.0292131955241746, w0=0.7214682859988492, w1=0.33565670633552386\n",
      "Gradient Descent(4/99): loss=0.9720318875039671, w0=0.7188306896184088, w1=0.3367921321756957\n",
      "Gradient Descent(5/99): loss=0.9256597286828387, w0=0.7160268703935094, w1=0.33721570066806733\n",
      "Gradient Descent(6/99): loss=0.8879895731118403, w0=0.7129063352623713, w1=0.3364261892619551\n",
      "Gradient Descent(7/99): loss=0.8567271875426155, w0=0.7095237161169086, w1=0.33460774515773006\n",
      "Gradient Descent(8/99): loss=0.8299952733430804, w0=0.7059554768504959, w1=0.33203024436617773\n",
      "Gradient Descent(9/99): loss=0.8065019449064174, w0=0.7022547164454287, w1=0.328886788625222\n",
      "Gradient Descent(10/99): loss=0.7854250756153601, w0=0.6984545195013799, w1=0.32529915590221553\n",
      "Gradient Descent(11/99): loss=0.7662531780280749, w0=0.6945765575088936, w1=0.3213461267132395\n",
      "Gradient Descent(12/99): loss=0.7486621943096021, w0=0.6906362970192801, w1=0.31708213233272464\n",
      "Gradient Descent(13/99): loss=0.7324360160557271, w0=0.6866458710186575, w1=0.3125481971647068\n",
      "Gradient Descent(14/99): loss=0.7174193697888482, w0=0.6826156278312485, w1=0.3077781535654329\n",
      "Gradient Descent(15/99): loss=0.7034911697289201, w0=0.6785549115056008, w1=0.3028019671247243\n",
      "Gradient Descent(16/99): loss=0.6905499854349155, w0=0.6744724041093372, w1=0.29764735668336895\n",
      "Gradient Descent(17/99): loss=0.6785064338037103, w0=0.6703762301789961, w1=0.2923404521744635\n",
      "Gradient Descent(18/99): loss=0.6672794072277156, w0=0.6662739449405359, w1=0.28690594653571155\n",
      "Gradient Descent(19/99): loss=0.656794336586015, w0=0.6621724793039961, w1=0.28136701703071276\n",
      "Gradient Descent(20/99): loss=0.6469824595363802, w0=0.6580780833127545, w1=0.275745176311012\n",
      "Gradient Descent(21/99): loss=0.6377805253641032, w0=0.6539962890570731, w1=0.27006013953833846\n",
      "Gradient Descent(22/99): loss=0.6291306401072325, w0=0.6499319006679678, w1=0.26432974674658044\n",
      "Gradient Descent(23/99): loss=0.6209801128479309, w0=0.6458890108970486, w1=0.2585699508905913\n",
      "Gradient Descent(24/99): loss=0.6132812506671735, w0=0.6418710395092722, w1=0.2527948660274444\n",
      "Gradient Descent(25/99): loss=0.6059910939798566, w0=0.6378807870802629, w1=0.24701686264467382\n",
      "Gradient Descent(26/99): loss=0.5990711036833772, w0=0.6339204978182166, w1=0.24124669514043595\n",
      "Gradient Descent(27/99): loss=0.5924868179294175, w0=0.6299919259584237, w1=0.23549364753522323\n",
      "Gradient Descent(28/99): loss=0.5862074960841233, w0=0.6260964015618399, w1=0.22976568601699074\n",
      "Gradient Descent(29/99): loss=0.5802057644092207, w0=0.6222348928438464, w1=0.22406960984290744\n",
      "Gradient Descent(30/99): loss=0.5744572742130569, w0=0.6184080632817727, w1=0.21841119484954272\n",
      "Gradient Descent(31/99): loss=0.5689403796619877, w0=0.6146163226289972, w1=0.21279532608740176\n",
      "Gradient Descent(32/99): loss=0.5636358394950941, w0=0.6108598715972824, w1=0.20722611782377376\n",
      "Gradient Descent(33/99): loss=0.5585265446309128, w0=0.6071387403901745, w1=0.2017070203871449\n",
      "Gradient Descent(34/99): loss=0.5535972720353081, w0=0.6034528215240322, w1=0.19624091414171946\n",
      "Gradient Descent(35/99): loss=0.5488344641242926, w0=0.5998018975044657, w1=0.19083019137763677\n",
      "Gradient Descent(36/99): loss=0.544226032286255, w0=0.5961856639731726, w1=0.18547682716917144\n",
      "Gradient Descent(37/99): loss=0.539761182718192, w0=0.5926037489335313, w1=0.18018244036199332\n",
      "Gradient Descent(38/99): loss=0.5354302625927444, w0=0.5890557286249798, w1=0.1749483458570264\n",
      "Gradient Descent(39/99): loss=0.5312246245388382, w0=0.5855411405615447, w1=0.1697755993030264\n",
      "Gradient Descent(40/99): loss=0.5271365074776418, w0=0.5820594941889901, w1=0.16466503522080148\n",
      "Gradient Descent(41/99): loss=0.5231589319705302, w0=0.5786102795542131, w1=0.15961729947773723\n",
      "Gradient Descent(42/99): loss=0.5192856083809544, w0=0.5751929743233182, w1=0.15463287692383043\n",
      "Gradient Descent(43/99): loss=0.5155108563100401, w0=0.5718070494330736, w1=0.1497121148968792\n",
      "Gradient Descent(44/99): loss=0.5118295339249055, w0=0.5684519736148844, w1=0.14485524320870954\n",
      "Gradient Descent(45/99): loss=0.5082369759519402, w0=0.5651272169910037, w1=0.14006239113812027\n",
      "Gradient Descent(46/99): loss=0.504728939250516, w0=0.5618322539090723, w1=0.1353336018800915\n",
      "Gradient Descent(47/99): loss=0.5013015550136721, w0=0.5585665651526596, w1=0.13066884483443922\n",
      "Gradient Descent(48/99): loss=0.49795128676050604, w0=0.5553296396416394, w1=0.1260680260598026\n",
      "Gradient Descent(49/99): loss=0.49467489339042187, w0=0.5521209757163533, w1=0.12153099716972447\n",
      "Gradient Descent(50/99): loss=0.49146939666261696, w0=0.5489400820829856, w1=0.11705756290567018\n",
      "Gradient Descent(51/99): loss=0.4883320525461689, w0=0.5457864784838901, w1=0.11264748758618928\n",
      "Gradient Descent(52/99): loss=0.4852603259578292, w0=0.542659696145294, w1=0.10830050060119228\n",
      "Gradient Descent(53/99): loss=0.4822518684672006, w0=0.539559278045469, w1=0.1040163010947073\n",
      "Gradient Descent(54/99): loss=0.47930449860342655, w0=0.5364847790387592, w1=0.09979456195780885\n",
      "Gradient Descent(55/99): loss=0.47641618444479344, w0=0.5334357658645202, w1=0.09563493323507734\n",
      "Gradient Descent(56/99): loss=0.47358502821368936, w0=0.5304118170648013, w1=0.09153704503243387\n",
      "Gradient Descent(57/99): loss=0.4708092526349075, w0=0.5274125228303084, w1=0.08750051000106573\n",
      "Gradient Descent(58/99): loss=0.4680871888461218, w0=0.5244374847906501, w1=0.08352492546103579\n",
      "Gradient Descent(59/99): loss=0.4654172656760697, w0=0.5214863157619619, w1=0.07960987521874419\n",
      "Gradient Descent(60/99): loss=0.4627980001291411, w0=0.5185586394626079, w1=0.07575493112441103\n",
      "Gradient Descent(61/99): loss=0.4602279889351609, w0=0.5156540902056937, w1=0.07195965440895649\n",
      "Gradient Descent(62/99): loss=0.4577059010405916, w0=0.5127723125754997, w1=0.068223596833876\n",
      "Gradient Descent(63/99): loss=0.4552304709325287, w0=0.5099129610936134, w1=0.06454630168278969\n",
      "Gradient Descent(64/99): loss=0.45280049270003486, w0=0.5070756998794391, w1=0.06092730461915039\n",
      "Gradient Descent(65/99): loss=0.45041481474882417, w0=0.5042602023088603, w1=0.05736613443101395\n",
      "Gradient Descent(66/99): loss=0.44807233509530064, w0=0.5014661506740841, w1=0.053862313680714306\n",
      "Gradient Descent(67/99): loss=0.4457719971746799, w0=0.4986932358470872, w1=0.05041535927466565\n",
      "Gradient Descent(68/99): loss=0.4435127861055292, w0=0.495941156948574, w1=0.04702478296626818\n",
      "Gradient Descent(69/99): loss=0.4412937253597486, w0=0.4932096210239446, w1=0.04369009180296673\n",
      "Gradient Descent(70/99): loss=0.43911387379283584, w0=0.49049834272742643, w1=0.04041078852685647\n",
      "Gradient Descent(71/99): loss=0.43697232299442473, w0=0.4878070440152418, w1=0.03718637193680666\n",
      "Gradient Descent(72/99): loss=0.4348681949235774, w0=0.48513545384845136, w1=0.034016337218847954\n",
      "Gradient Descent(73/99): loss=0.43280063979729105, w0=0.48248330790592364, w1=0.030900176250515658\n",
      "Gradient Descent(74/99): loss=0.4307688342041646, w0=0.47985034830772155, w1=0.027837377883932066\n",
      "Gradient Descent(75/99): loss=0.4287719794182737, w0=0.4772363233490713, w1=0.024827428211629726\n",
      "Gradient Descent(76/99): loss=0.42680929989102195, w0=0.4746409872449712, w1=0.021869810818444142\n",
      "Gradient Descent(77/99): loss=0.4248800419011652, w0=0.472064099885414, w1=0.01896400702222511\n",
      "Gradient Descent(78/99): loss=0.4229834723453479, w0=0.46950542660112415, w1=0.01610949610561843\n",
      "Gradient Descent(79/99): loss=0.42111887765340306, w0=0.4669647379396576, w1=0.013305755540743158\n",
      "Gradient Descent(80/99): loss=0.41928556281436047, w0=0.4644418094516637, w1=0.010552261208223378\n",
      "Gradient Descent(81/99): loss=0.4174828505006232, w0=0.46193642148707476, w1=0.007848487611722493\n",
      "Gradient Descent(82/99): loss=0.4157100802791233, w0=0.45944835900095915, w1=0.005193908088862458\n",
      "Gradient Descent(83/99): loss=0.4139666078994679, w0=0.45697741136875275, w1=0.0025879950191859354\n",
      "Gradient Descent(84/99): loss=0.41225180465017053, w0=0.4545233722105666, w1=3.0220029630058896e-05\n",
      "Gradient Descent(85/99): loss=0.4105650567750244, w0=0.4520860392242576, w1=-0.002479945802176991\n",
      "Gradient Descent(86/99): loss=0.4089057649425365, w0=0.44966521402694026, w1=-0.004943031746617648\n",
      "Gradient Descent(87/99): loss=0.4072733437621184, w0=0.4472607020046135, w1=-0.007359567222712399\n",
      "Gradient Descent(88/99): loss=0.4056672213414254, w0=0.4448723121695741, w1=-0.00973008160068905\n",
      "Gradient Descent(89/99): loss=0.40408683887985486, w0=0.4424998570252895, w1=-0.012055104006578624\n",
      "Gradient Descent(90/99): loss=0.4025316502937745, w0=0.4401431524384029, w1=-0.01433516312897793\n",
      "Gradient Descent(91/99): loss=0.4010011218695571, w0=0.4378020175175509, w1=-0.016570787028159263\n",
      "Gradient Descent(92/99): loss=0.3994947319409439, w0=0.4354762744986749, w1=-0.018762502947738336\n",
      "Gradient Descent(93/99): loss=0.3980119705876628, w0=0.43316574863651763, w1=-0.020910837129131374\n",
      "Gradient Descent(94/99): loss=0.39655233935259654, w0=0.4308702681020005, w1=-0.023016314629044472\n",
      "Gradient Descent(95/99): loss=0.39511535097510747, w0=0.4285896638851874, w1=-0.025079459140243798\n",
      "Gradient Descent(96/99): loss=0.39370052913843323, w0=0.42632376970354713, w1=-0.027100792815854185\n",
      "Gradient Descent(97/99): loss=0.3923074082293101, w0=0.4240724219152383, w1=-0.02908083609742876\n",
      "Gradient Descent(98/99): loss=0.3909355331082296, w0=0.42183545943714656, w1=-0.031020107547022797\n",
      "Gradient Descent(99/99): loss=0.389584458888927, w0=0.4196127236674166, w1=-0.03291912368349278\n",
      "Gradient Descent(100/99): loss=0.3882537507258965, w0=0.41740405841222894, w1=-0.03477839882322677\n"
     ]
    }
   ],
   "source": [
    "w_reg_logreg, loss_reg_logreg = f.reg_logistic_regression(y_train_processed_logreg, tX_train, 0.01, np.ones(22), 100, 0.1)"
   ]
  },
  {
   "cell_type": "code",
   "execution_count": 117,
   "metadata": {},
   "outputs": [
    {
     "name": "stdout",
     "output_type": "stream",
     "text": [
      "weights = \n",
      " [ 0.41740406 -0.0347784   0.02820227 -0.02871117  0.76251219  0.49102874\n",
      "  0.28948992  0.32714718 -0.18646387  0.39548634 -0.86924372 -0.34607578\n",
      "  0.36652173  0.4430387   0.29726436  0.45858772  0.00361668  0.76280634\n",
      "  0.43376869  0.55855625  0.64858325  0.66830989] \n",
      " Loss =  0.3882537507258965 \n",
      "*****************************************************************************  \n",
      " Train sample : \n",
      " Heart attack rate =  0.09400982168649387 \n",
      " \n",
      " Test sample : \n",
      " Heart attack rate =  0.013146947768767313\n"
     ]
    }
   ],
   "source": [
    "y_test_reg_logreg = tX_test.dot(w_reg_logreg)\n",
    "y_test_reg_logreg = np.where(y_test_reg_logreg > 0.5, 1, 0)\n",
    "\n",
    "print('weights = \\n', w_reg_logreg,'\\n Loss = ', loss_reg_logreg,'\\n*****************************************************************************',\n",
    "        ' \\n Train sample : \\n', 'Heart attack rate = ', np.count_nonzero(y_train_processed == 1)/len(y_train_processed), '\\n \\n Test sample : \\n', 'Heart attack rate = ', np.count_nonzero(y_test_reg_logreg == 1)/len(y_test_reg_logreg))\n"
   ]
  },
  {
   "cell_type": "code",
   "execution_count": 119,
   "metadata": {},
   "outputs": [],
   "source": [
    "y_sub = np.where(y_test_reg_logreg == 1, 1, -1)\n",
    "h.create_csv_submission(test_ids, y_sub, 'submission_reg_logreg2.csv')"
   ]
  },
  {
   "cell_type": "code",
   "execution_count": null,
   "metadata": {},
   "outputs": [],
   "source": []
  }
 ],
 "metadata": {
  "kernelspec": {
   "display_name": "Python3",
   "language": "python",
   "name": "python3"
  },
  "language_info": {
   "codemirror_mode": {
    "name": "ipython",
    "version": 3
   },
   "file_extension": ".py",
   "mimetype": "text/x-python",
   "name": "python",
   "nbconvert_exporter": "python",
   "pygments_lexer": "ipython3",
   "version": "3.11.5"
  }
 },
 "nbformat": 4,
 "nbformat_minor": 4
}
